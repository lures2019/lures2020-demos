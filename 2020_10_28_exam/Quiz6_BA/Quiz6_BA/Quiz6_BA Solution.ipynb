{
 "cells": [
  {
   "cell_type": "markdown",
   "metadata": {
    "colab_type": "text",
    "id": "3s9mJSvwu1t_"
   },
   "source": [
    "<div class=\"alert alert-warning\">\n",
    "\n",
    "<p>Start by importing the numpy package as <tt>np</tt>.</p>\n",
    "  \n",
    "  </div>"
   ]
  },
  {
   "cell_type": "code",
   "execution_count": 1,
   "metadata": {
    "cellView": "both",
    "colab": {},
    "colab_type": "code",
    "id": "SYT8jejjstFc"
   },
   "outputs": [],
   "source": [
    "import numpy as np"
   ]
  },
  {
   "cell_type": "markdown",
   "metadata": {
    "colab_type": "text",
    "id": "C904kC9gNzsh"
   },
   "source": [
    "<div class=\"alert alert-warning\">\n",
    "<b>QUESTION 1:</b>\n",
    "    <p>The small lists of lists called <code>football</code> contains height and weight data for 4 football players. </p>\n",
    "\n",
    "  <p>1. Create a 2D numpy array from <code>football</code> and assign it to the variable <code>np_football</code>.</p>\n",
    "  <p>2. Print out the shape of <code>np_football</code>.</p>\n",
    " \n",
    "  \n",
    "  \n",
    "\n",
    "</div>"
   ]
  },
  {
   "cell_type": "code",
   "execution_count": 50,
   "metadata": {
    "colab": {},
    "colab_type": "code",
    "id": "QMtxSu0ON0Zm"
   },
   "outputs": [],
   "source": [
    "football = [[185, 68.4],\n",
    "            [170, 72],\n",
    "            [176, 83],\n",
    "            [190, 78.2]]"
   ]
  },
  {
   "cell_type": "code",
   "execution_count": 51,
   "metadata": {
    "colab": {
     "base_uri": "https://localhost:8080/",
     "height": 34
    },
    "colab_type": "code",
    "id": "8A0gO0kqN2El",
    "outputId": "17964705-30a1-4949-80de-ea0b4952ee14"
   },
   "outputs": [
    {
     "data": {
      "text/plain": [
       "(4, 2)"
      ]
     },
     "execution_count": 51,
     "metadata": {},
     "output_type": "execute_result"
    }
   ],
   "source": [
    "#Solution\n",
    "np_football = np.array(football)\n",
    "np_football.shape"
   ]
  },
  {
   "cell_type": "markdown",
   "metadata": {
    "colab_type": "text",
    "id": "2zmd_XE43C8Q"
   },
   "source": [
    "<div class=\"alert alert-warning\">\n",
    "<b>QUESTION 2:</b>\n",
    "    <p><b><u>Print</u></b> an array of shape $12 x 12$ that has zeros along the edges and $0.5$ inside. The expected output is:</p>\n",
    "    \n",
    " <code>[[0.  0.  0.  0.  0.  0.  0.  0.  0.  0.  0.  0. ]\n",
    " [0.  0.5 0.5 0.5 0.5 0.5 0.5 0.5 0.5 0.5 0.5 0. ]\n",
    " [0.  0.5 0.5 0.5 0.5 0.5 0.5 0.5 0.5 0.5 0.5 0. ]\n",
    " [0.  0.5 0.5 0.5 0.5 0.5 0.5 0.5 0.5 0.5 0.5 0. ]\n",
    " [0.  0.5 0.5 0.5 0.5 0.5 0.5 0.5 0.5 0.5 0.5 0. ]\n",
    " [0.  0.5 0.5 0.5 0.5 0.5 0.5 0.5 0.5 0.5 0.5 0. ]\n",
    " [0.  0.5 0.5 0.5 0.5 0.5 0.5 0.5 0.5 0.5 0.5 0. ]\n",
    " [0.  0.5 0.5 0.5 0.5 0.5 0.5 0.5 0.5 0.5 0.5 0. ]\n",
    " [0.  0.5 0.5 0.5 0.5 0.5 0.5 0.5 0.5 0.5 0.5 0. ]\n",
    " [0.  0.5 0.5 0.5 0.5 0.5 0.5 0.5 0.5 0.5 0.5 0. ]\n",
    " [0.  0.5 0.5 0.5 0.5 0.5 0.5 0.5 0.5 0.5 0.5 0. ]\n",
    " [0.  0.  0.  0.  0.  0.  0.  0.  0.  0.  0.  0. ]]</code>\n",
    "  \n",
    "  \n",
    "\n",
    "</div>"
   ]
  },
  {
   "cell_type": "code",
   "execution_count": 24,
   "metadata": {
    "colab": {
     "base_uri": "https://localhost:8080/",
     "height": 187
    },
    "colab_type": "code",
    "id": "zsdjeqGVXyK-",
    "outputId": "ce0a6fe5-9d51-4ad7-f24f-a5d1739fa3fb"
   },
   "outputs": [
    {
     "name": "stdout",
     "output_type": "stream",
     "text": [
      "[[0.  0.  0.  0.  0.  0.  0.  0.  0.  0.  0.  0. ]\n",
      " [0.  0.5 0.5 0.5 0.5 0.5 0.5 0.5 0.5 0.5 0.5 0. ]\n",
      " [0.  0.5 0.5 0.5 0.5 0.5 0.5 0.5 0.5 0.5 0.5 0. ]\n",
      " [0.  0.5 0.5 0.5 0.5 0.5 0.5 0.5 0.5 0.5 0.5 0. ]\n",
      " [0.  0.5 0.5 0.5 0.5 0.5 0.5 0.5 0.5 0.5 0.5 0. ]\n",
      " [0.  0.5 0.5 0.5 0.5 0.5 0.5 0.5 0.5 0.5 0.5 0. ]\n",
      " [0.  0.5 0.5 0.5 0.5 0.5 0.5 0.5 0.5 0.5 0.5 0. ]\n",
      " [0.  0.5 0.5 0.5 0.5 0.5 0.5 0.5 0.5 0.5 0.5 0. ]\n",
      " [0.  0.5 0.5 0.5 0.5 0.5 0.5 0.5 0.5 0.5 0.5 0. ]\n",
      " [0.  0.5 0.5 0.5 0.5 0.5 0.5 0.5 0.5 0.5 0.5 0. ]\n",
      " [0.  0.5 0.5 0.5 0.5 0.5 0.5 0.5 0.5 0.5 0.5 0. ]\n",
      " [0.  0.  0.  0.  0.  0.  0.  0.  0.  0.  0.  0. ]]\n"
     ]
    }
   ],
   "source": [
    "#Solution\n",
    "array = np.zeros((12,12))\n",
    "array[1:11,1:11] = 0.5\n",
    "print(np.modf(array)[0])"
   ]
  },
  {
   "cell_type": "markdown",
   "metadata": {
    "colab_type": "text",
    "id": "EYWdxvXi5cRY"
   },
   "source": [
    "<div class=\"alert alert-warning\">\n",
    "<b>QUESTION 3:</b>\n",
    "    <p> <b><u>Print</u></b> the array with cumulative sum of elements of the array <tt>a</tt>. </p>\n",
    "  <p><tt>a = np.array([1, 3, 5, 7, 9, 11, 13, 15, 17, 19, 21])</tt></p>\n",
    "    <p>This is the expected output:</p>\n",
    "    <code>[  1   4   9  16  25  36  49  64  81 100 121]</code>\n",
    "  \n",
    "\n",
    "</div>"
   ]
  },
  {
   "cell_type": "code",
   "execution_count": 23,
   "metadata": {
    "colab": {
     "base_uri": "https://localhost:8080/",
     "height": 34
    },
    "colab_type": "code",
    "id": "E7d756Dq2KGC",
    "outputId": "28b38bab-f127-4f54-c1d7-81a13e7db1c5"
   },
   "outputs": [
    {
     "name": "stdout",
     "output_type": "stream",
     "text": [
      "[  1   4   9  16  25  36  49  64  81 100 121]\n"
     ]
    }
   ],
   "source": [
    "#Solution\n",
    "import numpy as np\n",
    "a = np.array([1,3,5,7,9,11,13,15,17,19,21])\n",
    "print(a.cumsum())"
   ]
  },
  {
   "cell_type": "markdown",
   "metadata": {
    "colab_type": "text",
    "id": "0uEm_uEMDHtM"
   },
   "source": [
    "<div class=\"alert alert-warning\">\n",
    "<b>QUESTION 4:</b>\n",
    "    <p>Use <b>one</b> line of <tt>numpy</tt> code to create and <b><u>print</b></u> the below array:</p>\n",
    "\n",
    "  <code>[[0. 0. 0. 0.]\n",
    " [1. 0. 0. 0.]\n",
    " [1. 1. 0. 0.]\n",
    " [1. 1. 1. 0.]]</code\n",
    "  \n",
    "\n",
    "</div>"
   ]
  },
  {
   "cell_type": "code",
   "execution_count": 22,
   "metadata": {
    "colab": {
     "base_uri": "https://localhost:8080/",
     "height": 85
    },
    "colab_type": "code",
    "id": "gH7G1zJg_sBc",
    "outputId": "68192c66-842f-49a0-8fd0-09019d7613e2"
   },
   "outputs": [
    {
     "name": "stdout",
     "output_type": "stream",
     "text": [
      "[[0. 0. 0. 0.]\n",
      " [1. 0. 0. 0.]\n",
      " [1. 1. 0. 0.]\n",
      " [1. 1. 1. 0.]]\n"
     ]
    }
   ],
   "source": [
    "#Solution\n",
    "(np.triu(np.ones((4, 4)), 1)).T\n",
    "#or\n",
    "print(np.tril(np.ones((4, 4)), -1))\n"
   ]
  },
  {
   "cell_type": "markdown",
   "metadata": {
    "colab_type": "text",
    "id": "4fzK8bXeE2Vr"
   },
   "source": [
    "<div class=\"alert alert-warning\">\n",
    "<b>QUESTION 5:</b>\n",
    "    <p>Use one line of <tt>numpy</tt> code to create and <b><u>print</b></u> a $5x5$ identity matrix.</p>\n",
    "    <p>Identity matrix is a square matrix with ones on the diagonal and zeros elsewhere.</p>\n",
    "    <p>This is the expected output:</p>\n",
    "     <code>\n",
    "[[1. 0. 0. 0. 0.]\n",
    " [0. 1. 0. 0. 0.]\n",
    " [0. 0. 1. 0. 0.]\n",
    " [0. 0. 0. 1. 0.]\n",
    " [0. 0. 0. 0. 1.]]</code \n",
    "\n",
    "</div>"
   ]
  },
  {
   "cell_type": "code",
   "execution_count": 21,
   "metadata": {
    "colab": {
     "base_uri": "https://localhost:8080/",
     "height": 68
    },
    "colab_type": "code",
    "id": "P1BSvc2wE4jm",
    "outputId": "cde58449-a996-41ec-81a4-12baa1835064"
   },
   "outputs": [
    {
     "name": "stdout",
     "output_type": "stream",
     "text": [
      "[[1. 0. 0. 0. 0.]\n",
      " [0. 1. 0. 0. 0.]\n",
      " [0. 0. 1. 0. 0.]\n",
      " [0. 0. 0. 1. 0.]\n",
      " [0. 0. 0. 0. 1.]]\n"
     ]
    }
   ],
   "source": [
    "#Solution\n",
    "print(np.eye(5,5))"
   ]
  },
  {
   "cell_type": "markdown",
   "metadata": {
    "colab_type": "text",
    "id": "B0QVfWyBE4EY"
   },
   "source": [
    "<div class=\"alert alert-warning\">\n",
    "<b>QUESTION 6:</b>\n",
    "    <p>In the below array <code>arr2</code> replace the middle row with $8$s and <b><u>print</b></u> the changed array.</p>\n",
    "    <p><code>arr2 = np.array([0, 1, 2, 3, 4, 5, 6, 7, 8]).reshape(3,3)</code></p>\n",
    "  <p></p>\n",
    "  \n",
    "  \n",
    "\n",
    "</div>"
   ]
  },
  {
   "cell_type": "code",
   "execution_count": 20,
   "metadata": {
    "colab": {
     "base_uri": "https://localhost:8080/",
     "height": 68
    },
    "colab_type": "code",
    "id": "X77SdF01JII4",
    "outputId": "e70dfce5-aa20-479f-acb2-323e1d0bc71a"
   },
   "outputs": [
    {
     "name": "stdout",
     "output_type": "stream",
     "text": [
      "[[0 1 2]\n",
      " [8 8 8]\n",
      " [6 7 8]]\n"
     ]
    }
   ],
   "source": [
    "#Solution\n",
    "arr2 = np.array([0, 1, 2, 3, 4, 5, 6, 7, 8]).reshape(3,3)\n",
    "arr2[1:3:2] = 8\n",
    "print(arr2)"
   ]
  },
  {
   "cell_type": "markdown",
   "metadata": {
    "colab_type": "text",
    "id": "GYRxwBHjQ0M0"
   },
   "source": [
    "<div class=\"alert alert-warning\">\n",
    "<b>QUESTION 7:</b>\n",
    "    <p><b><u>Print</u></b> the last row of the two-dimensional array <tt>X</tt>.</p>\n",
    "  <code> X = np.random.randn(6, 3) </code>\n",
    "</div>"
   ]
  },
  {
   "cell_type": "code",
   "execution_count": 19,
   "metadata": {
    "colab": {
     "base_uri": "https://localhost:8080/",
     "height": 34
    },
    "colab_type": "code",
    "id": "n4p8rG1PKE2P",
    "outputId": "f943082b-9eb5-4709-ee67-604acc87b9e6"
   },
   "outputs": [
    {
     "name": "stdout",
     "output_type": "stream",
     "text": [
      "[1.60977264 0.2052944  0.83200289]\n"
     ]
    }
   ],
   "source": [
    "#Solution\n",
    "X = np.random.randn(6, 3)\n",
    "print(X[-1,:])"
   ]
  },
  {
   "cell_type": "markdown",
   "metadata": {
    "colab_type": "text",
    "id": "jeUHveuKTzBJ"
   },
   "source": [
    "<div class=\"alert alert-warning\">\n",
    "<b>QUESTION 8:</b>\n",
    "    <p>Calculate a PE (price to earnings) ratio by diving the <tt>prices_array</tt> with the <tt>earnings_array</tt> and assign it to the variable <code>PE</code>. Print <code>PE</code>.</p>\n",
    " <p> <code> prices_array = np.array([170.12,  93.29,  55.28, 145.3 , 171.81,  59.5 , 100.5 ]) </code>\n",
    " </p>\n",
    " </p> <code> earnings_array = np.array([ 9.2 ,  5.31,  2.41,  5.91, 15.42,  2.51,  6.79]) </code> </p>\n",
    "   \n",
    "  \n",
    "\n",
    "</div>"
   ]
  },
  {
   "cell_type": "code",
   "execution_count": 0,
   "metadata": {
    "colab": {
     "base_uri": "https://localhost:8080/",
     "height": 51
    },
    "colab_type": "code",
    "id": "3LkYE6isR7fw",
    "outputId": "84ffc2ea-b3d4-4a8e-917c-8e5ca19cd00c"
   },
   "outputs": [
    {
     "name": "stdout",
     "output_type": "stream",
     "text": [
      "[18.49130435 17.56873823 22.93775934 24.58544839 11.14202335 23.70517928\n",
      " 14.8011782 ]\n"
     ]
    }
   ],
   "source": [
    "#Solution\n",
    "prices_array = np.array([170.12,  93.29,  55.28, 145.3 , 171.81,  59.5 , 100.5 ])\n",
    "earnings_array = np.array([ 9.2 ,  5.31,  2.41,  5.91, 15.42,  2.51,  6.79])\n",
    "\n",
    "PE = prices_array/earnings_array\n",
    "print(PE)"
   ]
  },
  {
   "cell_type": "markdown",
   "metadata": {
    "colab_type": "text",
    "id": "ckKvv1f2V54I"
   },
   "source": [
    "<div class=\"alert alert-warning\">\n",
    "<b>QUESTION 9:</b>\n",
    "\n",
    "Define an array called <code>data</code> using the following code:\n",
    "\n",
    "<code>data = np.array([[10,2,3],[1,3,3],[2,34,4],[5,4,3]])</code>\n",
    "\n",
    "<br>\n",
    "For each row in the array, apply the following formula:\n",
    "\n",
    "$x_{1}\\times2 + x_{2}\\times5 + x_{3}\\times3$\n",
    "\n",
    "<br>\n",
    "For instance, if you apply the formula to the first row, you will get 39 ($10\\times2 + 2\\times5 + 3\\times3$).\n",
    "\n",
    "Print the new array after applying the formula to each row. The expected output is:\n",
    "\n",
    "<code>[ 39  26 186  39]</code>\n",
    "</div>"
   ]
  },
  {
   "cell_type": "code",
   "execution_count": 3,
   "metadata": {
    "colab": {
     "base_uri": "https://localhost:8080/",
     "height": 68
    },
    "colab_type": "code",
    "id": "xqKX0AxhVQOH",
    "outputId": "712fa533-ca8b-40fa-af96-80b9188d49b3",
    "scrolled": true
   },
   "outputs": [
    {
     "name": "stdout",
     "output_type": "stream",
     "text": [
      "[ 39  26 186  39]\n"
     ]
    }
   ],
   "source": [
    "#Solution\n",
    "data = np.array([[10,2,3],[1,3,3],[2,34,4],[5,4,3]])\n",
    "print((data*[2,5,3]).sum(axis=1))"
   ]
  },
  {
   "cell_type": "markdown",
   "metadata": {
    "colab_type": "text",
    "id": "ckKvv1f2V54I"
   },
   "source": [
    "<div class=\"alert alert-warning\">\n",
    "<b>QUESTION 10:</b>\n",
    "    <p> <b><u>Print</u></b> an array of shape $4$ $X$ $4$, with the first value of $1000$ and next values being $25\\%$ larger than the previous one. It should look like this:<p>\n",
    "<p> <code> [[ 1000.          1250.          1562.5         1953.125     ]\n",
    " [ 2441.40625     3051.7578125   3814.69726562  4768.37158203]\n",
    " [ 5960.46447754  7450.58059692  9313.22574615 11641.53218269]\n",
    " [14551.91522837 18189.89403546 22737.36754432 28421.7094304 ]]</code> </p>\n",
    "  \n",
    "\n",
    "</div>"
   ]
  },
  {
   "cell_type": "code",
   "execution_count": 18,
   "metadata": {},
   "outputs": [
    {
     "name": "stdout",
     "output_type": "stream",
     "text": [
      "[[ 1000.          1250.          1562.5         1953.125     ]\n",
      " [ 2441.40625     3051.7578125   3814.69726562  4768.37158203]\n",
      " [ 5960.46447754  7450.58059692  9313.22574615 11641.53218269]\n",
      " [14551.91522837 18189.89403546 22737.36754432 28421.7094304 ]]\n"
     ]
    }
   ],
   "source": [
    "#Solution\n",
    "print(1000*(1.25**np.arange(16)).reshape(4,4))"
   ]
  },
  {
   "cell_type": "code",
   "execution_count": null,
   "metadata": {},
   "outputs": [],
   "source": []
  },
  {
   "cell_type": "code",
   "execution_count": null,
   "metadata": {},
   "outputs": [],
   "source": []
  }
 ],
 "metadata": {
  "kernelspec": {
   "display_name": "Python 3",
   "language": "python",
   "name": "python3"
  },
  "language_info": {
   "codemirror_mode": {
    "name": "ipython",
    "version": 3
   },
   "file_extension": ".py",
   "mimetype": "text/x-python",
   "name": "python",
   "nbconvert_exporter": "python",
   "pygments_lexer": "ipython3",
   "version": "3.7.0"
  }
 },
 "nbformat": 4,
 "nbformat_minor": 2
}
