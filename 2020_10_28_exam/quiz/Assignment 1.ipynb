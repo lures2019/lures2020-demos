{
 "cells": [
  {
   "cell_type": "markdown",
   "metadata": {},
   "source": [
    "# AF5365 Assignment 1 (Due 11:59pm, October 7, 2020, one submission per group) \n",
    "\n",
    "Please choose 5 stocks and perform statistical analysis of these 5 stocks using the libraries taught in class. \n",
    "\n",
    "**Grading Rubric**\n",
    "1. Correction of Code (90\\%): Code works and outputs are correct \n",
    "    - Part 1 (30\\%)\n",
    "    - Part 2 (30\\%)\n",
    "    - Part 3 (30\\%)\n",
    "2. Readability of Code (10\\%) : Code is well organized and easy to read."
   ]
  },
  {
   "cell_type": "markdown",
   "metadata": {},
   "source": [
    "# Group Information (Please double-click the cell and fill these)\n",
    "## Group number:\n",
    "\n",
    "## Group member names:"
   ]
  },
  {
   "cell_type": "markdown",
   "metadata": {},
   "source": [
    "## 1. Grabbing the Data\n",
    "\n",
    "Grab the data using yahoofinancials and convert them into a pandas dataframe. \n",
    "\n",
    "1. Grab stock data for 5 different stocks from Hang Seng Index or the S&P500. \n",
    "\n",
    "Note: Please use daily price data for 1 month, 1 December 2018 - 31 December 2018. "
   ]
  },
  {
   "cell_type": "code",
   "execution_count": null,
   "metadata": {},
   "outputs": [],
   "source": []
  },
  {
   "cell_type": "markdown",
   "metadata": {},
   "source": [
    "## 2. Calculation \n",
    "\n",
    "Calculate the following numbers from the data. For stock prices, please use the adjclose data. For stock returns, please calculate log returns.\n",
    "\n",
    "Print the following: \n",
    "- Percent Returns from Price Data\n",
    "- Average of Returns \n",
    "- Mode of Returns \n",
    "- Standard Deviation of Returns \n",
    "- Correlation Matrix "
   ]
  },
  {
   "cell_type": "code",
   "execution_count": null,
   "metadata": {},
   "outputs": [],
   "source": []
  },
  {
   "cell_type": "code",
   "execution_count": null,
   "metadata": {},
   "outputs": [],
   "source": [
    "# Please run the following code. If there is an error, please explain why there is an error.\n",
    "from statistics import mode\n",
    "mode([1, 2, 3, 4, 5, 6, 7, 8])"
   ]
  },
  {
   "cell_type": "markdown",
   "metadata": {},
   "source": [
    "Explain:"
   ]
  },
  {
   "cell_type": "markdown",
   "metadata": {},
   "source": [
    "## 3. Visualization \n",
    "\n",
    "Create and display a Histogram of returns for each of the 5 stocks. Please adjust the width of bins based on your preference.\n"
   ]
  },
  {
   "cell_type": "code",
   "execution_count": null,
   "metadata": {},
   "outputs": [],
   "source": []
  }
 ],
 "metadata": {
  "kernelspec": {
   "display_name": "Python 3",
   "language": "python",
   "name": "python3"
  },
  "language_info": {
   "codemirror_mode": {
    "name": "ipython",
    "version": 3
   },
   "file_extension": ".py",
   "mimetype": "text/x-python",
   "name": "python",
   "nbconvert_exporter": "python",
   "pygments_lexer": "ipython3",
   "version": "3.7.0"
  }
 },
 "nbformat": 4,
 "nbformat_minor": 2
}
