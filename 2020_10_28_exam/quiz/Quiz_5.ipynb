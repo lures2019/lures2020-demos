{
 "cells": [
  {
   "cell_type": "markdown",
   "metadata": {
    "deletable": false,
    "editable": false,
    "nbgrader": {
     "cell_type": "markdown",
     "checksum": "5ea2a2429a4851441ab10d955d27a70c",
     "grade": false,
     "grade_id": "cell-8f753fb477124825",
     "locked": true,
     "schema_version": 3,
     "solution": false,
     "task": false
    }
   },
   "source": [
    "<div class=\"image\">\n",
    "\n",
    "  <img style=\"float: right;\" src=\"https://dx5i3n065oxey.cloudfront.net/platform/4186/assets/logo.png?v=2e76f927-9482-4bfb-9092-d9a0b595cd2c\" width=\"45%\" align=\"right\">\n",
    "      <h4>\n",
    "          <p style=\"font-size:20pt\">Programming for Business Analytics</p>\n",
    "          <p style=\"font-size:15pt\">Quiz 5</p>\n",
    "      </h4>\n",
    "</div>\n",
    "\n",
    "- Make sure you have executed the code in the below cell.\n",
    "- Make sure you read the questions carefully and follow the instructions.\n",
    "- Make sure you put the answers in the Answer cells.\n",
    "- Please do not put your answers in comments (after #).\n",
    "- Please do not add any new cells between the Question and Answer cells.\n",
    "- Please do not change the names of the variables in Answer cells."
   ]
  },
  {
   "cell_type": "code",
   "execution_count": null,
   "metadata": {
    "deletable": false,
    "editable": false,
    "nbgrader": {
     "cell_type": "code",
     "checksum": "c61868afa3290e8bca53c5fac75a467a",
     "grade": false,
     "grade_id": "cell-1caa724cde882d33",
     "locked": true,
     "schema_version": 3,
     "solution": false,
     "task": false
    }
   },
   "outputs": [],
   "source": [
    "#Please make sure your Jupyter Notebook environment is running a Python 3 kernel \n",
    "import IPython\n",
    "assert IPython.version_info[0] >= 3, \"Your version of IPython is too old, please update it.\"\n",
    "%autosave 120"
   ]
  },
  {
   "cell_type": "markdown",
   "metadata": {
    "deletable": false,
    "editable": false,
    "nbgrader": {
     "cell_type": "markdown",
     "checksum": "7995f5f49dc36b3c649dd19c1cf7b102",
     "grade": false,
     "grade_id": "cell-1ad54529b2804357",
     "locked": true,
     "schema_version": 3,
     "solution": false,
     "task": false
    }
   },
   "source": [
    "<div class=\"alert alert-warning\"> \n",
    "<b>QUESTION 1:</b> \n",
    "<p>What is a potential reason for an IndentationError to be raised?</p>\n",
    "<p> a) A variable that was used has not been defined.</p>\n",
    "<p> b) A block of code is missing a tab.</p>\n",
    "<p> c) There is an assertion that is False.</p>\n",
    "<p> d) A value that is used is a string instead of an integer.</p>\n",
    "\n",
    "</div>"
   ]
  },
  {
   "cell_type": "code",
   "execution_count": null,
   "metadata": {
    "deletable": false,
    "nbgrader": {
     "cell_type": "code",
     "checksum": "32f9d7cab14da3291fd22f6478652ee8",
     "grade": false,
     "grade_id": "cell-80a2f4212fce3781",
     "locked": false,
     "schema_version": 3,
     "solution": true,
     "task": false
    }
   },
   "outputs": [],
   "source": [
    "###ANSWER(1). Please assign the letter representing the correct answer to the variable \n",
    "### (write it down between the \"\")\n",
    "\n",
    "question_1 = \"b\" # YOUR CODE SHOULD BE BETWEEN \"\"\n"
   ]
  },
  {
   "cell_type": "code",
   "execution_count": null,
   "metadata": {
    "deletable": false,
    "editable": false,
    "nbgrader": {
     "cell_type": "code",
     "checksum": "1b5b494774c8e9286221f34220732302",
     "grade": true,
     "grade_id": "cell-835ced5bccf7799e",
     "locked": true,
     "points": 10,
     "schema_version": 3,
     "solution": false,
     "task": false
    }
   },
   "outputs": [],
   "source": [
    "#Please leave this cell blank."
   ]
  },
  {
   "cell_type": "markdown",
   "metadata": {
    "deletable": false,
    "editable": false,
    "nbgrader": {
     "cell_type": "markdown",
     "checksum": "b626975fbccf1359019acea6769ba646",
     "grade": false,
     "grade_id": "cell-aada8bc67a36bd6f",
     "locked": true,
     "schema_version": 3,
     "solution": false,
     "task": false
    }
   },
   "source": [
    "<div class=\"alert alert-warning\"> \n",
    "<b>QUESTION 2:</b>\n",
    "<p>Define a varible named <code>question_2</code> using <b>ONE LINE</b> of code. Please make sure when printing the variable, the print out is as follows.</p>\n",
    "\n",
    "```\n",
    "Dear Alice,\n",
    "\n",
    "Eve's cat has been found in hotel \"Kitty\".\n",
    "\n",
    "Sincerely,\n",
    "Bob\n",
    "```\n",
    "\n",
    "</div>"
   ]
  },
  {
   "cell_type": "code",
   "execution_count": null,
   "metadata": {
    "deletable": false,
    "nbgrader": {
     "cell_type": "code",
     "checksum": "00d828710941b151ebdd6a84e2779afc",
     "grade": false,
     "grade_id": "cell-75304455a1925d44",
     "locked": false,
     "schema_version": 3,
     "solution": true,
     "task": false
    }
   },
   "outputs": [],
   "source": [
    "###ANSWER(1)\n",
    "question_2 = \"Dear Alice,\\nEve's cat has been found in hotel \\\"Kitty\\\".\\nSincerely,\\nBob\"  # complete the code here\n",
    "print(question_2)\n"
   ]
  },
  {
   "cell_type": "code",
   "execution_count": null,
   "metadata": {
    "deletable": false,
    "editable": false,
    "nbgrader": {
     "cell_type": "code",
     "checksum": "823fcb786e0ab06f1e261c2695f9fe92",
     "grade": true,
     "grade_id": "cell-a098b5b94b8c3138",
     "locked": true,
     "points": 10,
     "schema_version": 3,
     "solution": false,
     "task": false
    }
   },
   "outputs": [],
   "source": [
    "#Please leave this cell blank."
   ]
  },
  {
   "cell_type": "markdown",
   "metadata": {
    "deletable": false,
    "editable": false,
    "nbgrader": {
     "cell_type": "markdown",
     "checksum": "5c0b7c7b0f92029e80cfa3e0c86b983f",
     "grade": false,
     "grade_id": "cell-98843bd7c0abf400",
     "locked": true,
     "schema_version": 3,
     "solution": false,
     "task": false
    }
   },
   "source": [
    "<div class=\"alert alert-warning\">\n",
    "<b>QUESTION 3:</b>\n",
    "\n",
    "<p>One of the activation functions used in neural network is SQNL. When SQNL is used, the following equation is applied to the input signal:</p>\n",
    "    \n",
    "<p>$f(x) = \\left\\{\\begin{matrix} 1 & :x>2.0\\\\ x-\\frac{x^{2}}{4}&:0\\leq x\\leq 2.0 \\\\ x+\\frac{x^{2}}{4}&:-2.0\\leq x<0 \\\\ -1 & :x<-2.0 \\end{matrix}\\right.$</p>\n",
    "<br>    \n",
    "<p>Write a function called <code>SQNL</code> which takes a number as the argument. The function would <b>return</b> the result of applying the activation function.</p>\n",
    "\n",
    "</div>"
   ]
  },
  {
   "cell_type": "code",
   "execution_count": null,
   "metadata": {
    "deletable": false,
    "nbgrader": {
     "cell_type": "code",
     "checksum": "13b5863a4a8b33d9d0df8d6a07f61142",
     "grade": false,
     "grade_id": "cell-fc65c2d9c992e18b",
     "locked": false,
     "schema_version": 3,
     "solution": true,
     "task": false
    }
   },
   "outputs": [],
   "source": [
    "###ANSWER(3)\n",
    "# Please write your code here.\n",
    "def SQNL(num):\n",
    "    if num < -2.0:\n",
    "        return -1\n",
    "    elif num < 0:\n",
    "        return (num + (num ** 2)/4)\n",
    "    elif num <= 2.0:\n",
    "        return (num - (num ** 2)/4)\n",
    "    else:\n",
    "        return 1"
   ]
  },
  {
   "cell_type": "code",
   "execution_count": null,
   "metadata": {
    "deletable": false,
    "editable": false,
    "nbgrader": {
     "cell_type": "code",
     "checksum": "5fc0956789675feff3423235a8daf497",
     "grade": true,
     "grade_id": "cell-d0b4b4331fc9729a",
     "locked": true,
     "points": 10,
     "schema_version": 3,
     "solution": false,
     "task": false
    }
   },
   "outputs": [],
   "source": [
    "#Please leave this cell blank."
   ]
  },
  {
   "cell_type": "markdown",
   "metadata": {
    "deletable": false,
    "editable": false,
    "nbgrader": {
     "cell_type": "markdown",
     "checksum": "aa93b967997204ea1e7057cffb8b2293",
     "grade": false,
     "grade_id": "cell-b40001da61c03623",
     "locked": true,
     "schema_version": 3,
     "solution": false,
     "task": false
    }
   },
   "source": [
    "<div class=\"alert alert-warning\">\n",
    "<b>QUESTION 4:</b>\n",
    "<p>Below are the two sets, one is a set of engineers and the other one is a set of data scientists in a company.</p>\n",
    "<code>engineers = set(['Chris', 'John', 'Jane', 'Jack', 'Matt', 'Janice', 'Mary'])</code>\n",
    "<br>\n",
    "<code>data_scientists = set(['Mike', 'Jack', 'Sam', 'Susan', 'Janice', 'Mary'])</code>\n",
    "<br>\n",
    "<p>Using a set operation, create a set <code>engineers_and_data_scientists</code> which contains the names of people who are engineers and data scientists.</p>\n",
    "<p>Please do not write: <code>engineers_and_data_scientists = {'Janice', 'Mary', 'Jack'}</code>.</p>\n",
    "</div>"
   ]
  },
  {
   "cell_type": "code",
   "execution_count": null,
   "metadata": {
    "deletable": false,
    "nbgrader": {
     "cell_type": "code",
     "checksum": "6dec46971381601859397fcb2b3541e4",
     "grade": false,
     "grade_id": "cell-fbedf414f1b54709",
     "locked": false,
     "schema_version": 3,
     "solution": true,
     "task": false
    }
   },
   "outputs": [],
   "source": [
    "###ANSWER(4)\n",
    "engineers = set(['Chris', 'John', 'Jane', 'Jack', 'Matt', 'Janice', 'Mary'])\n",
    "data_scientists = set(['Mike', 'Jack', 'Sam', 'Susan', 'Janice', 'Mary'])\n",
    "# Please write your code here.\n",
    "engineers_and_data_scientists = []\n",
    "for i in engineers:\n",
    "    if i in data_scientists:\n",
    "        engineers_and_data_scientists.append(i)\n",
    "engineers_and_data_scientists = set(engineers_and_data_scientists)"
   ]
  },
  {
   "cell_type": "code",
   "execution_count": null,
   "metadata": {
    "deletable": false,
    "editable": false,
    "nbgrader": {
     "cell_type": "code",
     "checksum": "82be7102a50d20ad471965957d55a720",
     "grade": true,
     "grade_id": "cell-458bae9d4b589c32",
     "locked": true,
     "points": 10,
     "schema_version": 3,
     "solution": false,
     "task": false
    }
   },
   "outputs": [],
   "source": [
    "#Please leave this cell blank."
   ]
  },
  {
   "cell_type": "markdown",
   "metadata": {
    "deletable": false,
    "editable": false,
    "nbgrader": {
     "cell_type": "markdown",
     "checksum": "56eba0c5eaff2fd8fb984682bbfae3f0",
     "grade": false,
     "grade_id": "cell-886c58d8ef016fa5",
     "locked": true,
     "schema_version": 3,
     "solution": false,
     "task": false
    }
   },
   "source": [
    "<div class=\"alert alert-warning\">\n",
    "<b>QUESTION 5:</b>\n",
    "\n",
    "<p>A list called <code>nums</code> has been defined in the cell below. Please write <b>ONE LINE</b> of code to replace the negative numbers in <code>nums</code> with <code>'-'</code> and positive numbers with <code>'+'</code>. If we print the new list, the expected output would be: <code>['-', '-', '-', '+', '+', '-', '-', '-']</code>.</p>\n",
    "\n",
    "<br>\n",
    "<b>DO NOT</b> write <code>nums = ['-', '-', '-', '+', '+', '-', '-', '-']</code>.\n",
    "    \n",
    "</div>"
   ]
  },
  {
   "cell_type": "code",
   "execution_count": null,
   "metadata": {
    "deletable": false,
    "nbgrader": {
     "cell_type": "code",
     "checksum": "b793ae9c53f90deff8098db5e8d6d9aa",
     "grade": false,
     "grade_id": "cell-a93421f18c19f199",
     "locked": false,
     "schema_version": 3,
     "solution": true,
     "task": false
    }
   },
   "outputs": [],
   "source": [
    "###ANSWER(5)\n",
    "nums = [-1, -2, -3, 4, 5, -6, -7, -8]\n",
    "\n",
    "nums = ['+' if i>0 else '-' for i in nums]\n",
    "# Please write your code here (ONE LINE of code).\n",
    "\n",
    "print(nums)\n"
   ]
  },
  {
   "cell_type": "code",
   "execution_count": null,
   "metadata": {
    "deletable": false,
    "editable": false,
    "nbgrader": {
     "cell_type": "code",
     "checksum": "0b2635930c80b9e152129d67b18f891e",
     "grade": true,
     "grade_id": "cell-3378c131f260174d",
     "locked": true,
     "points": 10,
     "schema_version": 3,
     "solution": false,
     "task": false
    }
   },
   "outputs": [],
   "source": [
    "#Please leave this cell blank."
   ]
  },
  {
   "cell_type": "markdown",
   "metadata": {
    "deletable": false,
    "editable": false,
    "nbgrader": {
     "cell_type": "markdown",
     "checksum": "7cf639191c77ad49ebc6edcf9d98588f",
     "grade": false,
     "grade_id": "cell-f12a35c8e63787f7",
     "locked": true,
     "schema_version": 3,
     "solution": false,
     "task": false
    }
   },
   "source": [
    "<div class=\"alert alert-warning\">\n",
    "<b>QUESTION 6: </b> \n",
    "\n",
    "<p>Using a <b>while</b> loop, calculate the cube sum of the first 10 natural numbers and assign the result to variable named <code>question_6</code>.</p>\n",
    "\n",
    "<p>$1^{3}+2^{3}+3^{3}+4^{3}+5^{3}+6^{3}+7^{3}+8^{3}+9^{3}+10^{3}$<p>\n",
    "\n",
    "<br>\n",
    "<p>The expected value in <code>question_6</code> would be $3025$.</p>\n",
    "</div>"
   ]
  },
  {
   "cell_type": "code",
   "execution_count": null,
   "metadata": {
    "deletable": false,
    "nbgrader": {
     "cell_type": "code",
     "checksum": "e30f1f804c87aee0cdd01876d7e1d470",
     "grade": false,
     "grade_id": "cell-5d9a5ebd9c5d23e0",
     "locked": false,
     "schema_version": 3,
     "solution": true,
     "task": false
    }
   },
   "outputs": [],
   "source": [
    "###ANSWER(6)\n",
    "# Please write your code here.\n",
    "def question_6(number):\n",
    "    total = 0\n",
    "    if number < 0:\n",
    "        return \"error\"\n",
    "    elif number == 0:\n",
    "        return 0\n",
    "    else:\n",
    "        for i in range(1,int(number)+1):\n",
    "            total += (i ** 3)\n",
    "        return total\n"
   ]
  },
  {
   "cell_type": "code",
   "execution_count": null,
   "metadata": {
    "deletable": false,
    "editable": false,
    "nbgrader": {
     "cell_type": "code",
     "checksum": "7db3c71a25bc9e201518512de47c7c13",
     "grade": true,
     "grade_id": "cell-5904cbe2279e80f0",
     "locked": true,
     "points": 10,
     "schema_version": 3,
     "solution": false,
     "task": false
    }
   },
   "outputs": [],
   "source": [
    "#Please leave this cell blank."
   ]
  },
  {
   "cell_type": "markdown",
   "metadata": {
    "deletable": false,
    "editable": false,
    "nbgrader": {
     "cell_type": "markdown",
     "checksum": "92f83a5f2613ec542dc710cf81b53c39",
     "grade": false,
     "grade_id": "cell-92390d6703f5d568",
     "locked": true,
     "schema_version": 3,
     "solution": false,
     "task": false
    }
   },
   "source": [
    "<div class=\"alert alert-warning\">\n",
    "<b>QUESTION 7:</b>\n",
    "<p>A list called <code>matrix</code> has been defined in the cell below. Using <b>one line of code</b>, flatten the list <code>matrix</code> and reverse its order. Assign the flattened list to variable <code>flattened</code>.</p>\n",
    "<br>\n",
    "<p>Here is the expected output of <code>print(flattened)</code>:</p>\n",
    "<code>[6, '5', 4, 3, '2', 1, -1, '-2', -3, -4, '-5', -6]</code>\n",
    "<p>Please do not write: <code>flattened = [6, '5', 4, 3, '2', 1, -1, '-2', -3, -4, '-5', -6]</code>.</p>\n",
    "</div>"
   ]
  },
  {
   "cell_type": "code",
   "execution_count": null,
   "metadata": {
    "deletable": false,
    "nbgrader": {
     "cell_type": "code",
     "checksum": "0d77284239807e2f8efd2d90e2afc176",
     "grade": false,
     "grade_id": "cell-7e4015568b0a31f9",
     "locked": false,
     "schema_version": 3,
     "solution": true,
     "task": false
    }
   },
   "outputs": [],
   "source": [
    "###ANSWER(7)\n",
    "matrix = [[-6, \"-5\", -4], [-3, \"-2\", -1], [1, \"2\", 3], [4, \"5\", 6]]\n",
    "\n",
    "flattened =  [-int(matrix[i][j]) if type(matrix[i][j]) == int else '{}'.format(-int(matrix[i][j])) for i in range(len(matrix)) for j in range(len(matrix[i]))]\n",
    "# Please write your code here in one line\n",
    "\n",
    "print(flattened)\n"
   ]
  },
  {
   "cell_type": "code",
   "execution_count": null,
   "metadata": {
    "deletable": false,
    "editable": false,
    "nbgrader": {
     "cell_type": "code",
     "checksum": "224c7bf3417b1eca0ab93be8a261a3bc",
     "grade": true,
     "grade_id": "cell-f0b3dc82503af981",
     "locked": true,
     "points": 10,
     "schema_version": 3,
     "solution": false,
     "task": false
    }
   },
   "outputs": [],
   "source": [
    "#Please leave this cell blank."
   ]
  },
  {
   "cell_type": "markdown",
   "metadata": {
    "deletable": false,
    "editable": false,
    "nbgrader": {
     "cell_type": "markdown",
     "checksum": "721c11aa6d79746fda266524524ca2ca",
     "grade": false,
     "grade_id": "cell-c8fd49e4f0dbffbc",
     "locked": true,
     "schema_version": 3,
     "solution": false,
     "task": false
    }
   },
   "source": [
    "<div class=\"alert alert-warning\">\n",
    "<b>QUESTION 8:</b>\n",
    "<p>Define a function <code>temp_converter</code> that converts temperature from Fahrenheit to Celsius and Celsius to Fahrenheit.</p>\n",
    "<p>It should take two arguments: <code>t</code> temperature to be converted and <code>celsius_input</code> boolean value, if it is <code>True</code> it means that the input is in Celsius, if it is <code>False</code> it means that the input is in Fahrenheit.</p> \n",
    "<p>The converted temperature should be <b>returned</b> as an <b>integer</b>.</p>\n",
    "<p>Here is the formula to convert Celsius to Fahrenheit and Fahrenheit to Celsius:</p>\n",
    "<br>\n",
    "$Fahrenheit = Celsius * \\frac{9}{5} + 32$\n",
    "<br>\n",
    "$Celsius = (Fahrenheit - 32) * \\frac{5}{9}$\n",
    "<br>\n",
    "<p>Here is the expected output of <code>temp_converter(32, celsius_input = False)</code>:</p>\n",
    "<code>0</code>\n",
    "<p>Here is the expected output of <code>temp_converter(0, celsius_input = True)</code>:</p>\n",
    "<code>32</code>\n",
    "</div>"
   ]
  },
  {
   "cell_type": "code",
   "execution_count": null,
   "metadata": {
    "deletable": false,
    "nbgrader": {
     "cell_type": "code",
     "checksum": "2d00c069dd977c05e456a85dd1359373",
     "grade": false,
     "grade_id": "cell-3fdc0102cbf9d5f7",
     "locked": false,
     "schema_version": 3,
     "solution": true,
     "task": false
    }
   },
   "outputs": [],
   "source": [
    "###ANSWER(8)\n",
    "def temp_converter(t, celsius_input):\n",
    "    # Please write your code here in one line\n",
    "    if celsius_input == False:\n",
    "        x = (t - 32)*(5/9)\n",
    "    else:\n",
    "        x = t * (9/5) + 32\n",
    "    return x"
   ]
  },
  {
   "cell_type": "code",
   "execution_count": null,
   "metadata": {
    "deletable": false,
    "editable": false,
    "nbgrader": {
     "cell_type": "code",
     "checksum": "72b7c68ebb56a6cfc99638e05dce6a51",
     "grade": true,
     "grade_id": "cell-44a8896bf93ef803",
     "locked": true,
     "points": 10,
     "schema_version": 3,
     "solution": false,
     "task": false
    }
   },
   "outputs": [],
   "source": [
    "#Please leave this cell blank."
   ]
  },
  {
   "cell_type": "markdown",
   "metadata": {
    "deletable": false,
    "editable": false,
    "nbgrader": {
     "cell_type": "markdown",
     "checksum": "c383dd39289665b8f464faccf8f50fde",
     "grade": false,
     "grade_id": "cell-ce03aa2a82480452",
     "locked": true,
     "schema_version": 3,
     "solution": false,
     "task": false
    }
   },
   "source": [
    "<div class=\"alert alert-warning\">\n",
    "<b>QUESTION 9:</b>\n",
    "<p>Write a function named <code>question_9</code> that takes a string as an argument and checks if the character within the string is upper case and <b>returns</b> a dictionary with the upper case character as a key and the index of the character as the value.</p>\n",
    "<p>Run the function on the following string:</p>\n",
    "<code>ucl = \"University College London\"</code>\n",
    "<br>    \n",
    "<p>Here is the expected output of <code>question_9(ucl)</code>:</p>\n",
    "<code>{'U': 0, 'C': 11, 'L': 19}</code>\n",
    "</div>"
   ]
  },
  {
   "cell_type": "code",
   "execution_count": null,
   "metadata": {
    "deletable": false,
    "nbgrader": {
     "cell_type": "code",
     "checksum": "7af01c9fbba980ddd3d3d373641fc7cd",
     "grade": false,
     "grade_id": "cell-ee49baa245a47441",
     "locked": false,
     "schema_version": 3,
     "solution": true,
     "task": false
    }
   },
   "outputs": [],
   "source": [
    "###ANSWER(9)\n",
    "ucl = \"University College London\"\n",
    "\n",
    "# Please write your code here.\n",
    "def question_9(ucl):\n",
    "    my_dict = {}\n",
    "    string = ucl\n",
    "    for i in range(len(string)):\n",
    "        if string[i].upper() == string[i]:\n",
    "            my_dict[string[i]] = i\n",
    "    return my_dict\n",
    "question_9(ucl)\n"
   ]
  },
  {
   "cell_type": "code",
   "execution_count": null,
   "metadata": {
    "deletable": false,
    "editable": false,
    "nbgrader": {
     "cell_type": "code",
     "checksum": "4345d58687d35ef1a3a390f52e0affa8",
     "grade": true,
     "grade_id": "cell-796e03ade7fbe14b",
     "locked": true,
     "points": 10,
     "schema_version": 3,
     "solution": false,
     "task": false
    }
   },
   "outputs": [],
   "source": [
    "#Please leave this cell blank."
   ]
  },
  {
   "cell_type": "markdown",
   "metadata": {
    "deletable": false,
    "editable": false,
    "nbgrader": {
     "cell_type": "markdown",
     "checksum": "ffe887c3fcf46a684a00065fd7a9b42a",
     "grade": false,
     "grade_id": "cell-20d1d3be2b1c1693",
     "locked": true,
     "schema_version": 3,
     "solution": false,
     "task": false
    }
   },
   "source": [
    "<div class=\"alert alert-warning\">\n",
    "<b>QUESTION 10: </b> \n",
    "<p>For any listed company, Stock prices for <i>i</i> days are recorded in a list which has <i>i</i> elements. For example, the k-th item in the price list is the price of the given stock on the k-th day.</p> \n",
    "<br>\n",
    "<p>Please define a function called <code>max_profit</code> which takes the list of stock prices as the argument. The function would <b>return</b> the maximum profit (per share) you can get when buying and selling the stock <b>ONCE</b> in those days. Please note:</p>     \n",
    "<p>- You can only sell the stock after you've bought it.</p>\n",
    "<p>- You can buy and sell the stock in the same day but the profit would be 0.</p>\n",
    "<br>\n",
    "<p>If you call the function with argument being <code>[7, 8, 12, 6, 9, 13, 15, 10, 17]</code>, the return value is <code>11</code>. You can get the maximum profit when buying at price 6 and selling at price 17.</p>\n",
    "<p>If you call the function with argument being <code>[14, 20, 19, 14, 15, 18, 14, 14, 13, 8]</code>, the return value is <code>6</code>. You can get the maximum profit when buying at price 14 and selling at price 20.</p>\n",
    "</div>"
   ]
  },
  {
   "cell_type": "code",
   "execution_count": null,
   "metadata": {
    "deletable": false,
    "nbgrader": {
     "cell_type": "code",
     "checksum": "8587c23283c85ae22e7b6daf58868e2a",
     "grade": false,
     "grade_id": "cell-73b9e7dab46bf048",
     "locked": false,
     "schema_version": 3,
     "solution": true,
     "task": false
    }
   },
   "outputs": [],
   "source": [
    "###ANSWER(10)\n",
    "# Please write your code here.\n",
    "lst = [7, 8, 12, 6, 9, 13, 15, 10, 17]\n",
    "def max_profit(lst):\n",
    "    min_value = min(lst)\n",
    "    max_value = max(lst)\n",
    "    return (max(lst)-min(lst))\n",
    "\n",
    "print(max_profit(lst))"
   ]
  },
  {
   "cell_type": "code",
   "execution_count": null,
   "metadata": {
    "deletable": false,
    "editable": false,
    "nbgrader": {
     "cell_type": "code",
     "checksum": "8ecc5851fa7db74dc99fd6d1eec4ffe3",
     "grade": true,
     "grade_id": "cell-6163faa5ff5575be",
     "locked": true,
     "points": 10,
     "schema_version": 3,
     "solution": false,
     "task": false
    }
   },
   "outputs": [],
   "source": [
    "#Please leave this cell blank."
   ]
  }
 ],
 "metadata": {
  "kernelspec": {
   "display_name": "Python 3",
   "language": "python",
   "name": "python3"
  },
  "language_info": {
   "codemirror_mode": {
    "name": "ipython",
    "version": 3
   },
   "file_extension": ".py",
   "mimetype": "text/x-python",
   "name": "python",
   "nbconvert_exporter": "python",
   "pygments_lexer": "ipython3",
   "version": "3.7.0"
  }
 },
 "nbformat": 4,
 "nbformat_minor": 4
}
