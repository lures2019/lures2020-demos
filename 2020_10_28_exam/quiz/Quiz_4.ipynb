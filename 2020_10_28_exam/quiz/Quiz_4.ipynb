{
 "cells": [
  {
   "cell_type": "markdown",
   "metadata": {
    "deletable": false,
    "editable": false,
    "nbgrader": {
     "cell_type": "markdown",
     "checksum": "b005512712819e840f853491dc601907",
     "grade": false,
     "grade_id": "cell-84196092f0c3e9f6",
     "locked": true,
     "schema_version": 3,
     "solution": false,
     "task": false
    }
   },
   "source": [
    "<div class=\"image\">\n",
    "\n",
    "  <img style=\"float: right;\" src=\"https://dx5i3n065oxey.cloudfront.net/platform/4186/assets/logo.png?v=2e76f927-9482-4bfb-9092-d9a0b595cd2c\" width=\"45%\" align=\"right\">\n",
    "      <h4>\n",
    "          <p style=\"font-size:20pt\">Programming for Business Analytics</p>\n",
    "          <p style=\"font-size:15pt\">Quiz 4</p>\n",
    "      </h4>\n",
    "</div>\n",
    "\n",
    "- Make sure you have executed the code in the below cell.\n",
    "- Make sure you read the questions carefully and follow the instructions.\n",
    "- Make sure you put the answers in the Answer cells.\n",
    "- Please do not put your answers in comments (after #).\n",
    "- Please do not add any new cells between the Question and Answer cells.\n",
    "- Please do not change the names of the variables in Answer cells."
   ]
  },
  {
   "cell_type": "code",
   "execution_count": 1,
   "metadata": {
    "deletable": false,
    "editable": false,
    "nbgrader": {
     "cell_type": "code",
     "checksum": "420398f0a789abacdb3ca269fad1d9f8",
     "grade": false,
     "grade_id": "cell-64e8e5708af9cf19",
     "locked": true,
     "schema_version": 3,
     "solution": false,
     "task": false
    }
   },
   "outputs": [
    {
     "data": {
      "application/javascript": [
       "IPython.notebook.set_autosave_interval(120000)"
      ]
     },
     "metadata": {},
     "output_type": "display_data"
    },
    {
     "name": "stdout",
     "output_type": "stream",
     "text": [
      "Autosaving every 120 seconds\n"
     ]
    }
   ],
   "source": [
    "#Please make sure your Jupyter Notebook environment is running a Python 3 kernel \n",
    "import IPython\n",
    "assert IPython.version_info[0] >= 3, \"Your version of IPython is too old, please update it.\"\n",
    "%autosave 120"
   ]
  },
  {
   "cell_type": "markdown",
   "metadata": {
    "deletable": false,
    "editable": false,
    "nbgrader": {
     "cell_type": "markdown",
     "checksum": "5e12eaedfca7290f931046f25b4ff50a",
     "grade": false,
     "grade_id": "cell-9b0c25976a159dcf",
     "locked": true,
     "schema_version": 3,
     "solution": false,
     "task": false
    }
   },
   "source": [
    "<div class=\"alert alert-warning\">\n",
    "<b>QUESTION 1:</b>\n",
    "<p>A dictionary has been defined in the cell below. Please calculate the average item value (as <b>integer</b>) from the dictionary and assign it to the variable <code>question_1</code>. Print <code>question_1</code>, the expected output is <code>1050110272</code>.</p>\n",
    "<br>    \n",
    "<p>Please don't write <code>question_1 = 1050110272</code></p>\n",
    "</div>"
   ]
  },
  {
   "cell_type": "code",
   "execution_count": 2,
   "metadata": {
    "deletable": false,
    "nbgrader": {
     "cell_type": "code",
     "checksum": "7eb1c2f6321ccba7f77e808687f1cb6d",
     "grade": false,
     "grade_id": "cell-a6408ffacf7cba92",
     "locked": false,
     "schema_version": 3,
     "solution": true,
     "task": false
    }
   },
   "outputs": [
    {
     "name": "stdout",
     "output_type": "stream",
     "text": [
      "1050110272\n"
     ]
    }
   ],
   "source": [
    "###ANSWER(1)\n",
    "population = {'China':1439323775, 'India':1380004385, 'USA':331002656}\n",
    "question_1 = int((population['China'] + population['India'] + population['USA'])/3)# Please write your code here.\n",
    "print(question_1)\n"
   ]
  },
  {
   "cell_type": "code",
   "execution_count": null,
   "metadata": {
    "deletable": false,
    "editable": false,
    "nbgrader": {
     "cell_type": "code",
     "checksum": "0073291a1835707bafd53c79141655d9",
     "grade": true,
     "grade_id": "cell-65f303e196fa2c0f",
     "locked": true,
     "points": 10,
     "schema_version": 3,
     "solution": false,
     "task": false
    }
   },
   "outputs": [],
   "source": [
    "#Please leave this cell blank."
   ]
  },
  {
   "cell_type": "markdown",
   "metadata": {
    "deletable": false,
    "editable": false,
    "nbgrader": {
     "cell_type": "markdown",
     "checksum": "44353d4265cfb9367e0b311a90ec8426",
     "grade": false,
     "grade_id": "cell-6ba6d810c65145e7",
     "locked": true,
     "schema_version": 3,
     "solution": false,
     "task": false
    }
   },
   "source": [
    "<div class=\"alert alert-warning\">\n",
    "<b>QUESTION 2:</b>\n",
    "<p>Complete the code in the cell below (please don't delete anything) so that the output is: <code>(103, 105, 107, 109)</code></p>\n",
    "</div>"
   ]
  },
  {
   "cell_type": "code",
   "execution_count": 3,
   "metadata": {
    "deletable": false,
    "nbgrader": {
     "cell_type": "code",
     "checksum": "0adc72c27609a0138ebed3cd4c5d8067",
     "grade": false,
     "grade_id": "cell-e408866af2c30ae8",
     "locked": false,
     "schema_version": 3,
     "solution": true,
     "task": false
    }
   },
   "outputs": [
    {
     "name": "stdout",
     "output_type": "stream",
     "text": [
      "[103, 105, 107, 109]\n"
     ]
    }
   ],
   "source": [
    "###ANSWER(2)\n",
    "randomID = (101, 102, 103, 104, 105, 106, 107, 108, 109, 110)\n",
    "randomID = [randomID[2],randomID[4],randomID[6],randomID[8]]\n",
    "print(randomID)\n"
   ]
  },
  {
   "cell_type": "code",
   "execution_count": null,
   "metadata": {
    "deletable": false,
    "editable": false,
    "nbgrader": {
     "cell_type": "code",
     "checksum": "a49dc91d98314801956efa152db0bc86",
     "grade": true,
     "grade_id": "cell-839e1e4003488018",
     "locked": true,
     "points": 10,
     "schema_version": 3,
     "solution": false,
     "task": false
    }
   },
   "outputs": [],
   "source": [
    "#Please leave this cell blank."
   ]
  },
  {
   "cell_type": "markdown",
   "metadata": {
    "deletable": false,
    "editable": false,
    "nbgrader": {
     "cell_type": "markdown",
     "checksum": "96500a9f796670aaee233d7cd18b1f7c",
     "grade": false,
     "grade_id": "cell-3b929a56807eb73c",
     "locked": true,
     "schema_version": 3,
     "solution": false,
     "task": false
    }
   },
   "source": [
    "<div class=\"alert alert-warning\">\n",
    "<b>QUESTION 3:</b>\n",
    "<p>A list called <code>numbers</code> has been defined in the cell below. Please write code to convert each element in the list to its absolute value. Print the updated list, the expected output is: <code>[1, 2, 3, 4, 5, 6, 7, 8, 9, 10]</code></p>\n",
    "<br>    \n",
    "<p>Please don't write <code>numbers = [1, 2, 3, 4, 5, 6, 7, 8, 9, 10]</code></p>\n",
    "</div>"
   ]
  },
  {
   "cell_type": "code",
   "execution_count": 4,
   "metadata": {
    "deletable": false,
    "nbgrader": {
     "cell_type": "code",
     "checksum": "a4a5927f2ac50b253291f10f9700fe5c",
     "grade": false,
     "grade_id": "cell-d923a9117c1b5fc1",
     "locked": false,
     "schema_version": 3,
     "solution": true,
     "task": false
    }
   },
   "outputs": [
    {
     "name": "stdout",
     "output_type": "stream",
     "text": [
      "[1, 2, 3, 4, 5, 6, 7, 8, 9, 10]\n"
     ]
    }
   ],
   "source": [
    "###ANSWER(3)\n",
    "numbers = [1, 2, -3, 4, -5, 6, -7, -8, -9, -10]\n",
    "numbers =  [ abs(i) for i in numbers]# Please write your code here.\n",
    "print(numbers)\n"
   ]
  },
  {
   "cell_type": "code",
   "execution_count": null,
   "metadata": {
    "deletable": false,
    "editable": false,
    "nbgrader": {
     "cell_type": "code",
     "checksum": "9a9e9c3cded20392aaa28268a6433775",
     "grade": true,
     "grade_id": "cell-dd486109f59e4560",
     "locked": true,
     "points": 10,
     "schema_version": 3,
     "solution": false,
     "task": false
    }
   },
   "outputs": [],
   "source": [
    "#Please leave this cell blank."
   ]
  },
  {
   "cell_type": "markdown",
   "metadata": {
    "deletable": false,
    "editable": false,
    "nbgrader": {
     "cell_type": "markdown",
     "checksum": "02cb8073faf6f634db6f4d6dd0ba5afb",
     "grade": false,
     "grade_id": "cell-35dcba2d1595eb29",
     "locked": true,
     "schema_version": 3,
     "solution": false,
     "task": false
    }
   },
   "source": [
    "<div class=\"alert alert-warning\">\n",
    "<b>QUESTION 4:</b>\n",
    "<p>A tuple called <code>letters</code> has been defined in the cell below. Please write code to count the number of times letter <code>k</code> appears in the tuple and assign the result to a variable called <code>question_4</code> Print the variable, the expected output is <code>7</code>.</p>\n",
    "<p><code>letters = ('k', 'm', 'a', 'k', 'k', 'r','o', 'y', 'p', 't', 'd', 's', 'q' 'p', 'y','p', 'e', 'c', 'a', 'e', 'r', 'l', 'w', 'g', 'k', 'e', 'y', 'u', 'k', 'r', 's', 'l', 'd', 'x', 'w', 'q', 'o', 'f', 'k', 'c', 'k', 'u', 'j', 'p', 'r', 'j', 'r','d', 'y', 'i', 't', 'd', 'f', 'p' 'h', 'y','s', 'n', 'b', 'a')</code></p>\n",
    "<br>    \n",
    "<p>Please don't write <code>question_4 = 7</code></p>\n",
    "</div>"
   ]
  },
  {
   "cell_type": "code",
   "execution_count": 5,
   "metadata": {
    "deletable": false,
    "nbgrader": {
     "cell_type": "code",
     "checksum": "b9abd0924fca66c1bd41a4719befc38e",
     "grade": false,
     "grade_id": "cell-6866cff53340e561",
     "locked": false,
     "schema_version": 3,
     "solution": true,
     "task": false
    }
   },
   "outputs": [
    {
     "name": "stdout",
     "output_type": "stream",
     "text": [
      "7\n"
     ]
    }
   ],
   "source": [
    "###ANSWER(4)\n",
    "letters = ('k', 'm', 'a', 'k', 'k', 'r','o', 'y', 'p', 't', 'd', 's', 'q' 'p', 'y', 'p', 'e', 'c', 'a', \n",
    "           'e', 'r', 'l', 'w', 'g', 'k', 'e', 'y', 'u', 'k', 'r', 's', 'l', 'd', 'x', 'w', 'q', 'o', \n",
    "           'f', 'k', 'c', 'k', 'u', 'j', 'p', 'r', 'j', 'r','d', 'y', 'i', 't', 'd', 'f', 'p' 'h', \n",
    "           'y','s', 'n', 'b', 'a')\n",
    "\n",
    "question_4 =  letters.count('k')# Please write your code here.\n",
    "print(question_4)\n"
   ]
  },
  {
   "cell_type": "code",
   "execution_count": null,
   "metadata": {
    "deletable": false,
    "editable": false,
    "nbgrader": {
     "cell_type": "code",
     "checksum": "896ef3da9b27ac6d1941a6db644dc039",
     "grade": true,
     "grade_id": "cell-d4ac964a97b3192f",
     "locked": true,
     "points": 10,
     "schema_version": 3,
     "solution": false,
     "task": false
    }
   },
   "outputs": [],
   "source": [
    "#Please leave this cell blank."
   ]
  },
  {
   "cell_type": "markdown",
   "metadata": {
    "deletable": false,
    "editable": false,
    "nbgrader": {
     "cell_type": "markdown",
     "checksum": "8e65e312444e8407cd1052c91d39c37c",
     "grade": false,
     "grade_id": "cell-be587cee1f4fa943",
     "locked": true,
     "schema_version": 3,
     "solution": false,
     "task": false
    }
   },
   "source": [
    "<div class=\"alert alert-warning\">\n",
    "<b>QUESTION 5: </b> \n",
    "<p>A string called <code>random_str</code> has been defined in the cell below. Please write code to delete all the white spaces in the string. Print the string, the expected output would be: <code>number,one,London,university</code></p>\n",
    "<br>    \n",
    "<p>Please don't write <code>random_str = 'number,one,London,university'</code></p>\n",
    "</div>"
   ]
  },
  {
   "cell_type": "code",
   "execution_count": 6,
   "metadata": {
    "deletable": false,
    "nbgrader": {
     "cell_type": "code",
     "checksum": "a766e037d6489dbeff643130fb5a541c",
     "grade": false,
     "grade_id": "cell-c9f7c06cf529bb59",
     "locked": false,
     "schema_version": 3,
     "solution": true,
     "task": false
    }
   },
   "outputs": [
    {
     "name": "stdout",
     "output_type": "stream",
     "text": [
      "number,one,London,university\n"
     ]
    }
   ],
   "source": [
    "###ANSWER(5)\n",
    "random_str = 'number,one, London,  university   '\n",
    "random_str =  random_str.replace(\" \",\"\")# Please write your code here.\n",
    "print(random_str)\n"
   ]
  },
  {
   "cell_type": "code",
   "execution_count": null,
   "metadata": {
    "deletable": false,
    "editable": false,
    "nbgrader": {
     "cell_type": "code",
     "checksum": "824f7e358e8ea16c500a8a0aef1cc8a4",
     "grade": true,
     "grade_id": "cell-03398ec7d80e0f18",
     "locked": true,
     "points": 10,
     "schema_version": 3,
     "solution": false,
     "task": false
    }
   },
   "outputs": [],
   "source": [
    "#Please leave this cell blank."
   ]
  },
  {
   "cell_type": "markdown",
   "metadata": {
    "deletable": false,
    "editable": false,
    "nbgrader": {
     "cell_type": "markdown",
     "checksum": "718ef805787976cc83673aa837529d95",
     "grade": false,
     "grade_id": "cell-f85a93cef0f6b09f",
     "locked": true,
     "schema_version": 3,
     "solution": false,
     "task": false
    }
   },
   "source": [
    "<div class=\"alert alert-warning\">\n",
    "<b>QUESTION 6: </b> \n",
    "<p> Define a function called <code>idx_min_max</code> which takes a list with numbers or a tuple with numbers as the argument. The function will <b>return</b> a tuple which contains indices of maximum and minimum values from the input list/tuple.</p>\n",
    "<br>\n",
    "<p>If you call the function with argument being <code>[0, 4, 52, 1]</code>, it would return <code>(2, 0)</code>.</p>\n",
    "<p>If you call the function with argument being <code>(-4, 1, 2.0, -9)</code>, it would return <code>(2, 3)</code>.</p>\n",
    "</div>"
   ]
  },
  {
   "cell_type": "code",
   "execution_count": 7,
   "metadata": {
    "deletable": false,
    "nbgrader": {
     "cell_type": "code",
     "checksum": "2882e5316f2eebd4ea181f550ff3a5fb",
     "grade": false,
     "grade_id": "cell-f1b06b79c66c2f2e",
     "locked": false,
     "schema_version": 3,
     "solution": true,
     "task": false
    }
   },
   "outputs": [
    {
     "data": {
      "text/plain": [
       "(4, 0)"
      ]
     },
     "execution_count": 7,
     "metadata": {},
     "output_type": "execute_result"
    }
   ],
   "source": [
    "###ANSWER(6)\n",
    "# Please write your code here.\n",
    "def idx_min_max(data):\n",
    "    mins = (data.index(min(data))) # 返回最小值\n",
    "    maxs =  (data.index(max(data))) # 返回最大值\n",
    "    return (maxs,mins)\n",
    "\n",
    "idx_min_max([1,2,3,4,5])"
   ]
  },
  {
   "cell_type": "code",
   "execution_count": null,
   "metadata": {
    "deletable": false,
    "editable": false,
    "nbgrader": {
     "cell_type": "code",
     "checksum": "2284494ef1871c8219abe101d9149ada",
     "grade": true,
     "grade_id": "cell-82e069ee59f55ca9",
     "locked": true,
     "points": 10,
     "schema_version": 3,
     "solution": false,
     "task": false
    }
   },
   "outputs": [],
   "source": [
    "#Please leave this cell blank."
   ]
  },
  {
   "cell_type": "markdown",
   "metadata": {
    "deletable": false,
    "editable": false,
    "nbgrader": {
     "cell_type": "markdown",
     "checksum": "aba2d543ad930a02e2b66a9fe6c0dfbc",
     "grade": false,
     "grade_id": "cell-dffc1a05550125f1",
     "locked": true,
     "schema_version": 3,
     "solution": false,
     "task": false
    }
   },
   "source": [
    "<div class=\"alert alert-warning\">\n",
    "<b>QUESTION 7: </b> \n",
    "<p>A dictionary called <code>Names</code> has been defined in the cell below. Please write code to switch keys and values of the dictionary. Print the updated dictionary, the expected output would be:</p>\n",
    "    \n",
    "<p><code>{'Lewandowski': 'Robert', 'Ronaldo': 'Cristiano', 'Messi': 'Lionel', 'Mbappe': 'Kylian', 'Fernandes': 'Bruno'}</code></p>\n",
    "<br>    \n",
    "<p>Please don't write <code>Names = {'Lewandowski': 'Robert', 'Ronaldo': 'Cristiano', 'Messi': 'Lionel', 'Mbappe': 'Kylian', 'Fernandes': 'Bruno'}</code></p>\n",
    "</div>"
   ]
  },
  {
   "cell_type": "code",
   "execution_count": 10,
   "metadata": {
    "deletable": false,
    "nbgrader": {
     "cell_type": "code",
     "checksum": "19a19f4c0ac77e82e6d3f67c9b995f6c",
     "grade": false,
     "grade_id": "cell-cd36c1c9bb68b230",
     "locked": false,
     "schema_version": 3,
     "solution": true,
     "task": false
    }
   },
   "outputs": [
    {
     "name": "stdout",
     "output_type": "stream",
     "text": [
      "{'Robert': 'Lewandowski', 'Cristiano': 'Ronaldo', 'Lionel': 'Messi', 'Kylian': 'Mbappe', 'Bruno': 'Fernandes'}\n"
     ]
    }
   ],
   "source": [
    "###ANSWER(7)\n",
    "Names = {'Robert':'Lewandowski', 'Cristiano':'Ronaldo', 'Lionel':'Messi', 'Kylian':'Mbappe', 'Bruno':'Fernandes'}\n",
    "Names1 = Names\n",
    "Names = {}\n",
    "for key,value in Names1.items():\n",
    "    Names[key] = value\n",
    "print(Names)\n"
   ]
  },
  {
   "cell_type": "code",
   "execution_count": null,
   "metadata": {
    "deletable": false,
    "editable": false,
    "nbgrader": {
     "cell_type": "code",
     "checksum": "6645b4c77954e916ff5b2f4e1dcc2bef",
     "grade": true,
     "grade_id": "cell-68b1c8860e2e7d46",
     "locked": true,
     "points": 10,
     "schema_version": 3,
     "solution": false,
     "task": false
    }
   },
   "outputs": [],
   "source": [
    "#Please leave this cell blank."
   ]
  },
  {
   "cell_type": "markdown",
   "metadata": {
    "deletable": false,
    "editable": false,
    "nbgrader": {
     "cell_type": "markdown",
     "checksum": "2d49a62c0851a7fdbd3d282961867073",
     "grade": false,
     "grade_id": "cell-5bdf06877a331dbd",
     "locked": true,
     "schema_version": 3,
     "solution": false,
     "task": false
    }
   },
   "source": [
    "<div class=\"alert alert-warning\">\n",
    "<b>QUESTION 8: </b> \n",
    "<p>A dictionary called <code>Shares</code> has been defined in the cell below. For the dictionary keys end with letter <code>s</code>, update the corresponding dictionary values to <code>2020</code>. Print the updated dictionary, the expected output would be:</p>\n",
    "<p><code>{'James': 2020, 'Robert': 4032, 'Nicolas': 2020, 'Louis': 2020, 'Bernard': 5538, 'Logan': 1330}</code></p>\n",
    "<br>    \n",
    "<p>Please don't write <code>Shares = {'James': 2020, 'Robert': 4032, 'Nicolas': 2020, 'Louis': 2020, 'Bernard': 5538, 'Logan': 1330}</code></p>\n",
    "</div>"
   ]
  },
  {
   "cell_type": "code",
   "execution_count": 11,
   "metadata": {
    "deletable": false,
    "nbgrader": {
     "cell_type": "code",
     "checksum": "c169af342185cbfcaf8d22b79181528b",
     "grade": false,
     "grade_id": "cell-08c4dee2fc221571",
     "locked": false,
     "schema_version": 3,
     "solution": true,
     "task": false
    }
   },
   "outputs": [
    {
     "name": "stdout",
     "output_type": "stream",
     "text": [
      "{'James': 2020, 'Robert': 4032, 'Nicolas': 2020, 'Louis': 2020, 'Bernard': 5538, 'Logan': 1330}\n"
     ]
    }
   ],
   "source": [
    "###ANSWER(8)\n",
    "Shares = {'James':2359, 'Robert':4032, 'Nicolas':1020, 'Louis':2500, 'Bernard': 5538, 'Logan':1330}\n",
    "# Please write your code here.\n",
    "\n",
    "for key,value in Shares.items():\n",
    "    if(key[-1] == 's'):\n",
    "        Shares[key] = 2020\n",
    "print(Shares)\n"
   ]
  },
  {
   "cell_type": "code",
   "execution_count": null,
   "metadata": {
    "deletable": false,
    "editable": false,
    "nbgrader": {
     "cell_type": "code",
     "checksum": "662a985ad8003f6a36f20d39b6d39c15",
     "grade": true,
     "grade_id": "cell-5febe8d0332ae08c",
     "locked": true,
     "points": 10,
     "schema_version": 3,
     "solution": false,
     "task": false
    }
   },
   "outputs": [],
   "source": [
    "#Please leave this cell blank."
   ]
  },
  {
   "cell_type": "markdown",
   "metadata": {
    "deletable": false,
    "editable": false,
    "nbgrader": {
     "cell_type": "markdown",
     "checksum": "e309e8ed9a2c45d2b81b9683e04c691d",
     "grade": false,
     "grade_id": "cell-83da49b782f1efaa",
     "locked": true,
     "schema_version": 3,
     "solution": false,
     "task": false
    }
   },
   "source": [
    "<div class=\"alert alert-warning\">\n",
    "<b>QUESTION 9: </b> \n",
    "<p> Define a function called <code>dict_dtype_check</code> which takes a dictionary as the argument. The function will <b>return</b>:</p>\n",
    "<p>- <code>0</code> if all values in the dictionary are <code>integers</code>;</p>\n",
    "<p>- <code>1</code> if all values are <code>strings</code>;</p>\n",
    "<p>- <code>2</code> otherwise.</p>\n",
    "<br>\n",
    "<p>If you call the function with argument being <code>{'a': 1, 'b': 2, 'c': 3}</code>, the return value is <code>0</code>.</p>\n",
    "<p>If you call the function with argument being <code>{'a': '1', 'b': '2', 'c': '3'}</code>, the return value is <code>1</code>.</p>\n",
    "<p>If you call the function with argument being <code>{'a': 1, 'b': '2', 'c': 3}</code>, the return value is <code>2</code>.</p>\n",
    "</div>"
   ]
  },
  {
   "cell_type": "code",
   "execution_count": 12,
   "metadata": {
    "deletable": false,
    "nbgrader": {
     "cell_type": "code",
     "checksum": "ce33e2ec992f2017e70857c60b577bf4",
     "grade": false,
     "grade_id": "cell-d5ec26d58149123f",
     "locked": false,
     "schema_version": 3,
     "solution": true,
     "task": false
    }
   },
   "outputs": [
    {
     "data": {
      "text/plain": [
       "2"
      ]
     },
     "execution_count": 12,
     "metadata": {},
     "output_type": "execute_result"
    }
   ],
   "source": [
    "###ANSWER(9)\n",
    "# Please write your code here.\n",
    "def dict_dtype_check(data):\n",
    "    i = 0;\n",
    "    b = 0;\n",
    "    for value in data.values():\n",
    "        if(type(value) == int):\n",
    "            i = 1;\n",
    "        elif(type(value) == str):\n",
    "            b = 1;\n",
    "    return i+b\n",
    "   \n",
    "    \n",
    "dict_dtype_check({'a': 1, 'b': '2', 'c': 3})\n"
   ]
  },
  {
   "cell_type": "code",
   "execution_count": null,
   "metadata": {
    "deletable": false,
    "editable": false,
    "nbgrader": {
     "cell_type": "code",
     "checksum": "e627057553f323d14a1c8934ba7900fe",
     "grade": true,
     "grade_id": "cell-3f08e6296e9e4a93",
     "locked": true,
     "points": 10,
     "schema_version": 3,
     "solution": false,
     "task": false
    }
   },
   "outputs": [],
   "source": [
    "#Please leave this cell blank."
   ]
  },
  {
   "cell_type": "markdown",
   "metadata": {
    "deletable": false,
    "editable": false,
    "nbgrader": {
     "cell_type": "markdown",
     "checksum": "ccfd615a126f6f52182596cd466c27d6",
     "grade": false,
     "grade_id": "cell-e0138d3c7d389f56",
     "locked": true,
     "schema_version": 3,
     "solution": false,
     "task": false
    }
   },
   "source": [
    "<div class=\"alert alert-warning\">\n",
    "<b>QUESTION 10: </b> \n",
    "<p>A dictionary called <code>data_shares</code> has been defined in the cell below. The keys in the dictionary are the names of shareholders of a company and values are the numbers of shares (in thousands) they hold.\n",
    "<p>Please write a function called <code>share_check</code> which takes a string (shareholder's name) as the argument. The function will calculate the percentage of shares (rounded to <b>the second decimal</b>) for the shareholder and <b>print</b> a string which is formatted as below:</p>\n",
    "<p><code>The percetage of shares that NAME holds is PERCENTAGE_OF_SHARES%.</code></p>\n",
    "<p>If the function is called with the name of person that is not a shareholder, it would <b>print</b>:</p>\n",
    "<p><code>This person is not a shareholder.</code></p>\n",
    "<br>\n",
    "<p>If you call the function with argument being <code>Jake</code>, it would print <code>The percetage of shares that Jake holds is 9.68%.</code></p>\n",
    "<p>If you call the function with argument being <code>Gina</code>, it would print <code>The percetage of shares that Gina holds is 8.23%.</code></p>\n",
    "<p>If you call the function with argument being <code>Mahatma</code>, it would print <code>This person is not a shareholder.</code></p>\n",
    "</div>"
   ]
  },
  {
   "cell_type": "code",
   "execution_count": 22,
   "metadata": {
    "deletable": false,
    "nbgrader": {
     "cell_type": "code",
     "checksum": "56a09fe06edd44669448df733cbb23c4",
     "grade": false,
     "grade_id": "cell-6c31a3da7983e0bb",
     "locked": false,
     "schema_version": 3,
     "solution": true,
     "task": false
    }
   },
   "outputs": [
    {
     "name": "stdout",
     "output_type": "stream",
     "text": [
      "The percetage of shares that Jake holds is 9.68%.\n"
     ]
    }
   ],
   "source": [
    "###ANSWER(10)\n",
    "data_shares = {\"Jake\":2359, \"Terry\":4032, \"Rosa\":5538, \"Amy\":3200, \"Charles\":7239, \"Gina\":2007}\n",
    "# Please write your code here.\n",
    "def share_check(name):\n",
    "    if name not in data_shares:\n",
    "        print(\"This person is not a shareholder.\")\n",
    "    else:\n",
    "        values = sum(list(data_shares.values()))\n",
    "        print(\"The percetage of shares that {} holds is {:.2f}%.\".format(name,data_shares[name]/values*100))\n",
    "share_check(\"Jake\")"
   ]
  },
  {
   "cell_type": "code",
   "execution_count": null,
   "metadata": {
    "deletable": false,
    "editable": false,
    "nbgrader": {
     "cell_type": "code",
     "checksum": "16d58334d27e1e4f7dd42057dc8633d8",
     "grade": true,
     "grade_id": "cell-1c7562fd68ec3725",
     "locked": true,
     "points": 10,
     "schema_version": 3,
     "solution": false,
     "task": false
    }
   },
   "outputs": [],
   "source": [
    "#Please leave this cell blank."
   ]
  }
 ],
 "metadata": {
  "kernelspec": {
   "display_name": "Python 3",
   "language": "python",
   "name": "python3"
  },
  "language_info": {
   "codemirror_mode": {
    "name": "ipython",
    "version": 3
   },
   "file_extension": ".py",
   "mimetype": "text/x-python",
   "name": "python",
   "nbconvert_exporter": "python",
   "pygments_lexer": "ipython3",
   "version": "3.7.0"
  }
 },
 "nbformat": 4,
 "nbformat_minor": 4
}
