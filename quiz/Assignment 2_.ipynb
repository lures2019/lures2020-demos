{
 "cells": [
  {
   "cell_type": "markdown",
   "metadata": {},
   "source": [
    "# AF5365 Assignment 2 (Due 11:59 pm, October 25, 2020)\n",
    "## Please submit to https://docs.google.com/forms/d/e/1FAIpQLSdzmRicX-zgdRyLU36MuL5flmmRrKFBdOY3qZ9xSVdOEQKQYw/viewform?usp=sf_link"
   ]
  },
  {
   "cell_type": "markdown",
   "metadata": {},
   "source": [
    "## Group Number:"
   ]
  },
  {
   "cell_type": "markdown",
   "metadata": {},
   "source": [
    "## Names of your group members:"
   ]
  },
  {
   "cell_type": "markdown",
   "metadata": {},
   "source": [
    "## Part 1. Grabbing a list of tickers of companies in the Dow Jones Industrial Average (50 %)"
   ]
  },
  {
   "cell_type": "markdown",
   "metadata": {},
   "source": [
    "\n",
    "\n",
    "Using the concepts learned from our class. Download the HTML from the following site.\n",
    "\n",
    "https://en.wikipedia.org/wiki/Dow_Jones_Industrial_Average\n",
    "\n",
    "You can use the libraries discussed in our class and you are also free to explore others. \n",
    "\n",
    "1. requests - https://pypi.org/project/requests/\n",
    "2. Beautiful Soup 4 - https://www.crummy.com/software/BeautifulSoup/bs4/doc/\n",
    "\n",
    "Once the file is downloaded, you will need to extract the tickers from the table that is in the downloaded html file. \n",
    "\n",
    "Then you will need to store the data into a data structure of your choosing (i.e. list, dictionary.......)\n",
    "\n",
    "Example: List of the Tickers\n",
    "\n",
    "dji_tickers = ['MMM', 'AXP','AAPL','BA',...]\n",
    "\n",
    "The final statements for Part 1 should be.\n",
    "\n",
    "print(dji_tickers)\n",
    "len(dji_tickers)\n",
    "\n",
    "Part 1 Grading Rubric \n",
    "\n",
    "1. Using requests library to download the HTML  (30%)\n",
    "\n",
    "2. Using Beautiful Soup 4 to traverse the HTML file and extract required data (40%)\n",
    "\n",
    "3. Saving the data to the data structure and outputing the required final statements (20%)\n",
    "\n",
    "4. Readability and structure of the Code (10%) (**Hint**: Be sure to leave notes so you can understand the flow of the code)"
   ]
  },
  {
   "cell_type": "code",
   "execution_count": 3,
   "metadata": {},
   "outputs": [],
   "source": [
    "import requests\n",
    "from bs4 import BeautifulSoup"
   ]
  },
  {
   "cell_type": "code",
   "execution_count": 4,
   "metadata": {},
   "outputs": [],
   "source": [
    "#Send request\n",
    "headers = {\n",
    "    \"User-Agent\": \"user-agent: Mozilla/5.0 (Windows NT 10.0; Win64; x64) AppleWebKit/537.36 (KHTML, like Gecko) Chrome/77.0.3865.90 Safari/537.36\",\n",
    "    \"Accept\":\"text/html,application/xhtml+xml,application/xml;q=0.9,image/webp,image/apng,*/*;q=0.8,application/signed-exchange;v=b3\",   \n",
    "}\n",
    "url = 'https://en.wikipedia.org/wiki/Dow_Jones_Industrial_Average'\n",
    "response = requests.get(url, headers = headers)"
   ]
  },
  {
   "cell_type": "code",
   "execution_count": 5,
   "metadata": {},
   "outputs": [],
   "source": [
    "#Download HTML\n",
    "filename = 'DJIA.html'\n",
    "outputfile = open(filename, 'w',encoding=\"utf-8\")\n",
    "outputfile.write(response.text)\n",
    "outputfile.close()"
   ]
  },
  {
   "cell_type": "code",
   "execution_count": 6,
   "metadata": {},
   "outputs": [
    {
     "name": "stdout",
     "output_type": "stream",
     "text": [
      "['MMM', 'AXP', 'AMGN', 'AAPL', 'BA', 'CAT', 'CVX', 'CSCO', 'KO', 'DOW', 'GS', 'HD', 'HON', 'IBM', 'INTC', 'JNJ', 'JPM', 'MCD', 'MRK', 'MSFT', 'NKE', 'PG', 'CRM', 'TRV', 'UNH', 'VZ', 'V', 'WBA', 'WMT', 'DIS']\n"
     ]
    },
    {
     "data": {
      "text/plain": [
       "30"
      ]
     },
     "execution_count": 6,
     "metadata": {},
     "output_type": "execute_result"
    }
   ],
   "source": [
    "#Open the file\n",
    "inputfile = open(filename,'r',encoding='utf-8')\n",
    "soup = BeautifulSoup(inputfile)\n",
    "inputfile.close()\n",
    "\n",
    "#Extract the data to a list.\n",
    "tables=soup.find_all(\"table\")\n",
    "DJIA_rows=tables[1].find_all('tr')\n",
    "dji_tickers=[]\n",
    "for i in range(1,31):\n",
    "    symbols=DJIA_rows[i].find_all('td')[1].find_all('a')\n",
    "    if len(symbols)==1:\n",
    "        dji_tickers.append(symbols[0].text)\n",
    "    else:\n",
    "        dji_tickers.append(symbols[1].text)\n",
    "print(dji_tickers)\n",
    "len(dji_tickers)"
   ]
  },
  {
   "cell_type": "markdown",
   "metadata": {},
   "source": [
    "## Part 2. Analyzing the 3 Stocks and DJI (50%)"
   ]
  },
  {
   "cell_type": "markdown",
   "metadata": {},
   "source": [
    "As an extension of what you learned from assignment 1, we will be applying the same methods, but with a slight twist. \n",
    "\n",
    "Instead of using yahoofinancials to received the data, we will be using the AlphaVantage API. (**Hint**: see Week 3's Jupyter file.)\n",
    "\n",
    "Using Yahoofinancials for many securities will take an immensed amount of time to process. Therefore, an advantage of an API is its ease of use and speed. \n",
    "\n",
    "Sign up for a free account with AlphaVantage \n",
    "\n",
    "https://www.alphavantage.co\n",
    "\n",
    "Then using AlphaVantage to download the data and do the following. \n",
    "\n",
    "\n",
    "\n",
    "**Grading Rubric**\n",
    "1. Code works and properly outputs requirement (90\\%)\n",
    "    - Part a (30\\%)\n",
    "    - Part b (30\\%)\n",
    "    - Part c (30\\%)\n",
    "    \n",
    "    \n",
    "2. Readabliilty of Code (10\\%) \n"
   ]
  },
  {
   "cell_type": "markdown",
   "metadata": {},
   "source": [
    "## Part 2a. Grabbing the Data \n",
    "\n",
    "Using the data structure of the list of stocks from above and also adding the index ticker (^DJI).\n",
    "\n",
    "You will need to grab the price data for the 3 stocks you choose from Alpha Vantage and store them into a pandas dataframe. \n",
    "\n",
    "Please use daily price data for 5 years, 1 January 2014 - 31 December 2019.\n",
    "\n",
    "Requirement: You must save the data you download into a CSV. \n",
    "\n",
    "alphavantage api wrapper :https://github.com/RomelTorres/alpha_vantage"
   ]
  },
  {
   "cell_type": "code",
   "execution_count": 7,
   "metadata": {},
   "outputs": [],
   "source": [
    "#Use module timeseries\n",
    "from alpha_vantage.timeseries import TimeSeries\n",
    "import pandas as pd\n",
    "import time\n",
    "ts = TimeSeries(key='XX3ED8JVOHXUERYY', output_format='pandas',indexing_type='date')"
   ]
  },
  {
   "cell_type": "code",
   "execution_count": 8,
   "metadata": {},
   "outputs": [],
   "source": [
    "tickers_data=[]\n",
    "for i in range(3):\n",
    "    stock_data=ts.get_daily_adjusted(dji_tickers[i],outputsize=\"full\")[0]\n",
    "    stock_data_5years=stock_data[(stock_data.index>'2014')&(stock_data.index<'2020')]\n",
    "    tickers_data.append(stock_data_5years)\n",
    "    filename=dji_tickers[i]+\".csv\"\n",
    "    stock_data_5years.to_csv(filename)\n",
    "    time.sleep(8)"
   ]
  },
  {
   "cell_type": "markdown",
   "metadata": {},
   "source": [
    "## Part 2b. Calculations\n",
    "\n",
    "Calculate the following from the data.\n",
    "\n",
    "All calculation should be using adj close data\n",
    "\n",
    "Print the following: \n",
    "- Log Returns from Price Data\n",
    "- Average of Log Returns \n",
    "- Standard Deviation of Log Returns \n",
    "- Correlation Matrix of all 3 Securites （3 stocks)"
   ]
  },
  {
   "cell_type": "code",
   "execution_count": 9,
   "metadata": {},
   "outputs": [],
   "source": [
    "#Get the dataframe of stocks' adjclose\n",
    "import numpy as np\n",
    "stocks_adjclose=pd.DataFrame()\n",
    "for i in range(3):\n",
    "    adjclose=tickers_data[i]['5. adjusted close']\n",
    "    stocks_adjclose[dji_tickers[i]]=adjclose"
   ]
  },
  {
   "cell_type": "code",
   "execution_count": 10,
   "metadata": {},
   "outputs": [
    {
     "data": {
      "text/html": [
       "<div>\n",
       "<style scoped>\n",
       "    .dataframe tbody tr th:only-of-type {\n",
       "        vertical-align: middle;\n",
       "    }\n",
       "\n",
       "    .dataframe tbody tr th {\n",
       "        vertical-align: top;\n",
       "    }\n",
       "\n",
       "    .dataframe thead th {\n",
       "        text-align: right;\n",
       "    }\n",
       "</style>\n",
       "<table border=\"1\" class=\"dataframe\">\n",
       "  <thead>\n",
       "    <tr style=\"text-align: right;\">\n",
       "      <th></th>\n",
       "      <th>MMM</th>\n",
       "      <th>AXP</th>\n",
       "      <th>AMGN</th>\n",
       "    </tr>\n",
       "    <tr>\n",
       "      <th>date</th>\n",
       "      <th></th>\n",
       "      <th></th>\n",
       "      <th></th>\n",
       "    </tr>\n",
       "  </thead>\n",
       "  <tbody>\n",
       "    <tr>\n",
       "      <th>2019-12-31</th>\n",
       "      <td>NaN</td>\n",
       "      <td>NaN</td>\n",
       "      <td>NaN</td>\n",
       "    </tr>\n",
       "    <tr>\n",
       "      <th>2019-12-30</th>\n",
       "      <td>-0.003350</td>\n",
       "      <td>-0.001528</td>\n",
       "      <td>-0.003324</td>\n",
       "    </tr>\n",
       "    <tr>\n",
       "      <th>2019-12-27</th>\n",
       "      <td>0.008100</td>\n",
       "      <td>0.007134</td>\n",
       "      <td>0.005230</td>\n",
       "    </tr>\n",
       "    <tr>\n",
       "      <th>2019-12-26</th>\n",
       "      <td>-0.003787</td>\n",
       "      <td>0.001756</td>\n",
       "      <td>0.001531</td>\n",
       "    </tr>\n",
       "    <tr>\n",
       "      <th>2019-12-24</th>\n",
       "      <td>0.000510</td>\n",
       "      <td>-0.005357</td>\n",
       "      <td>0.001776</td>\n",
       "    </tr>\n",
       "    <tr>\n",
       "      <th>...</th>\n",
       "      <td>...</td>\n",
       "      <td>...</td>\n",
       "      <td>...</td>\n",
       "    </tr>\n",
       "    <tr>\n",
       "      <th>2014-01-08</th>\n",
       "      <td>0.001318</td>\n",
       "      <td>0.005945</td>\n",
       "      <td>-0.025644</td>\n",
       "    </tr>\n",
       "    <tr>\n",
       "      <th>2014-01-07</th>\n",
       "      <td>0.007438</td>\n",
       "      <td>-0.003128</td>\n",
       "      <td>0.004735</td>\n",
       "    </tr>\n",
       "    <tr>\n",
       "      <th>2014-01-06</th>\n",
       "      <td>-0.000145</td>\n",
       "      <td>0.003798</td>\n",
       "      <td>-0.025664</td>\n",
       "    </tr>\n",
       "    <tr>\n",
       "      <th>2014-01-03</th>\n",
       "      <td>0.005941</td>\n",
       "      <td>0.000445</td>\n",
       "      <td>0.008687</td>\n",
       "    </tr>\n",
       "    <tr>\n",
       "      <th>2014-01-02</th>\n",
       "      <td>-0.002314</td>\n",
       "      <td>-0.003237</td>\n",
       "      <td>0.011508</td>\n",
       "    </tr>\n",
       "  </tbody>\n",
       "</table>\n",
       "<p>1510 rows × 3 columns</p>\n",
       "</div>"
      ],
      "text/plain": [
       "                 MMM       AXP      AMGN\n",
       "date                                    \n",
       "2019-12-31       NaN       NaN       NaN\n",
       "2019-12-30 -0.003350 -0.001528 -0.003324\n",
       "2019-12-27  0.008100  0.007134  0.005230\n",
       "2019-12-26 -0.003787  0.001756  0.001531\n",
       "2019-12-24  0.000510 -0.005357  0.001776\n",
       "...              ...       ...       ...\n",
       "2014-01-08  0.001318  0.005945 -0.025644\n",
       "2014-01-07  0.007438 -0.003128  0.004735\n",
       "2014-01-06 -0.000145  0.003798 -0.025664\n",
       "2014-01-03  0.005941  0.000445  0.008687\n",
       "2014-01-02 -0.002314 -0.003237  0.011508\n",
       "\n",
       "[1510 rows x 3 columns]"
      ]
     },
     "execution_count": 10,
     "metadata": {},
     "output_type": "execute_result"
    }
   ],
   "source": [
    "#Log Returns from Price Data\n",
    "stocks_log_ret=np.log(stocks_adjclose)-np.log(stocks_adjclose.shift(1))\n",
    "stocks_log_ret"
   ]
  },
  {
   "cell_type": "code",
   "execution_count": 11,
   "metadata": {},
   "outputs": [
    {
     "data": {
      "text/plain": [
       "MMM    -0.000268\n",
       "AXP    -0.000278\n",
       "AMGN   -0.000586\n",
       "dtype: float64"
      ]
     },
     "execution_count": 11,
     "metadata": {},
     "output_type": "execute_result"
    }
   ],
   "source": [
    "#Average of Log Returns\n",
    "stocks_log_ret.mean()"
   ]
  },
  {
   "cell_type": "code",
   "execution_count": 12,
   "metadata": {},
   "outputs": [
    {
     "data": {
      "text/plain": [
       "MMM     0.011999\n",
       "AXP     0.012736\n",
       "AMGN    0.014816\n",
       "dtype: float64"
      ]
     },
     "execution_count": 12,
     "metadata": {},
     "output_type": "execute_result"
    }
   ],
   "source": [
    "#Standard Deviation of Log Returns\n",
    "stocks_log_ret.std()"
   ]
  },
  {
   "cell_type": "code",
   "execution_count": 13,
   "metadata": {},
   "outputs": [
    {
     "data": {
      "text/html": [
       "<div>\n",
       "<style scoped>\n",
       "    .dataframe tbody tr th:only-of-type {\n",
       "        vertical-align: middle;\n",
       "    }\n",
       "\n",
       "    .dataframe tbody tr th {\n",
       "        vertical-align: top;\n",
       "    }\n",
       "\n",
       "    .dataframe thead th {\n",
       "        text-align: right;\n",
       "    }\n",
       "</style>\n",
       "<table border=\"1\" class=\"dataframe\">\n",
       "  <thead>\n",
       "    <tr style=\"text-align: right;\">\n",
       "      <th></th>\n",
       "      <th>MMM</th>\n",
       "      <th>AXP</th>\n",
       "      <th>AMGN</th>\n",
       "    </tr>\n",
       "  </thead>\n",
       "  <tbody>\n",
       "    <tr>\n",
       "      <th>MMM</th>\n",
       "      <td>1.000000</td>\n",
       "      <td>0.435763</td>\n",
       "      <td>0.396727</td>\n",
       "    </tr>\n",
       "    <tr>\n",
       "      <th>AXP</th>\n",
       "      <td>0.435763</td>\n",
       "      <td>1.000000</td>\n",
       "      <td>0.391084</td>\n",
       "    </tr>\n",
       "    <tr>\n",
       "      <th>AMGN</th>\n",
       "      <td>0.396727</td>\n",
       "      <td>0.391084</td>\n",
       "      <td>1.000000</td>\n",
       "    </tr>\n",
       "  </tbody>\n",
       "</table>\n",
       "</div>"
      ],
      "text/plain": [
       "           MMM       AXP      AMGN\n",
       "MMM   1.000000  0.435763  0.396727\n",
       "AXP   0.435763  1.000000  0.391084\n",
       "AMGN  0.396727  0.391084  1.000000"
      ]
     },
     "execution_count": 13,
     "metadata": {},
     "output_type": "execute_result"
    }
   ],
   "source": [
    "#Correlation Matrix of all 4 Securites\n",
    "stocks_log_ret.corr()"
   ]
  },
  {
   "cell_type": "markdown",
   "metadata": {},
   "source": [
    "## Part 2c. Visualization\n",
    "\n",
    "Short exercise to visualize data using MatPlotLib\n",
    "\n",
    "- Create and display a Histogram of the log returns for one of your stocks. "
   ]
  },
  {
   "cell_type": "code",
   "execution_count": 36,
   "metadata": {},
   "outputs": [
    {
     "data": {
      "image/png": "[encoded data removed]",
      "text/plain": [
       "<Figure size 432x288 with 1 Axes>"
      ]
     },
     "metadata": {
      "needs_background": "light"
     },
     "output_type": "display_data"
    }
   ],
   "source": [
    "from matplotlib import pyplot as plt\n",
    "plt.hist(stocks_log_ret['MMM'],bins=20,facecolor=\"blue\",edgecolor=\"black\", alpha=0.7)\n",
    "plt.title('MMM')\n",
    "plt.xlabel('Log Return')\n",
    "plt.ylabel('Frequency')\n",
    "plt.show()"
   ]
  }
 ],
 "metadata": {
  "kernelspec": {
   "display_name": "Python 3",
   "language": "python",
   "name": "python3"
  },
  "language_info": {
   "codemirror_mode": {
    "name": "ipython",
    "version": 3
   },
   "file_extension": ".py",
   "mimetype": "text/x-python",
   "name": "python",
   "nbconvert_exporter": "python",
   "pygments_lexer": "ipython3",
   "version": "3.7.0"
  }
 },
 "nbformat": 4,
 "nbformat_minor": 2
}
