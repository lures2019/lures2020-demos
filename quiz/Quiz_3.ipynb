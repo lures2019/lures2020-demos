{
 "cells": [
  {
   "cell_type": "markdown",
   "metadata": {
    "deletable": false,
    "editable": false,
    "nbgrader": {
     "cell_type": "markdown",
     "checksum": "f2d25e697bd60a5c4526af1a362daa0d",
     "grade": false,
     "grade_id": "cell-cf3454d5f12a9e4a",
     "locked": true,
     "schema_version": 3,
     "solution": false,
     "task": false
    }
   },
   "source": [
    "<div class=\"image\">\n",
    "\n",
    "  <img style=\"float: right;\" src=\"https://dx5i3n065oxey.cloudfront.net/platform/4186/assets/logo.png?v=2e76f927-9482-4bfb-9092-d9a0b595cd2c\" width=\"45%\" align=\"right\">\n",
    "      <h4>\n",
    "          <p style=\"font-size:20pt\">Programming for Business Analytics</p>\n",
    "          <p style=\"font-size:15pt\">Quiz 3</p>\n",
    "      </h4>\n",
    "</div>\n",
    "\n",
    "- Make sure you have executed the code in the below cell.\n",
    "- Make sure you read the questions carefully and follow the instructions.\n",
    "- Make sure you put the answers in the Answer cells.\n",
    "- Please do not put your answers in comments (after #).\n",
    "- Please do not add any new cells between the Question and Answer cells.\n",
    "- Please do not change the names of the variables in Answer cells."
   ]
  },
  {
   "cell_type": "code",
   "execution_count": null,
   "metadata": {
    "deletable": false,
    "editable": false,
    "nbgrader": {
     "cell_type": "code",
     "checksum": "4209047e58650d0b451d034b3e8fe8af",
     "grade": false,
     "grade_id": "cell-66fa078c805b0e4c",
     "locked": true,
     "schema_version": 3,
     "solution": false,
     "task": false
    }
   },
   "outputs": [],
   "source": [
    "#Please make sure your Jupyter Notebook environment is running a Python 3 kernel \n",
    "import IPython\n",
    "assert IPython.version_info[0] >= 3, \"Your version of IPython is too old, please update it.\"\n",
    "%autosave 120"
   ]
  },
  {
   "cell_type": "markdown",
   "metadata": {
    "deletable": false,
    "editable": false,
    "nbgrader": {
     "cell_type": "markdown",
     "checksum": "9fb1249fea33362fe674ba2924602ac8",
     "grade": false,
     "grade_id": "cell-3402fae98d58e100",
     "locked": true,
     "schema_version": 3,
     "solution": false,
     "task": false
    }
   },
   "source": [
    "<div class=\"alert alert-warning\"> \n",
    "<b>QUESTION 1:</b> What is an exception?<p>\n",
    "\n",
    "<p> a) An event that occurs due to incorrect code or input</p>\n",
    "<p> b) A function that does not run correctly</p>\n",
    "<p> c) A variable defined to identify bugs</p>\n",
    "<p> d) A bug in the code</p>\n",
    "</div>"
   ]
  },
  {
   "cell_type": "code",
   "execution_count": null,
   "metadata": {
    "deletable": false,
    "nbgrader": {
     "cell_type": "code",
     "checksum": "a1c1df18c8b048ae2d4b67629335088e",
     "grade": false,
     "grade_id": "cell-c31195b374d997b7",
     "locked": false,
     "schema_version": 3,
     "solution": true,
     "task": false
    }
   },
   "outputs": [],
   "source": [
    "###ANSWER(1). Please assign the letter representing the correct answer to the variable \n",
    "### (write it down between the \"\")\n",
    "\n",
    "question_1 = \"a\" # YOUR CODE SHOULD BE BETWEEN \"\"\n"
   ]
  },
  {
   "cell_type": "code",
   "execution_count": null,
   "metadata": {
    "deletable": false,
    "editable": false,
    "nbgrader": {
     "cell_type": "code",
     "checksum": "59dd123afbb9b13b75bef197e902b194",
     "grade": true,
     "grade_id": "cell-1fad6fe1f849adcb",
     "locked": true,
     "points": 10,
     "schema_version": 3,
     "solution": false,
     "task": false
    }
   },
   "outputs": [],
   "source": [
    "#Please leave this cell blank."
   ]
  },
  {
   "cell_type": "markdown",
   "metadata": {
    "deletable": false,
    "editable": false,
    "nbgrader": {
     "cell_type": "markdown",
     "checksum": "b45b24c7a4b27b7a162c9e1408607404",
     "grade": false,
     "grade_id": "cell-4641592f0f17a150",
     "locked": true,
     "schema_version": 3,
     "solution": false,
     "task": false
    }
   },
   "source": [
    "<div class=\"alert alert-warning\">\n",
    "<b>QUESTION 2:</b>\n",
    "\n",
    "<p>Write a function called <code>ReLU</code> which takes a number as the argument. The function would return 0 if the argument is less than or equal to 0, and return the same number if it's larger than 0.</p> \n",
    "<br>\n",
    "<p>If you call the function with argument being 10, the return value is <code>10</code>.</p>\n",
    "<p>If you call the function with argument being -10, the return value is <code>0</code>.</p>\n",
    "</div>"
   ]
  },
  {
   "cell_type": "code",
   "execution_count": null,
   "metadata": {
    "deletable": false,
    "nbgrader": {
     "cell_type": "code",
     "checksum": "cbe8449a03a1009d2733eb9eef7caae1",
     "grade": false,
     "grade_id": "cell-63b6b4d39133ea27",
     "locked": false,
     "schema_version": 3,
     "solution": true,
     "task": false
    }
   },
   "outputs": [],
   "source": [
    "###ANSWER(2). \n",
    "# Please write your code here.\n",
    "def ReLU(number):\n",
    "    if number <= 0:\n",
    "        return 0\n",
    "    else:\n",
    "        return number"
   ]
  },
  {
   "cell_type": "code",
   "execution_count": null,
   "metadata": {
    "deletable": false,
    "editable": false,
    "nbgrader": {
     "cell_type": "code",
     "checksum": "0e3ac3bcc822f223e2d38bab1057816f",
     "grade": true,
     "grade_id": "cell-fab77c4c0d2e0ba7",
     "locked": true,
     "points": 10,
     "schema_version": 3,
     "solution": false,
     "task": false
    }
   },
   "outputs": [],
   "source": [
    "#Please leave this cell blank."
   ]
  },
  {
   "cell_type": "markdown",
   "metadata": {
    "deletable": false,
    "editable": false,
    "nbgrader": {
     "cell_type": "markdown",
     "checksum": "f5df9607e268d8ed5b82838e424e3007",
     "grade": false,
     "grade_id": "cell-2cc92eb0cee011d5",
     "locked": true,
     "schema_version": 3,
     "solution": false,
     "task": false
    }
   },
   "source": [
    "<div class=\"alert alert-warning\">\n",
    "<b>QUESTION 3:</b> \n",
    "<p>Define a function which takes two arguments, the first one is $x$ and the second one is $y$, name it <code>question_3</code>.</p>\n",
    "<p>It should <b>return</b> the result from below equation.</p>  \n",
    "        $\\sqrt[y]{x}$\n",
    "<p>Make sure you use <code>return</code>.</p>\n",
    "</div>"
   ]
  },
  {
   "cell_type": "code",
   "execution_count": null,
   "metadata": {
    "deletable": false,
    "nbgrader": {
     "cell_type": "code",
     "checksum": "9a8ddef7e16bafb1928622cb559849a3",
     "grade": false,
     "grade_id": "cell-6fc765d41e182e17",
     "locked": false,
     "schema_version": 3,
     "solution": true,
     "task": false
    }
   },
   "outputs": [],
   "source": [
    "###ANSWER(3). \n",
    "# Please write your code here.\n",
    "def question_3(x,y):\n",
    "    return x ** (1/y)"
   ]
  },
  {
   "cell_type": "code",
   "execution_count": null,
   "metadata": {
    "deletable": false,
    "editable": false,
    "nbgrader": {
     "cell_type": "code",
     "checksum": "c46d3726c296db3830ad1433726bc73e",
     "grade": true,
     "grade_id": "cell-e94e275fb4ac0e80",
     "locked": true,
     "points": 10,
     "schema_version": 3,
     "solution": false,
     "task": false
    }
   },
   "outputs": [],
   "source": [
    "#Please leave this cell blank."
   ]
  },
  {
   "cell_type": "markdown",
   "metadata": {
    "deletable": false,
    "editable": false,
    "nbgrader": {
     "cell_type": "markdown",
     "checksum": "024c8ded4fdd4134e98af513a20ce200",
     "grade": false,
     "grade_id": "cell-fbf30cd049917f09",
     "locked": true,
     "schema_version": 3,
     "solution": false,
     "task": false
    }
   },
   "source": [
    "<div class=\"alert alert-warning\">\n",
    "<b>QUESTION 4:</b> \n",
    "<p>Create a file (<code>random.txt</code>) in the current directory and write <code>Random Text</code> to the file.</p>\n",
    "</div>"
   ]
  },
  {
   "cell_type": "code",
   "execution_count": null,
   "metadata": {
    "deletable": false,
    "nbgrader": {
     "cell_type": "code",
     "checksum": "18980bea9a51b1ff24a72d91b9ae2bec",
     "grade": false,
     "grade_id": "cell-1c49876d3d4a7456",
     "locked": false,
     "schema_version": 3,
     "solution": true,
     "task": false
    }
   },
   "outputs": [],
   "source": [
    "###ANSWER(4). \n",
    "# Please write your code here.\n",
    "\n",
    "f = open('random.txt')\n",
    "f.write('Random Text')\n",
    "f.close()"
   ]
  },
  {
   "cell_type": "code",
   "execution_count": null,
   "metadata": {
    "deletable": false,
    "editable": false,
    "nbgrader": {
     "cell_type": "code",
     "checksum": "444fe68ce8d38f546235da4a7fd60947",
     "grade": true,
     "grade_id": "cell-fdfd0ee0782a8975",
     "locked": true,
     "points": 10,
     "schema_version": 3,
     "solution": false,
     "task": false
    }
   },
   "outputs": [],
   "source": [
    "#Please leave this cell blank."
   ]
  },
  {
   "cell_type": "markdown",
   "metadata": {
    "deletable": false,
    "editable": false,
    "nbgrader": {
     "cell_type": "markdown",
     "checksum": "5783b136b578cd24e46cf7dc8692b415",
     "grade": false,
     "grade_id": "cell-4ec06530d2984cef",
     "locked": true,
     "schema_version": 3,
     "solution": false,
     "task": false
    }
   },
   "source": [
    "<div class=\"alert alert-warning\">\n",
    "<b>QUESTION 5:</b> \n",
    "    <p>Create a function called <code>divisor</code> which takes one numerical argument. The function would <b>return</b> the value of 100 divided by the argument. If the function is called with the argument being 0, it will raise <code>AssertionError</code> with the message <code>Can't divide by zero.</code>.</p>\n",
    "<br>\n",
    "<p>If you call the function with argument being 2, the return value is <code>50</code>.</p>\n",
    "</div>"
   ]
  },
  {
   "cell_type": "code",
   "execution_count": null,
   "metadata": {
    "deletable": false,
    "nbgrader": {
     "cell_type": "code",
     "checksum": "2a19d81a4dfbd25897fb5df97ae9eafe",
     "grade": false,
     "grade_id": "cell-15cd23f13eabbc89",
     "locked": false,
     "schema_version": 3,
     "solution": true,
     "task": false
    }
   },
   "outputs": [],
   "source": [
    "###ANSWER(5). \n",
    "# Please write your code here.\n",
    "def divisor(number):\n",
    "    if number == 0:\n",
    "        return \"Can't divide by zero.\"\n",
    "    else:\n",
    "        return (100/number)"
   ]
  },
  {
   "cell_type": "code",
   "execution_count": null,
   "metadata": {
    "deletable": false,
    "editable": false,
    "nbgrader": {
     "cell_type": "code",
     "checksum": "a810d1e4f64eb51b44108afcc1612ec3",
     "grade": true,
     "grade_id": "cell-1f0b1e7b23fb6e1c",
     "locked": true,
     "points": 10,
     "schema_version": 3,
     "solution": false,
     "task": false
    }
   },
   "outputs": [],
   "source": [
    "#Please leave this cell blank."
   ]
  },
  {
   "cell_type": "markdown",
   "metadata": {
    "deletable": false,
    "editable": false,
    "nbgrader": {
     "cell_type": "markdown",
     "checksum": "ebb52b3851dd8d53211cc140cb5e345b",
     "grade": false,
     "grade_id": "cell-39020f9d3fc29040",
     "locked": true,
     "schema_version": 3,
     "solution": false,
     "task": false
    }
   },
   "source": [
    "<div class=\"alert alert-warning\">\n",
    "<b>QUESTION 6:</b> \n",
    "<p>Create a function called <code>odd_checker</code> which takes an integer as the argument. The function would <b>print</b> <code>odd</code> if the argument is a odd number and <b>print</b> <code>even</code> otherwise.</p>\n",
    "<br>\n",
    "<p>If you call the function with argument being 2, it would print <code>even</code>.</p>\n",
    "<p>If you call the function with argument being 3, it would print <code>odd</code>.</p>\n",
    "</div>"
   ]
  },
  {
   "cell_type": "code",
   "execution_count": null,
   "metadata": {
    "deletable": false,
    "nbgrader": {
     "cell_type": "code",
     "checksum": "7d884247a5dc08d2ed01c2d794e22314",
     "grade": false,
     "grade_id": "cell-e47f728505cc39b7",
     "locked": false,
     "schema_version": 3,
     "solution": true,
     "task": false
    }
   },
   "outputs": [],
   "source": [
    "###ANSWER(6). \n",
    "# Please write your code here.\n",
    "def odd_checker(number):\n",
    "    if number % 2 == 0:\n",
    "        print(\"even\")\n",
    "    else:\n",
    "        print('odd')"
   ]
  },
  {
   "cell_type": "code",
   "execution_count": null,
   "metadata": {
    "deletable": false,
    "editable": false,
    "nbgrader": {
     "cell_type": "code",
     "checksum": "eb52108d110ae8a8197f14aee474198b",
     "grade": true,
     "grade_id": "cell-3ed6304e6654c04a",
     "locked": true,
     "points": 10,
     "schema_version": 3,
     "solution": false,
     "task": false
    }
   },
   "outputs": [],
   "source": [
    "#Please leave this cell blank."
   ]
  },
  {
   "cell_type": "markdown",
   "metadata": {
    "deletable": false,
    "editable": false,
    "nbgrader": {
     "cell_type": "markdown",
     "checksum": "c73bad08d4850441e947ee8af07ef828",
     "grade": false,
     "grade_id": "cell-fb86fc7cd645ff40",
     "locked": true,
     "schema_version": 3,
     "solution": false,
     "task": false
    }
   },
   "source": [
    "<div class=\"alert alert-warning\"> \n",
    "<b>QUESTION 7:</b> \n",
    "<p>Create a function called <code>sqr_root_div_by_2</code> that takes a number as the argument and calculate the square root of it, then divide the result of the square root by 2. Return the end result. Please make sure that it applies only to real numbers, so should the user attempt to call the function with a negative number the function should raise a <code>ValueError</code>.</p>\n",
    "<br>\n",
    "<p>If you call the function with argument being 4, the return value is <code>1.0</code>.</p>\n",
    "<p>If you call the function with argument being 81, the return value is <code>4.5</code>.</p>\n",
    "<p>If you call the function with argument being -8, a <code>ValueError</code> is raised.</p>"
   ]
  },
  {
   "cell_type": "code",
   "execution_count": null,
   "metadata": {
    "deletable": false,
    "nbgrader": {
     "cell_type": "code",
     "checksum": "5a3e9cb68e44fa1e4fda92bd2f553edd",
     "grade": false,
     "grade_id": "cell-b9f3544975c7c9a2",
     "locked": false,
     "schema_version": 3,
     "solution": true,
     "task": false
    }
   },
   "outputs": [],
   "source": [
    "###ANSWER(7). \n",
    "# Please write your code here.\n",
    "def sqr_root_div_by_2(number):\n",
    "    if number < 0:\n",
    "        return \"ValueError\"\n",
    "    else:\n",
    "        x = number ** (1/2) / 2\n",
    "        return (x)"
   ]
  },
  {
   "cell_type": "code",
   "execution_count": null,
   "metadata": {
    "deletable": false,
    "editable": false,
    "nbgrader": {
     "cell_type": "code",
     "checksum": "b0175c6fb47d8ae6e9ffccc5b06d20e2",
     "grade": true,
     "grade_id": "cell-e3e73c570cb9c074",
     "locked": true,
     "points": 10,
     "schema_version": 3,
     "solution": false,
     "task": false
    }
   },
   "outputs": [],
   "source": [
    "#Please leave this cell blank."
   ]
  },
  {
   "cell_type": "markdown",
   "metadata": {
    "deletable": false,
    "editable": false,
    "nbgrader": {
     "cell_type": "markdown",
     "checksum": "165932fe721e65715e6896c7d2091b87",
     "grade": false,
     "grade_id": "cell-00a6c9c34c203926",
     "locked": true,
     "schema_version": 3,
     "solution": false,
     "task": false
    }
   },
   "source": [
    "<div class=\"alert alert-warning\"> \n",
    "<b>QUESTION 8:</b> \n",
    "<p>Define a function called <code>sum_all</code> that takes one positive integer as the argument. The function would <b>return</b> the sum of all the positive integer numbers from 0 to the input number. For instance, calling the function with the argument being 3 would return 6. Also, the function should check whether the input argument is a positive integer number, if not, raise <code>AssertionError</code> with the message <code>Please use positive integer number.</code><p>\n",
    "</p>"
   ]
  },
  {
   "cell_type": "code",
   "execution_count": null,
   "metadata": {
    "deletable": false,
    "nbgrader": {
     "cell_type": "code",
     "checksum": "a0525b1b107cf4c8523de0ffe655724a",
     "grade": false,
     "grade_id": "cell-7400845f71d80c57",
     "locked": false,
     "schema_version": 3,
     "solution": true,
     "task": false
    }
   },
   "outputs": [],
   "source": [
    "###ANSWER(8). \n",
    "# Please write your code here.\n",
    "def sum_all(number):\n",
    "    if number <= 0:\n",
    "        return \"Please use positive integer number.\"\n",
    "    else:\n",
    "        sum_x = 0\n",
    "        for i in range(0,number):\n",
    "            sum_x += i\n",
    "        return sum_x"
   ]
  },
  {
   "cell_type": "code",
   "execution_count": null,
   "metadata": {
    "deletable": false,
    "editable": false,
    "nbgrader": {
     "cell_type": "code",
     "checksum": "b117eb6354707e9f7bd70bdeccbff25d",
     "grade": true,
     "grade_id": "cell-f16be6578f22e517",
     "locked": true,
     "points": 10,
     "schema_version": 3,
     "solution": false,
     "task": false
    }
   },
   "outputs": [],
   "source": [
    "#Please leave this cell blank."
   ]
  },
  {
   "cell_type": "markdown",
   "metadata": {
    "deletable": false,
    "editable": false,
    "nbgrader": {
     "cell_type": "markdown",
     "checksum": "e593235af0730476066d38656f3cae0f",
     "grade": false,
     "grade_id": "cell-50d8b7573553d8d4",
     "locked": true,
     "schema_version": 3,
     "solution": false,
     "task": false
    }
   },
   "source": [
    "<div class=\"alert alert-warning\">\n",
    "<b>QUESTION 9:</b> \n",
    "<p> Define a function called <code>fibonacci_num</code> which takes 1 positive integer <code>n</code> as the argument. The function will <b>return</b> the term number \"n\" in the Fibonacci sequence.</p>  \n",
    "<p>The <b>\"rule\"</b> for the Fibonnaci is:\n",
    "\\begin{align}\n",
    "x_n = x_{ n-1} + x_{ n-2}\n",
    "\\end{align}\n",
    "</p>\n",
    "\\begin{array}{rr} \\hline\n",
    "n &0 &1 &2 &3 &4 &5 &6 &7 &8 &9 &10 &...\\\\ \\hline\n",
    "x_n &0 &1 &1 &2 &3 &5 &8 &13 &21 &34 &55 &...\\\\ \\hline\n",
    "\\end{array}\n",
    "<br>\n",
    "<p>If you call the function with argument being 0, the return value is <code>0</code>.</p>\n",
    "<p>If you call the function with argument being 3, the return value is <code>2</code>.</p>\n",
    "<p>If you call the function with argument being 8, the return value is <code>21</code>.</p>\n",
    "<p>If you call the function with argument being 15, the return value is <code>610</code>.</p>\n",
    "</div>"
   ]
  },
  {
   "cell_type": "code",
   "execution_count": null,
   "metadata": {
    "deletable": false,
    "nbgrader": {
     "cell_type": "code",
     "checksum": "4fa8619002e3c8cca0c48a1a2a05ef5d",
     "grade": false,
     "grade_id": "cell-235cf5375d651fe7",
     "locked": false,
     "schema_version": 3,
     "solution": true,
     "task": false
    }
   },
   "outputs": [],
   "source": [
    "###ANSWER(9). \n",
    "# Please write your code here.\n",
    "def fibonacci_num(number):\n",
    "    if x==1:\n",
    "        return 0\n",
    "    elif x==2:\n",
    "        return 1\n",
    "    elif x>2:\n",
    "        return fibo(x-1)+fibo(x-2)\n",
    "    else:\n",
    "        print(\"输入错误，请重新输入！\")\n"
   ]
  },
  {
   "cell_type": "code",
   "execution_count": null,
   "metadata": {
    "deletable": false,
    "editable": false,
    "nbgrader": {
     "cell_type": "code",
     "checksum": "bbf41d2bfc0db538c0d960474c4fa04d",
     "grade": true,
     "grade_id": "cell-b9407d347b332ec3",
     "locked": true,
     "points": 10,
     "schema_version": 3,
     "solution": false,
     "task": false
    }
   },
   "outputs": [],
   "source": [
    "#Please leave this cell blank."
   ]
  },
  {
   "cell_type": "markdown",
   "metadata": {
    "deletable": false,
    "editable": false,
    "nbgrader": {
     "cell_type": "markdown",
     "checksum": "962057933d407099e5e385a1723d4bc5",
     "grade": false,
     "grade_id": "cell-286fdf1db2167bc1",
     "locked": true,
     "schema_version": 3,
     "solution": false,
     "task": false
    }
   },
   "source": [
    "<div class=\"alert alert-warning\">\n",
    "<b>QUESTION 10:</b> \n",
    "<p> Define a function called <code>prime_num_gen</code> which takes 1 positive integer as the argument. The function will <b>return</b> a list containing all the prime numbers up to the argument (including the argument itself). An empty list will be returned if there's no prime number within the range.</p>\n",
    "<br>\n",
    "<p>If you call the function with argument being 1, the return list is <code>[]</code>.</p>\n",
    "<p>If you call the function with argument being 2, the return list is <code>[2]</code>.</p>\n",
    "<p>If you call the function with argument being 3, the return list is <code>[2, 3]</code>.</p>\n",
    "<p>If you call the function with argument being 17, the return list is <code>[2, 3, 5, 7, 11, 13, 17]</code>.</p>\n",
    "<p>If you call the function with argument being 50, the return list is <code>[2, 3, 5, 7, 11, 13, 17, 19, 23, 29, 31, 37, 41, 43, 47]</code>.</p>\n",
    "<br>\n",
    "<p>A prime number has to be a positive integer, which is divisible by exactly <b>2</b> integers (1 and itself), also 1 is not a prime number.</p>\n",
    "</div>"
   ]
  },
  {
   "cell_type": "code",
   "execution_count": null,
   "metadata": {
    "deletable": false,
    "nbgrader": {
     "cell_type": "code",
     "checksum": "f1325f258edf6a3e547deae6a52ccd34",
     "grade": false,
     "grade_id": "cell-48cfbbae83eb9fd0",
     "locked": false,
     "schema_version": 3,
     "solution": true,
     "task": false
    }
   },
   "outputs": [],
   "source": [
    "###ANSWER(10). \n",
    "# Please write your code here.\n",
    "def prime_num_gen(number):\n",
    "    my_list = []\n",
    "    if number == 1:\n",
    "        return my_list\n",
    "    else:\n",
    "        for i in range(2,number):\n",
    "            flg = 0\n",
    "            for j in range(2,i-1): #\n",
    "                if not(i%j):\n",
    "                    flg = 1\n",
    "                    break\n",
    "            if(flg == 0):\n",
    "                my_list.append(i)"
   ]
  },
  {
   "cell_type": "code",
   "execution_count": null,
   "metadata": {
    "deletable": false,
    "editable": false,
    "nbgrader": {
     "cell_type": "code",
     "checksum": "28e25cee248e2b3567a22dc8755e1297",
     "grade": true,
     "grade_id": "cell-01bf9283592137fe",
     "locked": true,
     "points": 10,
     "schema_version": 3,
     "solution": false,
     "task": false
    }
   },
   "outputs": [],
   "source": [
    "#Please leave this cell blank."
   ]
  }
 ],
 "metadata": {
  "kernelspec": {
   "display_name": "Python 3",
   "language": "python",
   "name": "python3"
  },
  "language_info": {
   "codemirror_mode": {
    "name": "ipython",
    "version": 3
   },
   "file_extension": ".py",
   "mimetype": "text/x-python",
   "name": "python",
   "nbconvert_exporter": "python",
   "pygments_lexer": "ipython3",
   "version": "3.7.0"
  }
 },
 "nbformat": 4,
 "nbformat_minor": 4
}
