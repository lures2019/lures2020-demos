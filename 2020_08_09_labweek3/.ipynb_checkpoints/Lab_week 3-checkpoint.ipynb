{
 "cells": [
  {
   "cell_type": "markdown",
   "metadata": {},
   "source": [
    "# Instructions"
   ]
  },
  {
   "cell_type": "markdown",
   "metadata": {},
   "source": [
    "Lab 3 consists of 9 questions. \n",
    "\n",
    "● Once completed, you will submit all 10 exercises as jupyter notebooks (as a single .ipynb file) through e-mail at 'tahiya.chowdhury@rutgers.edu' for grading.\n",
    "\n",
    "● In the e-mail, use subject line: `CPSML: Week 3 _ your full name`\n",
    "\n",
    "● Both the jupyter notebook and e-mail should contain your name in English."
   ]
  },
  {
   "cell_type": "markdown",
   "metadata": {},
   "source": [
    "## Pandas"
   ]
  },
  {
   "cell_type": "markdown",
   "metadata": {},
   "source": [
    "- In this lab you will start using `pandas`, which is a data science library. \n",
    "- Pandas adds data structures and tools designed to work with \n",
    "- It provides tools for data manipulation: reshaping, merging, sorting, slicing, aggregation etc.\n",
    "- It allows handling missing data"
   ]
  },
  {
   "cell_type": "code",
   "execution_count": 1,
   "metadata": {},
   "outputs": [],
   "source": [
    "#!pip install pandas"
   ]
  },
  {
   "cell_type": "code",
   "execution_count": 2,
   "metadata": {},
   "outputs": [
    {
     "name": "stdout",
     "output_type": "stream",
     "text": [
      "(78, 6)\n"
     ]
    }
   ],
   "source": [
    "import pandas as pd          ## importing pandas library as pd\n",
    "df_salaries = pd.read_csv(\"http://rcs.bu.edu/examples/python/data_analysis/Salaries.csv\")\n",
    "df_salaries.head(10)                  ## showing the first 10 rows of the data\n",
    "print(df_salaries.shape)"
   ]
  },
  {
   "cell_type": "markdown",
   "metadata": {},
   "source": [
    "## Problem 1"
   ]
  },
  {
   "cell_type": "markdown",
   "metadata": {},
   "source": [
    "- Use pandas to read the file you downloaded in week 2 lab from here: https://sensor.informatik.uni-mannheim.de/#dataset_realworld_subject1\n",
    "- Print the first and last 10 lines. Hint: Use `df.head()` and `df.tail()`\n",
    "- Print the columns names. Hint: use `df.columns` command.\n",
    "- Remove the first and second column. Print the dataframe now.\n",
    "- Print the size, the shape and the datatypes of the dataframe.\n",
    "- Print only the values of the dataframe (numpy representation). Hint: Use `df.values` command."
   ]
  },
  {
   "cell_type": "code",
   "execution_count": 11,
   "metadata": {},
   "outputs": [
    {
     "name": "stdout",
     "output_type": "stream",
     "text": [
      "   id      attr_time    attr_x    attr_y    attr_z\n",
      "0   1  1435996968010  5.616797  8.064270  0.878073\n",
      "1   2  1435996968032  5.589264  8.054693  0.869095\n",
      "2   3  1435996968052  5.580884  8.060080  0.908001\n",
      "3   4  1435996968073  5.588067  8.033744  0.884658\n",
      "4   5  1435996968093  5.583877  8.060678  0.875679\n",
      "5   6  1435996968113  5.596446  8.047510  0.858920\n",
      "6   7  1435996968131  5.609016  8.051102  0.862511\n",
      "7   8  1435996968150  5.600637  8.058883  0.869694\n",
      "8   9  1435996968170  5.589264  8.024167  0.891242\n",
      "9  10  1435996968230  5.547365  8.076241  0.959476\n",
      "          id      attr_time    attr_x    attr_y    attr_z\n",
      "25425  25426  1435997477001  9.244013  1.811214  2.901174\n",
      "25426  25427  1435997477020  9.332599  1.839346  2.943073\n",
      "25427  25428  1435997477040  9.401431  1.822586  2.865860\n",
      "25428  25429  1435997477060  9.376891  1.795651  2.836530\n",
      "25429  25430  1435997477080  9.312846  1.786074  2.801216\n",
      "25430  25431  1435997477100  9.301474  1.808221  2.819771\n",
      "25431  25432  1435997477120  9.307459  1.821988  2.839523\n",
      "25432  25433  1435997477141  9.283517  1.826776  2.808997\n",
      "25433  25434  1435997477161  9.279925  1.815403  2.818574\n",
      "25434  25435  1435997477182  9.272743  1.818396  2.822764\n",
      "Index(['id', 'attr_time', 'attr_x', 'attr_y', 'attr_z'], dtype='object')\n",
      "         attr_x    attr_y    attr_z\n",
      "0      5.616797  8.064270  0.878073\n",
      "1      5.589264  8.054693  0.869095\n",
      "2      5.580884  8.060080  0.908001\n",
      "3      5.588067  8.033744  0.884658\n",
      "4      5.583877  8.060678  0.875679\n",
      "...         ...       ...       ...\n",
      "25430  9.301474  1.808221  2.819771\n",
      "25431  9.307459  1.821988  2.839523\n",
      "25432  9.283517  1.826776  2.808997\n",
      "25433  9.279925  1.815403  2.818574\n",
      "25434  9.272743  1.818396  2.822764\n",
      "\n",
      "[25435 rows x 3 columns]\n",
      "76305 (25435, 3) attr_x    float64\n",
      "attr_y    float64\n",
      "attr_z    float64\n",
      "dtype: object\n",
      "[[5.616797   8.06427    0.87807345]\n",
      " [5.589264   8.054693   0.8690952 ]\n",
      " [5.580884   8.06008    0.908001  ]\n",
      " ...\n",
      " [9.283517   1.8267759  2.8089972 ]\n",
      " [9.279925   1.8154035  2.818574  ]\n",
      " [9.272743   1.8183962  2.822764  ]]\n"
     ]
    }
   ],
   "source": [
    "import pandas as pd\n",
    "\n",
    "df = pd.read_csv('acc_climbingdown_chest.csv')\n",
    "# 打印出前10行\n",
    "print(df.head(10))\n",
    "# 打印出后10行\n",
    "print(df.tail(10))\n",
    "# 打印出列的名字\n",
    "print(df.columns)\n",
    "# 删除第一列和第二列\n",
    "x = [0,1]\n",
    "df.drop(df.columns[x], axis=1, inplace=True)\n",
    "print(df)\n",
    "# 打印出df的大小/形状以及数据类型\n",
    "print(df.size,df.shape,df.dtypes)\n",
    "print(df.values)"
   ]
  },
  {
   "cell_type": "markdown",
   "metadata": {},
   "source": [
    "## Problem 2"
   ]
  },
  {
   "cell_type": "code",
   "execution_count": 12,
   "metadata": {},
   "outputs": [
    {
     "data": {
      "text/html": [
       "<div>\n",
       "<style scoped>\n",
       "    .dataframe tbody tr th:only-of-type {\n",
       "        vertical-align: middle;\n",
       "    }\n",
       "\n",
       "    .dataframe tbody tr th {\n",
       "        vertical-align: top;\n",
       "    }\n",
       "\n",
       "    .dataframe thead th {\n",
       "        text-align: right;\n",
       "    }\n",
       "</style>\n",
       "<table border=\"1\" class=\"dataframe\">\n",
       "  <thead>\n",
       "    <tr style=\"text-align: right;\">\n",
       "      <th></th>\n",
       "      <th>rank</th>\n",
       "      <th>discipline</th>\n",
       "      <th>phd</th>\n",
       "      <th>service</th>\n",
       "      <th>sex</th>\n",
       "      <th>salary</th>\n",
       "    </tr>\n",
       "  </thead>\n",
       "  <tbody>\n",
       "    <tr>\n",
       "      <td>0</td>\n",
       "      <td>Prof</td>\n",
       "      <td>B</td>\n",
       "      <td>56</td>\n",
       "      <td>49</td>\n",
       "      <td>Male</td>\n",
       "      <td>186960</td>\n",
       "    </tr>\n",
       "    <tr>\n",
       "      <td>1</td>\n",
       "      <td>Prof</td>\n",
       "      <td>A</td>\n",
       "      <td>12</td>\n",
       "      <td>6</td>\n",
       "      <td>Male</td>\n",
       "      <td>93000</td>\n",
       "    </tr>\n",
       "    <tr>\n",
       "      <td>2</td>\n",
       "      <td>Prof</td>\n",
       "      <td>A</td>\n",
       "      <td>23</td>\n",
       "      <td>20</td>\n",
       "      <td>Male</td>\n",
       "      <td>110515</td>\n",
       "    </tr>\n",
       "    <tr>\n",
       "      <td>3</td>\n",
       "      <td>Prof</td>\n",
       "      <td>A</td>\n",
       "      <td>40</td>\n",
       "      <td>31</td>\n",
       "      <td>Male</td>\n",
       "      <td>131205</td>\n",
       "    </tr>\n",
       "    <tr>\n",
       "      <td>4</td>\n",
       "      <td>Prof</td>\n",
       "      <td>B</td>\n",
       "      <td>20</td>\n",
       "      <td>18</td>\n",
       "      <td>Male</td>\n",
       "      <td>104800</td>\n",
       "    </tr>\n",
       "    <tr>\n",
       "      <td>5</td>\n",
       "      <td>Prof</td>\n",
       "      <td>A</td>\n",
       "      <td>20</td>\n",
       "      <td>20</td>\n",
       "      <td>Male</td>\n",
       "      <td>122400</td>\n",
       "    </tr>\n",
       "    <tr>\n",
       "      <td>6</td>\n",
       "      <td>AssocProf</td>\n",
       "      <td>A</td>\n",
       "      <td>20</td>\n",
       "      <td>17</td>\n",
       "      <td>Male</td>\n",
       "      <td>81285</td>\n",
       "    </tr>\n",
       "    <tr>\n",
       "      <td>7</td>\n",
       "      <td>Prof</td>\n",
       "      <td>A</td>\n",
       "      <td>18</td>\n",
       "      <td>18</td>\n",
       "      <td>Male</td>\n",
       "      <td>126300</td>\n",
       "    </tr>\n",
       "    <tr>\n",
       "      <td>8</td>\n",
       "      <td>Prof</td>\n",
       "      <td>A</td>\n",
       "      <td>29</td>\n",
       "      <td>19</td>\n",
       "      <td>Male</td>\n",
       "      <td>94350</td>\n",
       "    </tr>\n",
       "    <tr>\n",
       "      <td>9</td>\n",
       "      <td>Prof</td>\n",
       "      <td>A</td>\n",
       "      <td>51</td>\n",
       "      <td>51</td>\n",
       "      <td>Male</td>\n",
       "      <td>57800</td>\n",
       "    </tr>\n",
       "  </tbody>\n",
       "</table>\n",
       "</div>"
      ],
      "text/plain": [
       "        rank discipline  phd  service   sex  salary\n",
       "0       Prof          B   56       49  Male  186960\n",
       "1       Prof          A   12        6  Male   93000\n",
       "2       Prof          A   23       20  Male  110515\n",
       "3       Prof          A   40       31  Male  131205\n",
       "4       Prof          B   20       18  Male  104800\n",
       "5       Prof          A   20       20  Male  122400\n",
       "6  AssocProf          A   20       17  Male   81285\n",
       "7       Prof          A   18       18  Male  126300\n",
       "8       Prof          A   29       19  Male   94350\n",
       "9       Prof          A   51       51  Male   57800"
      ]
     },
     "execution_count": 12,
     "metadata": {},
     "output_type": "execute_result"
    }
   ],
   "source": [
    "df_salaries = pd.read_csv(\"http://rcs.bu.edu/examples/python/data_analysis/Salaries.csv\")\n",
    "df_salaries.head(10)"
   ]
  },
  {
   "cell_type": "markdown",
   "metadata": {},
   "source": [
    "- Consider `df_salaries` mentioned above, which contains salary data.\n",
    "- Check the datatype of `discipline` and `salary` columns. Print it.\n",
    "- Print the maximum and minimum value of each column of the dataframe. Hint: Use `max()` and `min()` function.\n",
    "- Print the mean, meadian and standard deviation value of each column of the dataframe. Hint: Use `mean()`, `median()` and `std()` function.\n",
    "- Apply `df.describe` to view common statistics about the data. Print it.\n",
    "- Find if there are missing values in the dataframe. Drop record with missing values using `df.dropna()`. Print it.\n"
   ]
  },
  {
   "cell_type": "code",
   "execution_count": 25,
   "metadata": {},
   "outputs": [
    {
     "name": "stdout",
     "output_type": "stream",
     "text": [
      "object int64\n",
      "Prof AssocProf\n",
      "B A\n",
      "56 1\n",
      "51 0\n",
      "Male Female\n",
      "186960 57800\n",
      "19.705128205128204 18.5 12.498424809175864\n",
      "15.051282051282051 14.5 12.139767682042327\n",
      "108023.78205128205 104671.0 28293.66102226417\n",
      "<bound method NDFrame.describe of          rank discipline  phd  service     sex  salary\n",
      "0        Prof          B   56       49    Male  186960\n",
      "1        Prof          A   12        6    Male   93000\n",
      "2        Prof          A   23       20    Male  110515\n",
      "3        Prof          A   40       31    Male  131205\n",
      "4        Prof          B   20       18    Male  104800\n",
      "..        ...        ...  ...      ...     ...     ...\n",
      "73       Prof          B   18       10  Female  105450\n",
      "74  AssocProf          B   19        6  Female  104542\n",
      "75       Prof          B   17       17  Female  124312\n",
      "76       Prof          A   28       14  Female  109954\n",
      "77       Prof          A   23       15  Female  109646\n",
      "\n",
      "[78 rows x 6 columns]>\n",
      "         rank discipline  phd  service     sex  salary\n",
      "0        Prof          B   56       49    Male  186960\n",
      "1        Prof          A   12        6    Male   93000\n",
      "2        Prof          A   23       20    Male  110515\n",
      "3        Prof          A   40       31    Male  131205\n",
      "4        Prof          B   20       18    Male  104800\n",
      "..        ...        ...  ...      ...     ...     ...\n",
      "73       Prof          B   18       10  Female  105450\n",
      "74  AssocProf          B   19        6  Female  104542\n",
      "75       Prof          B   17       17  Female  124312\n",
      "76       Prof          A   28       14  Female  109954\n",
      "77       Prof          A   23       15  Female  109646\n",
      "\n",
      "[78 rows x 6 columns]\n"
     ]
    }
   ],
   "source": [
    "# 查看dataframe的discipline以及salary的数据类型\n",
    "print(df_salaries['discipline'].dtype,df_salaries['salary'].dtype)\n",
    "# 打印出dataframe的每一列的最大值和最小值\n",
    "for col in df_salaries.columns:\n",
    "    print(df_salaries[col].max(),df_salaries[col].min())\n",
    "# 打印出dataframe的平均值/中间值以及标准值\n",
    "# 除了上面的cols里面的几列，剩下的会报错\n",
    "cols = ['phd','service','salary']\n",
    "for col in cols:\n",
    "    print(df_salaries[col].mean(),df_salaries[col].median(),df_salaries[col].std())\n",
    "\n",
    "print(df_salaries.describe)\n",
    "print(df_salaries.dropna())"
   ]
  },
  {
   "cell_type": "markdown",
   "metadata": {},
   "source": [
    "## Problem 3"
   ]
  },
  {
   "cell_type": "markdown",
   "metadata": {},
   "source": [
    "- Group the data entries based on discipline (A, B). Hint: Use `df.groupby([column_name])` function.\n",
    "- Calculate the mean, max, min, median value per group. Print them.\n",
    "- Repeat step 1 and 2 to group data based on sex and rank.\n",
    "- Show the dataframe in sorted form in terms of salary (lowest salary to highest). Hint: use `df.sort_values` function.\n"
   ]
  },
  {
   "cell_type": "code",
   "execution_count": 33,
   "metadata": {},
   "outputs": [
    {
     "name": "stdout",
     "output_type": "stream",
     "text": [
      "<pandas.core.groupby.generic.DataFrameGroupBy object at 0x0000027E615E5E80>\n",
      "                 phd    service         salary\n",
      "rank                                          \n",
      "AssocProf  15.076923  11.307692   91786.230769\n",
      "AsstProf    5.052632   2.210526   81362.789474\n",
      "Prof       27.065217  21.413043  123624.804348           discipline  phd  service   sex  salary\n",
      "rank                                            \n",
      "AssocProf          B   26       24  Male  119800\n",
      "AsstProf           B   11        6  Male   97032\n",
      "Prof               B   56       51  Male  186960           discipline  phd  service     sex  salary\n",
      "rank                                              \n",
      "AssocProf          A    9        6  Female   62884\n",
      "AsstProf           A    1        0  Female   63100\n",
      "Prof               A   12        0  Female   57800             phd  service    salary\n",
      "rank                              \n",
      "AssocProf  13.0      9.0  103613.0\n",
      "AsstProf    4.0      2.0   78500.0\n",
      "Prof       24.5     19.0  123321.5\n",
      "<pandas.core.groupby.generic.DataFrameGroupBy object at 0x0000027E60A1F7F0>\n",
      "                  phd    service         salary\n",
      "discipline                                     \n",
      "A           21.527778  15.722222   98331.111111\n",
      "B           18.142857  14.476190  116331.785714             rank  phd  service   sex  salary\n",
      "discipline                                  \n",
      "A           Prof   51       51  Male  155865\n",
      "B           Prof   56       49  Male  186960                  rank  phd  service     sex  salary\n",
      "discipline                                         \n",
      "A           AssocProf    2        0  Female   57800\n",
      "B           AssocProf    1        0  Female   71065              phd  service    salary\n",
      "discipline                         \n",
      "A           21.5     16.0   93675.0\n",
      "B           17.0     12.5  110581.0\n",
      "<pandas.core.groupby.generic.DataFrameGroupBy object at 0x0000027E60EB6C50>\n",
      "       service     salary\n",
      "phd                      \n",
      "1     0.000000   88000.00\n",
      "2     0.000000   78750.00\n",
      "3     2.000000   82250.00\n",
      "4     2.166667   84287.50\n",
      "5     1.500000   75250.00\n",
      "7     4.000000   77200.00\n",
      "8     3.000000   76772.00\n",
      "9     7.000000  107008.00\n",
      "10    6.500000   87266.00\n",
      "11    7.000000   89152.50\n",
      "12    6.600000   98571.80\n",
      "13    9.000000   89290.00\n",
      "14    7.000000  109650.00\n",
      "17   13.200000  119942.80\n",
      "18   16.000000  120187.50\n",
      "19    6.500000  105921.00\n",
      "20   15.400000  107599.40\n",
      "21   20.000000  123683.00\n",
      "22   21.000000  155750.00\n",
      "23   19.250000  126676.75\n",
      "24   15.000000  161101.00\n",
      "25   22.000000  118910.00\n",
      "26   24.000000   73300.00\n",
      "27   19.000000  103275.00\n",
      "28   14.666667  117779.00\n",
      "29   24.333333  111950.00\n",
      "30   23.000000   91100.00\n",
      "33   30.000000  103106.00\n",
      "35   32.000000  130809.00\n",
      "36   22.500000  131103.00\n",
      "38   19.000000  148750.00\n",
      "39   34.500000  132625.00\n",
      "40   31.000000  131205.00\n",
      "45   44.000000  151360.50\n",
      "51   51.000000   57800.00\n",
      "56   49.000000  186960.00           rank discipline  service     sex  salary\n",
      "phd                                               \n",
      "1     AsstProf          B        0    Male   88000\n",
      "2     AsstProf          A        0    Male   85000\n",
      "3     AsstProf          B        3  Female   92000\n",
      "4     AsstProf          B        4    Male   92000\n",
      "5     AsstProf          B        3  Female   77000\n",
      "7     AsstProf          B        6    Male   91300\n",
      "8     AsstProf          B        3    Male   78500\n",
      "9    AssocProf          B        7    Male  107008\n",
      "10    AsstProf          B        8  Female   97032\n",
      "11    AsstProf          B       11  Female  103613\n",
      "12        Prof          B       10    Male  119800\n",
      "13   AssocProf          B       10  Female  103750\n",
      "14   AssocProf          B        7  Female  109650\n",
      "17        Prof          B       18    Male  150480\n",
      "18        Prof          B       18    Male  129000\n",
      "19        Prof          B        7    Male  107300\n",
      "20        Prof          B       20    Male  127512\n",
      "21        Prof          B       20    Male  123683\n",
      "22        Prof          B       21    Male  155750\n",
      "23        Prof          B       23    Male  151768\n",
      "24        Prof          B       15  Female  161101\n",
      "25        Prof          B       25    Male  153750\n",
      "26   AssocProf          A       24  Female   73300\n",
      "27        Prof          A       19    Male  103275\n",
      "28        Prof          B       23    Male  126933\n",
      "29        Prof          A       27    Male  150500\n",
      "30        Prof          A       23    Male   91100\n",
      "33        Prof          A       30    Male  103106\n",
      "35        Prof          B       33    Male  162200\n",
      "36        Prof          B       26  Female  144651\n",
      "38        Prof          A       19    Male  148750\n",
      "39        Prof          B       36    Male  137000\n",
      "40        Prof          A       31    Male  131205\n",
      "45        Prof          B       45    Male  155865\n",
      "51        Prof          A       51    Male   57800\n",
      "56        Prof          B       49    Male  186960           rank discipline  service     sex  salary\n",
      "phd                                               \n",
      "1     AsstProf          B        0    Male   88000\n",
      "2     AsstProf          A        0  Female   72500\n",
      "3     AsstProf          A        1  Female   72500\n",
      "4     AsstProf          A        0  Female   73000\n",
      "5     AsstProf          A        0  Female   73500\n",
      "7     AsstProf          A        2  Female   63100\n",
      "8     AsstProf          A        3  Female   75044\n",
      "9    AssocProf          B        7    Male  107008\n",
      "10   AssocProf          A        5  Female   77500\n",
      "11   AssocProf          B        3  Female   74692\n",
      "12   AssocProf          A        0  Female   71065\n",
      "13   AssocProf          A        8  Female   74830\n",
      "14   AssocProf          B        7  Female  109650\n",
      "17        Prof          A        3  Female   90450\n",
      "18        Prof          A       10  Female  105450\n",
      "19   AssocProf          A        6  Female  104542\n",
      "20   AssocProf          A        8  Female   81285\n",
      "21        Prof          B       20    Male  123683\n",
      "22        Prof          B       21    Male  155750\n",
      "23        Prof          A       15  Female  109646\n",
      "24        Prof          B       15  Female  161101\n",
      "25   AssocProf          A       19  Female   62884\n",
      "26   AssocProf          A       24  Female   73300\n",
      "27        Prof          A       19    Male  103275\n",
      "28        Prof          A        7  Female  109954\n",
      "29        Prof          A       19  Female   91000\n",
      "30        Prof          A       23    Male   91100\n",
      "33        Prof          A       30    Male  103106\n",
      "35        Prof          B       31    Male   99418\n",
      "36        Prof          A       19  Female  117555\n",
      "38        Prof          A       19    Male  148750\n",
      "39        Prof          A       33  Female  128250\n",
      "40        Prof          A       31    Male  131205\n",
      "45        Prof          A       43    Male  146856\n",
      "51        Prof          A       51    Male   57800\n",
      "56        Prof          B       49    Male  186960      service    salary\n",
      "phd                   \n",
      "1        0.0   88000.0\n",
      "2        0.0   78750.0\n",
      "3        2.0   82250.0\n",
      "4        2.0   85612.5\n",
      "5        1.5   75250.0\n",
      "7        4.0   77200.0\n",
      "8        3.0   76772.0\n",
      "9        7.0  107008.0\n",
      "10       6.5   87266.0\n",
      "11       7.0   89152.5\n",
      "12       8.0  103994.0\n",
      "13       9.0   89290.0\n",
      "14       7.0  109650.0\n",
      "17      17.0  122960.0\n",
      "18      18.0  123150.0\n",
      "19       6.5  105921.0\n",
      "20      17.0  104800.0\n",
      "21      20.0  123683.0\n",
      "22      21.0  155750.0\n",
      "23      19.5  122646.5\n",
      "24      15.0  161101.0\n",
      "25      22.0  140096.0\n",
      "26      24.0   73300.0\n",
      "27      19.0  103275.0\n",
      "28      14.0  116450.0\n",
      "29      27.0   94350.0\n",
      "30      23.0   91100.0\n",
      "33      30.0  103106.0\n",
      "35      32.0  130809.0\n",
      "36      22.5  131103.0\n",
      "38      19.0  148750.0\n",
      "39      34.5  132625.0\n",
      "40      31.0  131205.0\n",
      "45      44.0  151360.5\n",
      "51      51.0   57800.0\n",
      "56      49.0  186960.0\n",
      "<pandas.core.groupby.generic.DataFrameGroupBy object at 0x0000027E60EB6C50>\n",
      "               phd         salary\n",
      "service                          \n",
      "0         4.333333   86583.333333\n",
      "1         3.000000   72500.000000\n",
      "2         4.750000   80506.250000\n",
      "3         8.000000   90745.142857\n",
      "4         4.000000   92000.000000\n",
      "5        10.000000   97032.000000\n",
      "6        12.666667   86880.666667\n",
      "7        17.500000  110102.000000\n",
      "8        13.750000   93532.500000\n",
      "9        12.000000   71065.000000\n",
      "10       14.333333  104398.000000\n",
      "11       14.000000   97031.500000\n",
      "14       24.000000  118733.000000\n",
      "15       23.500000  135373.500000\n",
      "17       18.000000  105703.000000\n",
      "18       18.200000  120612.000000\n",
      "19       29.666667  128241.333333\n",
      "20       21.333333  118866.000000\n",
      "21       22.000000  155750.000000\n",
      "22       25.000000   62884.000000\n",
      "23       27.000000  117603.666667\n",
      "24       26.000000   73300.000000\n",
      "25       25.000000  140096.000000\n",
      "26       36.000000  144651.000000\n",
      "27       29.000000  120750.000000\n",
      "30       33.000000  103106.000000\n",
      "31       37.500000  115311.500000\n",
      "33       37.000000  145225.000000\n",
      "36       39.000000  137000.000000\n",
      "43       45.000000  155865.000000\n",
      "45       45.000000  146856.000000\n",
      "49       56.000000  186960.000000\n",
      "51       51.000000   57800.000000               rank discipline  phd     sex  salary\n",
      "service                                           \n",
      "0             Prof          B   12    Male  105000\n",
      "1         AsstProf          A    3  Female   72500\n",
      "2         AsstProf          B    7    Male   91300\n",
      "3             Prof          B   17    Male  150480\n",
      "4         AsstProf          B    4    Male   92000\n",
      "5         AsstProf          B   10  Female   97032\n",
      "6             Prof          B   19    Male  104542\n",
      "7             Prof          B   28    Male  116450\n",
      "8             Prof          B   20    Male  119800\n",
      "9        AssocProf          B   12  Female   71065\n",
      "10            Prof          B   18  Female  105450\n",
      "11            Prof          B   17  Female  103613\n",
      "14            Prof          B   28  Female  127512\n",
      "15            Prof          B   24  Female  161101\n",
      "17            Prof          B   20    Male  124312\n",
      "18            Prof          B   20    Male  129000\n",
      "19            Prof          B   38    Male  153750\n",
      "20            Prof          B   23    Male  123683\n",
      "21            Prof          B   22    Male  155750\n",
      "22       AssocProf          A   25  Female   62884\n",
      "23            Prof          B   30    Male  134778\n",
      "24       AssocProf          A   26  Female   73300\n",
      "25            Prof          B   25  Female  140096\n",
      "26            Prof          B   36  Female  144651\n",
      "27            Prof          A   29    Male  150500\n",
      "30            Prof          A   33    Male  103106\n",
      "31            Prof          B   40    Male  131205\n",
      "33            Prof          B   39    Male  162200\n",
      "36            Prof          A   39  Female  137000\n",
      "43            Prof          A   45    Male  155865\n",
      "45            Prof          B   45    Male  146856\n",
      "49            Prof          B   56    Male  186960\n",
      "51            Prof          A   51    Male   57800               rank discipline  phd     sex  salary\n",
      "service                                           \n",
      "0         AsstProf          A    1  Female   72500\n",
      "1         AsstProf          A    3  Female   72500\n",
      "2         AsstProf          A    4  Female   73000\n",
      "3         AsstProf          A    3  Female   73500\n",
      "4         AsstProf          B    4    Male   92000\n",
      "5         AsstProf          B   10  Female   97032\n",
      "6        AssocProf          A    7  Female   63100\n",
      "7        AssocProf          A    9  Female  107008\n",
      "8        AssocProf          A   10  Female   74830\n",
      "9        AssocProf          B   12  Female   71065\n",
      "10       AssocProf          B   12  Female  103750\n",
      "11       AssocProf          A   11  Female   90450\n",
      "14            Prof          A   20  Female  109954\n",
      "15            Prof          A   23  Female  109646\n",
      "17       AssocProf          A   17  Female   81285\n",
      "18            Prof          A   17  Female  104800\n",
      "19            Prof          A   23  Female   94350\n",
      "20            Prof          A   20    Male  110515\n",
      "21            Prof          B   22    Male  155750\n",
      "22       AssocProf          A   25  Female   62884\n",
      "23            Prof          A   23    Male   91100\n",
      "24       AssocProf          A   26  Female   73300\n",
      "25            Prof          B   25  Female  140096\n",
      "26            Prof          B   36  Female  144651\n",
      "27            Prof          A   29  Female   91000\n",
      "30            Prof          A   33    Male  103106\n",
      "31            Prof          A   35    Male   99418\n",
      "33            Prof          B   35    Male  128250\n",
      "36            Prof          A   39  Female  137000\n",
      "43            Prof          A   45    Male  155865\n",
      "45            Prof          B   45    Male  146856\n",
      "49            Prof          B   56    Male  186960\n",
      "51            Prof          A   51    Male   57800           phd    salary\n",
      "service                \n",
      "0         3.0   86500.0\n",
      "1         3.0   72500.0\n",
      "2         4.0   78862.5\n",
      "3         8.0   78500.0\n",
      "4         4.0   92000.0\n",
      "5        10.0   97032.0\n",
      "6        12.0   93000.0\n",
      "7        16.5  108475.0\n",
      "8        12.5   89750.0\n",
      "9        12.0   71065.0\n",
      "10       13.0  103994.0\n",
      "11       14.0   97031.5\n",
      "14       24.0  118733.0\n",
      "15       23.5  135373.5\n",
      "17       17.0  111512.0\n",
      "18       18.0  122960.0\n",
      "19       28.0  133152.5\n",
      "20       21.0  122400.0\n",
      "21       22.0  155750.0\n",
      "22       25.0   62884.0\n",
      "23       28.0  126933.0\n",
      "24       26.0   73300.0\n",
      "25       25.0  140096.0\n",
      "26       36.0  144651.0\n",
      "27       29.0  120750.0\n",
      "30       33.0  103106.0\n",
      "31       37.5  115311.5\n",
      "33       37.0  145225.0\n",
      "36       39.0  137000.0\n",
      "43       45.0  155865.0\n",
      "45       45.0  146856.0\n",
      "49       56.0  186960.0\n",
      "51       51.0   57800.0\n",
      "<pandas.core.groupby.generic.DataFrameGroupBy object at 0x0000027E60AAC828>\n",
      "              phd    service         salary\n",
      "sex                                        \n",
      "Female  16.512821  11.564103  101002.410256\n",
      "Male    22.897436  18.538462  115045.153846         rank discipline  phd  service  salary\n",
      "sex                                          \n",
      "Female  Prof          B   39       36  161101\n",
      "Male    Prof          B   56       51  186960              rank discipline  phd  service  salary\n",
      "sex                                               \n",
      "Female  AssocProf          A    2        0   62884\n",
      "Male    AssocProf          A    1        0   57800         phd  service  salary\n",
      "sex                         \n",
      "Female   17       10  103750\n",
      "Male     21       19  107300\n",
      "<pandas.core.groupby.generic.DataFrameGroupBy object at 0x0000027E60A1F7F0>\n"
     ]
    },
    {
     "name": "stdout",
     "output_type": "stream",
     "text": [
      "         phd  service\n",
      "salary               \n",
      "57800   51.0     51.0\n",
      "62884   25.0     22.0\n",
      "63100    7.0      6.0\n",
      "71065   12.0      9.0\n",
      "72500    2.5      0.5\n",
      "...      ...      ...\n",
      "155750  22.0     21.0\n",
      "155865  45.0     43.0\n",
      "161101  24.0     15.0\n",
      "162200  35.0     33.0\n",
      "186960  56.0     49.0\n",
      "\n",
      "[73 rows x 2 columns]              rank discipline  phd  service     sex\n",
      "salary                                            \n",
      "57800        Prof          A   51       51    Male\n",
      "62884   AssocProf          A   25       22  Female\n",
      "63100    AsstProf          A    7        6  Female\n",
      "71065   AssocProf          B   12        9  Female\n",
      "72500    AsstProf          A    3        1  Female\n",
      "...           ...        ...  ...      ...     ...\n",
      "155750       Prof          B   22       21    Male\n",
      "155865       Prof          A   45       43    Male\n",
      "161101       Prof          B   24       15  Female\n",
      "162200       Prof          B   35       33    Male\n",
      "186960       Prof          B   56       49    Male\n",
      "\n",
      "[73 rows x 5 columns]              rank discipline  phd  service     sex\n",
      "salary                                            \n",
      "57800        Prof          A   51       51    Male\n",
      "62884   AssocProf          A   25       22  Female\n",
      "63100    AsstProf          A    7        6  Female\n",
      "71065   AssocProf          B   12        9  Female\n",
      "72500    AsstProf          A    2        0  Female\n",
      "...           ...        ...  ...      ...     ...\n",
      "155750       Prof          B   22       21    Male\n",
      "155865       Prof          A   45       43    Male\n",
      "161101       Prof          B   24       15  Female\n",
      "162200       Prof          B   35       33    Male\n",
      "186960       Prof          B   56       49    Male\n",
      "\n",
      "[73 rows x 5 columns]          phd  service\n",
      "salary               \n",
      "57800   51.0     51.0\n",
      "62884   25.0     22.0\n",
      "63100    7.0      6.0\n",
      "71065   12.0      9.0\n",
      "72500    2.5      0.5\n",
      "...      ...      ...\n",
      "155750  22.0     21.0\n",
      "155865  45.0     43.0\n",
      "161101  24.0     15.0\n",
      "162200  35.0     33.0\n",
      "186960  56.0     49.0\n",
      "\n",
      "[73 rows x 2 columns]\n",
      "<bound method DataFrame.sort_values of          rank discipline  phd  service     sex  salary\n",
      "0        Prof          B   56       49    Male  186960\n",
      "1        Prof          A   12        6    Male   93000\n",
      "2        Prof          A   23       20    Male  110515\n",
      "3        Prof          A   40       31    Male  131205\n",
      "4        Prof          B   20       18    Male  104800\n",
      "..        ...        ...  ...      ...     ...     ...\n",
      "73       Prof          B   18       10  Female  105450\n",
      "74  AssocProf          B   19        6  Female  104542\n",
      "75       Prof          B   17       17  Female  124312\n",
      "76       Prof          A   28       14  Female  109954\n",
      "77       Prof          A   23       15  Female  109646\n",
      "\n",
      "[78 rows x 6 columns]>\n",
      "<bound method Series.sort_values of 0          Prof\n",
      "1          Prof\n",
      "2          Prof\n",
      "3          Prof\n",
      "4          Prof\n",
      "        ...    \n",
      "73         Prof\n",
      "74    AssocProf\n",
      "75         Prof\n",
      "76         Prof\n",
      "77         Prof\n",
      "Name: rank, Length: 78, dtype: object>\n",
      "<bound method Series.sort_values of 0     B\n",
      "1     A\n",
      "2     A\n",
      "3     A\n",
      "4     B\n",
      "     ..\n",
      "73    B\n",
      "74    B\n",
      "75    B\n",
      "76    A\n",
      "77    A\n",
      "Name: discipline, Length: 78, dtype: object>\n",
      "<bound method Series.sort_values of 0     56\n",
      "1     12\n",
      "2     23\n",
      "3     40\n",
      "4     20\n",
      "      ..\n",
      "73    18\n",
      "74    19\n",
      "75    17\n",
      "76    28\n",
      "77    23\n",
      "Name: phd, Length: 78, dtype: int64>\n",
      "<bound method Series.sort_values of 0     49\n",
      "1      6\n",
      "2     20\n",
      "3     31\n",
      "4     18\n",
      "      ..\n",
      "73    10\n",
      "74     6\n",
      "75    17\n",
      "76    14\n",
      "77    15\n",
      "Name: service, Length: 78, dtype: int64>\n",
      "<bound method Series.sort_values of 0       Male\n",
      "1       Male\n",
      "2       Male\n",
      "3       Male\n",
      "4       Male\n",
      "       ...  \n",
      "73    Female\n",
      "74    Female\n",
      "75    Female\n",
      "76    Female\n",
      "77    Female\n",
      "Name: sex, Length: 78, dtype: object>\n",
      "<bound method Series.sort_values of 0     186960\n",
      "1      93000\n",
      "2     110515\n",
      "3     131205\n",
      "4     104800\n",
      "       ...  \n",
      "73    105450\n",
      "74    104542\n",
      "75    124312\n",
      "76    109954\n",
      "77    109646\n",
      "Name: salary, Length: 78, dtype: int64>\n"
     ]
    }
   ],
   "source": [
    "for col in df_salaries.columns:\n",
    "    print(df_salaries.groupby([col]))\n",
    "    print(df_salaries.groupby([col]).mean(),df_salaries.groupby([col]).max(),df_salaries.groupby([col]).min(),df_salaries.groupby([col]).median())\n",
    "    \n",
    "print(df_salaries.sort_values)\n",
    "for col in df_salaries.columns:\n",
    "    print(df_salaries[col].sort_values)"
   ]
  },
  {
   "cell_type": "markdown",
   "metadata": {},
   "source": [
    "## Problem 4"
   ]
  },
  {
   "cell_type": "markdown",
   "metadata": {},
   "source": [
    "- Create a new dataframe `df_male` with only the entries of Male professors. Hint: Select `Male` entries only. Print it.\n",
    "- Create a new dataframe `df_high` with female entries with salaries higher or equal to 150000. Print it.\n",
    "- Create a new dataframe `df_assoc_profs`with Associate Professors data only.\n",
    "- Sort the list by salary, service years and phd (Descending order)\n",
    "- Create a new dataframe from the sorted list witch only 3 columns: rank, discipline and sex.\n",
    "- Select only the top 50 entries."
   ]
  },
  {
   "cell_type": "code",
   "execution_count": 61,
   "metadata": {},
   "outputs": [
    {
     "name": "stdout",
     "output_type": "stream",
     "text": [
      "         rank discipline  phd  service   sex  salary\n",
      "0        Prof          B   56       49  Male  186960\n",
      "1        Prof          A   12        6  Male   93000\n",
      "2        Prof          A   23       20  Male  110515\n",
      "3        Prof          A   40       31  Male  131205\n",
      "4        Prof          B   20       18  Male  104800\n",
      "5        Prof          A   20       20  Male  122400\n",
      "6   AssocProf          A   20       17  Male   81285\n",
      "7        Prof          A   18       18  Male  126300\n",
      "8        Prof          A   29       19  Male   94350\n",
      "9        Prof          A   51       51  Male   57800\n",
      "10       Prof          B   39       33  Male  128250\n",
      "11       Prof          B   23       23  Male  134778\n",
      "12   AsstProf          B    1        0  Male   88000\n",
      "13       Prof          B   35       33  Male  162200\n",
      "14       Prof          B   25       19  Male  153750\n",
      "15       Prof          B   17        3  Male  150480\n",
      "16   AsstProf          B    8        3  Male   75044\n",
      "17   AsstProf          B    4        0  Male   92000\n",
      "18       Prof          A   19        7  Male  107300\n",
      "19       Prof          A   29       27  Male  150500\n",
      "20   AsstProf          B    4        4  Male   92000\n",
      "21       Prof          A   33       30  Male  103106\n",
      "22   AsstProf          A    4        2  Male   73000\n",
      "23   AsstProf          A    2        0  Male   85000\n",
      "24       Prof          A   30       23  Male   91100\n",
      "25       Prof          B   35       31  Male   99418\n",
      "26       Prof          A   38       19  Male  148750\n",
      "27       Prof          A   45       43  Male  155865\n",
      "28   AsstProf          B    7        2  Male   91300\n",
      "29       Prof          B   21       20  Male  123683\n",
      "30  AssocProf          B    9        7  Male  107008\n",
      "31       Prof          B   22       21  Male  155750\n",
      "32       Prof          A   27       19  Male  103275\n",
      "33       Prof          B   18       18  Male  120000\n",
      "34  AssocProf          B   12        8  Male  119800\n",
      "35       Prof          B   28       23  Male  126933\n",
      "36       Prof          B   45       45  Male  146856\n",
      "37       Prof          A   20        8  Male  102000\n",
      "38   AsstProf          B    4        3  Male   91000\n",
      "    rank discipline  phd  service     sex  salary\n",
      "44  Prof          B   23       19  Female  151768\n",
      "72  Prof          B   24       15  Female  161101\n",
      "         rank discipline  phd  service     sex  salary\n",
      "6   AssocProf          A   20       17    Male   81285\n",
      "30  AssocProf          B    9        7    Male  107008\n",
      "34  AssocProf          B   12        8    Male  119800\n",
      "41  AssocProf          A   13        8  Female   74830\n",
      "47  AssocProf          B   11       11  Female  103613\n",
      "54  AssocProf          A   25       22  Female   62884\n",
      "56  AssocProf          A   10        8  Female   77500\n",
      "59  AssocProf          B   12       10  Female  103994\n",
      "61  AssocProf          B   13       10  Female  103750\n",
      "62  AssocProf          B   14        7  Female  109650\n",
      "64  AssocProf          A   26       24  Female   73300\n",
      "71  AssocProf          B   12        9  Female   71065\n",
      "74  AssocProf          B   19        6  Female  104542\n",
      "         rank discipline  phd  service     sex  salary\n",
      "0        Prof          B   56       49    Male  186960\n",
      "13       Prof          B   35       33    Male  162200\n",
      "72       Prof          B   24       15  Female  161101\n",
      "27       Prof          A   45       43    Male  155865\n",
      "31       Prof          B   22       21    Male  155750\n",
      "..        ...        ...  ...      ...     ...     ...\n",
      "55   AsstProf          A    2        0  Female   72500\n",
      "71  AssocProf          B   12        9  Female   71065\n",
      "66   AsstProf          A    7        6  Female   63100\n",
      "54  AssocProf          A   25       22  Female   62884\n",
      "9        Prof          A   51       51    Male   57800\n",
      "\n",
      "[78 rows x 6 columns]\n",
      "        rank discipline  phd  service     sex  salary\n",
      "0       Prof          B   56       49    Male  186960\n",
      "4       Prof          B   20       18    Male  104800\n",
      "10      Prof          B   39       33    Male  128250\n",
      "11      Prof          B   23       23    Male  134778\n",
      "13      Prof          B   35       33    Male  162200\n",
      "14      Prof          B   25       19    Male  153750\n",
      "15      Prof          B   17        3    Male  150480\n",
      "25      Prof          B   35       31    Male   99418\n",
      "29      Prof          B   21       20    Male  123683\n",
      "31      Prof          B   22       21    Male  155750\n",
      "33      Prof          B   18       18    Male  120000\n",
      "35      Prof          B   28       23    Male  126933\n",
      "36      Prof          B   45       45    Male  146856\n",
      "39      Prof          B   18       18  Female  129000\n",
      "44      Prof          B   23       19  Female  151768\n",
      "45      Prof          B   25       25  Female  140096\n",
      "48      Prof          B   17       17  Female  111512\n",
      "49      Prof          B   17       18  Female  122960\n",
      "51      Prof          B   20       14  Female  127512\n",
      "58      Prof          B   36       26  Female  144651\n",
      "72      Prof          B   24       15  Female  161101\n",
      "73      Prof          B   18       10  Female  105450\n",
      "75      Prof          B   17       17  Female  124312\n",
      "1       Prof          A   12        6    Male   93000\n",
      "2       Prof          A   23       20    Male  110515\n",
      "3       Prof          A   40       31    Male  131205\n",
      "5       Prof          A   20       20    Male  122400\n",
      "7       Prof          A   18       18    Male  126300\n",
      "8       Prof          A   29       19    Male   94350\n",
      "9       Prof          A   51       51    Male   57800\n",
      "18      Prof          A   19        7    Male  107300\n",
      "19      Prof          A   29       27    Male  150500\n",
      "21      Prof          A   33       30    Male  103106\n",
      "24      Prof          A   30       23    Male   91100\n",
      "26      Prof          A   38       19    Male  148750\n",
      "27      Prof          A   45       43    Male  155865\n",
      "32      Prof          A   27       19    Male  103275\n",
      "37      Prof          A   20        8    Male  102000\n",
      "40      Prof          A   39       36  Female  137000\n",
      "52      Prof          A   12        0  Female  105000\n",
      "63      Prof          A   29       27  Female   91000\n",
      "65      Prof          A   36       19  Female  117555\n",
      "67      Prof          A   17       11  Female   90450\n",
      "69      Prof          A   28        7  Female  116450\n",
      "76      Prof          A   28       14  Female  109954\n",
      "77      Prof          A   23       15  Female  109646\n",
      "12  AsstProf          B    1        0    Male   88000\n",
      "16  AsstProf          B    8        3    Male   75044\n",
      "17  AsstProf          B    4        0    Male   92000\n",
      "20  AsstProf          B    4        4    Male   92000\n"
     ]
    }
   ],
   "source": [
    "# 筛选出输入是Male的用户\n",
    "df_male = df_salaries[df_salaries['sex'] == 'Male']\n",
    "print(df_male)\n",
    "# 筛选出输入是Female且salary不低于150000的数据\n",
    "df_high = df_salaries[(df_salaries['sex'] == 'Female') & (df_salaries['salary'] >= 150000)]\n",
    "print(df_high)\n",
    "# 筛选出AssocProf数据\n",
    "df_assoc_profs = df_salaries[df_salaries['rank'] == 'AssocProf']\n",
    "print(df_assoc_profs)\n",
    "# 对salary、service years、phd构成的列表排序\n",
    "res = df_salaries.sort_values(by=['salary', 'service','phd'], ascending=[False, False,False])\n",
    "print(res)\n",
    "\n",
    "new_data = df_salaries.sort_values(by=['rank', 'discipline','sex'], ascending=[False, False,False])\n",
    "print(new_data.head(50))"
   ]
  },
  {
   "cell_type": "markdown",
   "metadata": {},
   "source": [
    "## Problem 5"
   ]
  },
  {
   "cell_type": "markdown",
   "metadata": {},
   "source": [
    "We will now use seaborn to do some visualization of the data."
   ]
  },
  {
   "cell_type": "code",
   "execution_count": 4,
   "metadata": {},
   "outputs": [],
   "source": [
    "#!pip install seaborn     ## this is for installing seaborn"
   ]
  },
  {
   "cell_type": "markdown",
   "metadata": {},
   "source": [
    "- Plot the distribution of the salaries of the professors. Hint: Use `sns.distplot()`.\n",
    "- Plot the distribution of the service and phd columns. Hint: Use `sns.distplot`.\n",
    "- Plot a scatterplot with salary on x axis and service on y axis. Repeat this for (salary, phd) and (phd, service). Do you observe any pattern in the plot?  Hint:  Use `sns.scatterplot(x, y)`.\n",
    "- Plot a pairplot of the data to see inter-column relationships. Hint: Use `sns.pairplot()`."
   ]
  },
  {
   "cell_type": "code",
   "execution_count": 67,
   "metadata": {},
   "outputs": [
    {
     "data": {
      "text/plain": [
       "<matplotlib.axes._subplots.AxesSubplot at 0x27e6b8d0be0>"
      ]
     },
     "execution_count": 67,
     "metadata": {},
     "output_type": "execute_result"
    },
    {
     "data": {
      "image/png": "[encoded data removed]",
      "text/plain": [
       "<Figure size 432x288 with 1 Axes>"
      ]
     },
     "metadata": {
      "needs_background": "light"
     },
     "output_type": "display_data"
    }
   ],
   "source": [
    "import seaborn as sns\n",
    "\n",
    "# 根据薪水绘图\n",
    "salary = df_salaries['salary']\n",
    "sns.distplot(salary,kde=False)"
   ]
  },
  {
   "cell_type": "code",
   "execution_count": 68,
   "metadata": {},
   "outputs": [
    {
     "data": {
      "text/plain": [
       "<matplotlib.axes._subplots.AxesSubplot at 0x27e6bdb3048>"
      ]
     },
     "execution_count": 68,
     "metadata": {},
     "output_type": "execute_result"
    },
    {
     "data": {
      "image/png": "[encoded data removed]",
      "text/plain": [
       "<Figure size 432x288 with 1 Axes>"
      ]
     },
     "metadata": {
      "needs_background": "light"
     },
     "output_type": "display_data"
    }
   ],
   "source": [
    "# 根据service和phd绘图\n",
    "service = df_salaries['service']\n",
    "phd = df_salaries['phd']\n",
    "sns.distplot(service,kde=False)"
   ]
  },
  {
   "cell_type": "code",
   "execution_count": 69,
   "metadata": {},
   "outputs": [
    {
     "data": {
      "text/plain": [
       "<matplotlib.axes._subplots.AxesSubplot at 0x27e6bda6dd8>"
      ]
     },
     "execution_count": 69,
     "metadata": {},
     "output_type": "execute_result"
    },
    {
     "data": {
      "image/png": "[encoded data removed]",
      "text/plain": [
       "<Figure size 432x288 with 1 Axes>"
      ]
     },
     "metadata": {
      "needs_background": "light"
     },
     "output_type": "display_data"
    }
   ],
   "source": [
    "sns.distplot(phd,kde=False)"
   ]
  },
  {
   "cell_type": "code",
   "execution_count": 70,
   "metadata": {},
   "outputs": [
    {
     "data": {
      "text/plain": [
       "<matplotlib.axes._subplots.AxesSubplot at 0x27e6bde8ef0>"
      ]
     },
     "execution_count": 70,
     "metadata": {},
     "output_type": "execute_result"
    },
    {
     "data": {
      "image/png": "[encoded data removed]",
      "text/plain": [
       "<Figure size 432x288 with 1 Axes>"
      ]
     },
     "metadata": {
      "needs_background": "light"
     },
     "output_type": "display_data"
    }
   ],
   "source": [
    "sns.scatterplot(service, phd)"
   ]
  },
  {
   "cell_type": "code",
   "execution_count": 71,
   "metadata": {},
   "outputs": [
    {
     "data": {
      "text/plain": [
       "<seaborn.axisgrid.PairGrid at 0x27e6bf4aeb8>"
      ]
     },
     "execution_count": 71,
     "metadata": {},
     "output_type": "execute_result"
    },
    {
     "data": {
      "image/png": "[encoded data removed]",
      "text/plain": [
       "<Figure size 540x540 with 12 Axes>"
      ]
     },
     "metadata": {
      "needs_background": "light"
     },
     "output_type": "display_data"
    }
   ],
   "source": [
    "sns.pairplot(df_salaries)"
   ]
  },
  {
   "cell_type": "markdown",
   "metadata": {},
   "source": [
    "## Problem 6"
   ]
  },
  {
   "cell_type": "markdown",
   "metadata": {},
   "source": [
    "Recall Linear Regression code example from Lecture 6. \n",
    "#### Linear Regression allows you to predict one variable (Y) based on its relationship on other variable it is dependent on (X).\n",
    "#### Given a set of points ($x_i$, $y_i$), you want to find a linear function that goes through these points (fit a 2-D line to the data)\n",
    "#### Goal: Find the best fitted line and use that to predict future points.\n",
    "\n",
    "For discrete cases, one example for such problems can be salary prediction. If you are given the salary of 10 Professors, you can use that to fit a linear model and predict the salary of others."
   ]
  },
  {
   "cell_type": "markdown",
   "metadata": {},
   "source": [
    "- Create an array with only 'service' column data of the salary dataset used in Problem 2-5. Hint: Create a dataframe with service column, then reshape for a numpy array ($X$).\n",
    "- Create an array with only 'salary' column data of the salary dataset used in Problem 2-5. This will be you $y$.\n",
    "- Fit a Linear Regression Model to service from sklearn to predict $y$, which will be $y_{pred}$. Hint: Use fit and predict function from `from sklearn.linear_model import LinearRegression`\n",
    "- Plot the original data ($X$ and $y$) and the predicted data ($X, y_{pred}$).\n",
    "- Using the fitted model, can you predict what will be the salary for a professor who has a service time of 20 years?"
   ]
  },
  {
   "cell_type": "code",
   "execution_count": 96,
   "metadata": {},
   "outputs": [
    {
     "data": {
      "text/plain": [
       "89354.82421525473"
      ]
     },
     "metadata": {},
     "output_type": "display_data"
    },
    {
     "data": {
      "text/plain": [
       "array([1240.3566535])"
      ]
     },
     "metadata": {},
     "output_type": "display_data"
    },
    {
     "name": "stdout",
     "output_type": "stream",
     "text": [
      "预测20年后工资：114161.96\n"
     ]
    }
   ],
   "source": [
    "import numpy as np\n",
    "from sklearn import  linear_model\n",
    "\n",
    "\n",
    "x = np.array(df_salaries['service'])\n",
    "y = np.array(df_salaries['salary'])\n",
    "model =linear_model.LinearRegression()\n",
    "data = []\n",
    "data1 = []\n",
    "for i in range(len(x)):\n",
    "    data.append([x[i]])\n",
    "    data1.append(y[i])\n",
    "model.fit(data,data1)\n",
    "display(model.intercept_)  #截距\n",
    "display(model.coef_)  #线性模型的系数\n",
    "a = model.predict([[20]])\n",
    "print(\"预测20年后工资：{:.2f}\".format(model.predict([[20]])[0]))"
   ]
  },
  {
   "cell_type": "markdown",
   "metadata": {},
   "source": [
    "## Problem 7"
   ]
  },
  {
   "cell_type": "markdown",
   "metadata": {},
   "source": [
    "Let's consider the the accelerometer dataset now.\n",
    "\n",
    "- Follow the steps in Problem 6 to fit linear regression model to attr_x and predict attr_y. Plot the results.\n",
    "- Follow the steps in Problem 6 to fit linear regression model to attr_y and predict attr_z. Plot the results.\n",
    "- Using this fitted model we can now predict given a accelerometer_x axis measurement, we can predict what will be the reading of accelerometer_y."
   ]
  },
  {
   "cell_type": "code",
   "execution_count": 103,
   "metadata": {},
   "outputs": [
    {
     "data": {
      "image/png": "[encoded data removed]",
      "text/plain": [
       "<Figure size 432x288 with 1 Axes>"
      ]
     },
     "metadata": {
      "needs_background": "light"
     },
     "output_type": "display_data"
    },
    {
     "data": {
      "image/png": "[encoded data removed]",
      "text/plain": [
       "<Figure size 432x288 with 1 Axes>"
      ]
     },
     "metadata": {
      "needs_background": "light"
     },
     "output_type": "display_data"
    }
   ],
   "source": [
    "import matplotlib.pyplot as plt\n",
    "attr_x = np.array(df['attr_x'])\n",
    "attr_y = np.array(df['attr_y'])\n",
    "attr_z = np.array(df['attr_z'])\n",
    "model1 = linear_model.LinearRegression()\n",
    "x = []\n",
    "y = []\n",
    "z = []\n",
    "for i in range(len(attr_x)):\n",
    "    x.append([attr_x[i]])\n",
    "    y.append([attr_y[i]])\n",
    "    z.append([attr_z[i]])\n",
    "model1.fit(x,y)\n",
    "model2 = linear_model.LinearRegression()\n",
    "model2.fit(y,z)\n",
    "\n",
    "plt.scatter(x,y,color='red')\n",
    "#plot函数用来绘制直线，这 里表示用蓝色绘制回归线；\n",
    "plt.plot(x,model.predict(x),color='blue')\n",
    "plt.show()\n",
    "\n",
    "plt.scatter(y,z,color='black')\n",
    "#plot函数用来绘制直线，这 里表示用蓝色绘制回归线；\n",
    "plt.plot(y,model.predict(y),color='blue')\n",
    "plt.show()"
   ]
  },
  {
   "cell_type": "markdown",
   "metadata": {},
   "source": [
    "## Problem 8"
   ]
  },
  {
   "cell_type": "markdown",
   "metadata": {},
   "source": [
    "We used linear regression to fit a line to our data (features in machine learning) and use it to predict our target (labels in ML). But relationship between X and y cannot be described using linear relationship in all problems.\n",
    "\n",
    "You may have a categorical problem, where the target can be either category A or category B. For example, in the salary dataset, using `service`, `PhD` and `salary` data, you want to determine whether a specific Professor is male or female. This is a categorical problem and we can use Logistic Regression here.\n",
    "\n",
    "#### Logistic Regression allows you to learn more flexible function compared to linear regression.\n",
    "\n",
    "#### Data is first fitted to linear regression, then a logistic function is applied on it.\n",
    "\n",
    "#### This allows to map a datapoint ($x_{i}$) to each category by a probability measure. The probability tells us about chance for that datapoint to belong to each categories."
   ]
  },
  {
   "cell_type": "markdown",
   "metadata": {},
   "source": [
    "- Create a numpy array with using `service`, `PhD` and `salary` data from the salary data.\n",
    "- Now fit a logistic regression model to predict the `rank` of the professor (whether the professor is a full professor, associate professor or an assistant professor. \n",
    "- Fit a logistic regression model to predict the `sex` of the professor (whether the professor is male or a female professor). \n",
    "- Calculate the logistic regression accuracy score."
   ]
  },
  {
   "cell_type": "code",
   "execution_count": 106,
   "metadata": {},
   "outputs": [
    {
     "data": {
      "text/plain": [
       "array([49,  6, 20, 31, 18, 20, 17, 18, 19, 51, 33, 23,  0, 33, 19,  3,  3,\n",
       "        0,  7, 27,  4, 30,  2,  0, 23, 31, 19, 43,  2, 20,  7, 21, 19, 18,\n",
       "        8, 23, 45,  8,  3, 18, 36,  8,  2,  0, 19, 25,  3, 11, 17, 18,  5,\n",
       "       14,  0,  3, 22,  0,  8,  1, 26, 10,  3, 10,  7, 27, 24, 19,  6, 11,\n",
       "        2,  7,  3,  9, 15, 10,  6, 17, 14, 15], dtype=int64)"
      ]
     },
     "execution_count": 106,
     "metadata": {},
     "output_type": "execute_result"
    }
   ],
   "source": [
    "service = df_salaries['service']\n",
    "PhD = df_salaries['phd']\n",
    "salary = df_salaries['salary']\n",
    "\n"
   ]
  },
  {
   "cell_type": "markdown",
   "metadata": {},
   "source": [
    "## Problem 9"
   ]
  },
  {
   "cell_type": "markdown",
   "metadata": {},
   "source": [
    "Recall problem 9 and 10 from Lab 2. \n",
    "- Follow the same procedure to perform clustering using `Kmeans` algorithm on the salary data using `service`, `PhD` and `salary`. Use a different number of cluster to observe the data and the cluster formed `(k = 2, 3, ...)`. Plot the result.\n",
    "\n",
    "- Now repeat the previous step for accelerometer data. Plot the result."
   ]
  },
  {
   "cell_type": "code",
   "execution_count": 131,
   "metadata": {},
   "outputs": [
    {
     "data": {
      "text/plain": [
       "<Figure size 432x288 with 0 Axes>"
      ]
     },
     "execution_count": 131,
     "metadata": {},
     "output_type": "execute_result"
    },
    {
     "data": {
      "image/png": "[encoded data removed]",
      "text/plain": [
       "<Figure size 432x288 with 1 Axes>"
      ]
     },
     "metadata": {
      "needs_background": "light"
     },
     "output_type": "display_data"
    },
    {
     "data": {
      "text/plain": [
       "<Figure size 432x288 with 0 Axes>"
      ]
     },
     "metadata": {},
     "output_type": "display_data"
    }
   ],
   "source": [
    "import numpy as np\n",
    "import matplotlib.pyplot as plt   ## This is another library for plotting and visualization\n",
    "import sklearn     \n",
    "from sklearn.cluster import KMeans\n",
    "\n",
    "\n",
    "X =[]\n",
    "y = []\n",
    "z = []\n",
    "\n",
    "for i in range(len(df_salaries['service'])):\n",
    "    X.append([df_salaries['service'][i]])\n",
    "    y.append([df_salaries['phd'][i]])\n",
    "    z.append([df_salaries['salary'][i]])\n",
    "\n",
    "X = np.array(X)\n",
    "y = np.array(y)\n",
    "z = np.array(z)\n",
    "kmeans8 = KMeans(n_clusters=8)\n",
    "kmeans8.fit(X)\n",
    "xc = kmeans8.transform(X)\n",
    "xc = kmeans8.labels_\n",
    "\n",
    "plt.scatter(X[:,0],y[:,0],c=xc.astype(np.float))\n",
    "plt.figure()\n",
    "plt.scatter(X[:,0],z[:,0],c=xc.astype(np.float))\n",
    "plt.figure()\n",
    "plt.scatter(y[:,0],z[:,0],c=xc.astype(np.float))\n",
    "plt.figure()"
   ]
  },
  {
   "cell_type": "code",
   "execution_count": null,
   "metadata": {},
   "outputs": [],
   "source": []
  }
 ],
 "metadata": {
  "kernelspec": {
   "display_name": "Python 3",
   "language": "python",
   "name": "python3"
  },
  "language_info": {
   "codemirror_mode": {
    "name": "ipython",
    "version": 3
   },
   "file_extension": ".py",
   "mimetype": "text/x-python",
   "name": "python",
   "nbconvert_exporter": "python",
   "pygments_lexer": "ipython3",
   "version": "3.7.0"
  }
 },
 "nbformat": 4,
 "nbformat_minor": 2
}
