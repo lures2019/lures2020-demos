{
 "cells": [
  {
   "cell_type": "code",
   "execution_count": 14,
   "metadata": {},
   "outputs": [],
   "source": [
    "# 模型灵敏度分析\n",
    "from SALib.sample import saltelli\n",
    "from SALib.analyze import sobol\n",
    "from SALib.plotting.bar import plot as barplot\n",
    "import matplotlib.pyplot as plot\n",
    "from SALib.test_functions import Ishigami\n",
    "import numpy as np\n",
    "import math\n",
    "from pylab import mpl\n",
    "# 指定默认字体\n",
    "mpl.rcParams['font.sans-serif'] = ['FangSong']\n",
    "# 解决保存图像是负号'-'显示为方块的问题\n",
    "mpl.rcParams['axes.unicode_minus'] = True"
   ]
  },
  {
   "cell_type": "code",
   "execution_count": 15,
   "metadata": {},
   "outputs": [
    {
     "name": "stdout",
     "output_type": "stream",
     "text": [
      "(8000, 3) (8000,)\n",
      "Parameter S1 S1_conf ST ST_conf\n",
      "第三问各食物摄入量/100g 0.364339 0.046219 0.367026 0.029339\n",
      "Iron/mg 0.624523 0.064289 0.630729 0.047280\n",
      "Vitamin C/mg 0.007653 0.009374 0.008353 0.001388\n",
      "\n",
      "Parameter_1 Parameter_2 S2 S2_conf\n",
      "第三问各食物摄入量/100g Iron/mg 0.005063 0.084690\n",
      "第三问各食物摄入量/100g Vitamin C/mg 0.002374 0.060053\n",
      "Iron/mg Vitamin C/mg 0.001259 0.080332\n",
      "S1: [0.36433921 0.62452309 0.00765261]\n",
      "x1-x2: 0.005063327218518987\n",
      "x1-x3: 0.002373866481879495\n",
      "x2-x3: 0.0012593598762489899\n"
     ]
    },
    {
     "data": {
      "text/plain": [
       "'\\n    置信区间: 对这个样本的某个总体参数的区间估计，置信区间展现的是这个参数的真实值有一定概率落在测量结果的周围的程度。\\n             置信区间给出的是被测量参数的测量值的可信程度。一般常取为95%或者90%或者99%.是预先取定的值.\\n             如:如果在一次大选中某人的支持率为55%，而置信水平0.95上的置信区间是（50%,60%），那么他的真实支持率有百分之九十五的机率落在百分之五十和百分之六十之间\\n    显著性水平: 一个预先取定的值（一般取0.05/0.01）,一般用alpha表示.跟置信概率恰好方向相反（加起来是1）,在假设检验中表示在零假设成立下拒绝它所犯的一类错误的上界.在用p值检验时,\\n              如果p值比显著性水平小,就可以放心拒绝原假设.反之,不拒绝.\\n    置信度: 置信区间上下限的差值。\\n'"
      ]
     },
     "execution_count": 15,
     "metadata": {},
     "output_type": "execute_result"
    }
   ],
   "source": [
    "# 定义模型输入\n",
    "\"\"\"\n",
    "定义模型输入。Ishigami功能具有三个输入， x1,x2,x3 哪里 xi属于的范围在主成分分析那找到。\n",
    "在SALib中，我们定义了一个dict定义输入的数量，输入的名称以及每个输入的边界，\n",
    "如下所示\n",
    "\"\"\"\n",
    "problem = {\n",
    "    'num_vars': 3,\n",
    "    'names': ['第三问各食物摄入量/100g', 'Iron/mg', 'Vitamin C/mg'],\n",
    "    'bounds': [[-0.511874, 0.234987],\n",
    "               [-0.224424, 0.811091],\n",
    "               [-0.304650, 0.388094]]\n",
    "}\n",
    "\n",
    "def evaluate(X):\n",
    "    \"\"\"\n",
    "        要进行灵敏度分析的模型，接受一个数组，每个数组元素作为模型的一个输入,\n",
    "        将输入的x映射为一个y,通过数组返回\n",
    "        y = sin(x1) + x2*cos(2*x3)\n",
    "    \"\"\"\n",
    "    return np.array([math.sin(x[0]) + x[1] * math.cos(2 * x[2]) for x in X])\n",
    "\t\n",
    "# 样本生成\n",
    "\"\"\"\n",
    "    param_values是一个NumPy矩阵。如果运行 param_values.shape，\n",
    "    我们将看到矩阵乘以3等于8000。Saltelli采样器生成了8000个样本。\n",
    "    Saltelli采样器生成 N∗(2D+2)样本，在此示例中，N为1000（我们提供的参数），\n",
    "    D为3（模型输入的数量）\n",
    "\"\"\"\n",
    "param_values = saltelli.sample(problem,1000)\n",
    "\n",
    "# 运行模型\n",
    "Y = evaluate(param_values)\n",
    "print(param_values.shape,Y.shape)\n",
    "Si = sobol.analyze(problem,Y,print_to_console=True)\n",
    "\n",
    "# 一阶灵敏度\n",
    "print('S1:', Si['S1']) \n",
    "\n",
    "# 二阶灵敏度\n",
    "print(\"x1-x2:\", Si['S2'][0, 1])\n",
    "print(\"x1-x3:\", Si['S2'][0, 2])\n",
    "print(\"x2-x3:\", Si['S2'][1, 2])\n",
    "\n",
    "\"\"\"\n",
    "    置信区间: 对这个样本的某个总体参数的区间估计，置信区间展现的是这个参数的真实值有一定概率落在测量结果的周围的程度。\n",
    "             置信区间给出的是被测量参数的测量值的可信程度。一般常取为95%或者90%或者99%.是预先取定的值.\n",
    "             如:如果在一次大选中某人的支持率为55%，而置信水平0.95上的置信区间是（50%,60%），那么他的真实支持率有百分之九十五的机率落在百分之五十和百分之六十之间\n",
    "    显著性水平: 一个预先取定的值（一般取0.05/0.01）,一般用alpha表示.跟置信概率恰好方向相反（加起来是1）,在假设检验中表示在零假设成立下拒绝它所犯的一类错误的上界.在用p值检验时,\n",
    "              如果p值比显著性水平小,就可以放心拒绝原假设.反之,不拒绝.\n",
    "    置信度: 置信区间上下限的差值。\n",
    "\"\"\""
   ]
  },
  {
   "cell_type": "code",
   "execution_count": 16,
   "metadata": {},
   "outputs": [
    {
     "data": {
      "image/png": "[encoded data removed]",
      "text/plain": [
       "<Figure size 432x288 with 1 Axes>"
      ]
     },
     "metadata": {
      "needs_background": "light"
     },
     "output_type": "display_data"
    }
   ],
   "source": [
    "Si_df = Si.to_df()\n",
    "barplot(Si_df[0])\n",
    "plot.show()"
   ]
  }
 ],
 "metadata": {
  "kernelspec": {
   "display_name": "Python 3",
   "language": "python",
   "name": "python3"
  },
  "language_info": {
   "codemirror_mode": {
    "name": "ipython",
    "version": 3
   },
   "file_extension": ".py",
   "mimetype": "text/x-python",
   "name": "python",
   "nbconvert_exporter": "python",
   "pygments_lexer": "ipython3",
   "version": "3.7.0"
  }
 },
 "nbformat": 4,
 "nbformat_minor": 2
}
