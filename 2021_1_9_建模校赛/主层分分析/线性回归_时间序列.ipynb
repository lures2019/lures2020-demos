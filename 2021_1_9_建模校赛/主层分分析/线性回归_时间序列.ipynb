{
 "cells": [
  {
   "cell_type": "code",
   "execution_count": 17,
   "metadata": {},
   "outputs": [],
   "source": [
    "# 导入相关模块\n",
    "import pandas as pd\n",
    "from sklearn.model_selection import train_test_split\n",
    "from sklearn.linear_model import LinearRegression\n",
    "import numpy as np\n",
    "import pandas as pd\n",
    "import matplotlib.pyplot as plt\n",
    "from sklearn.metrics import r2_score\n",
    "from sklearn.metrics import mean_squared_error"
   ]
  },
  {
   "cell_type": "code",
   "execution_count": 18,
   "metadata": {},
   "outputs": [
    {
     "data": {
      "text/html": [
       "<div>\n",
       "<style scoped>\n",
       "    .dataframe tbody tr th:only-of-type {\n",
       "        vertical-align: middle;\n",
       "    }\n",
       "\n",
       "    .dataframe tbody tr th {\n",
       "        vertical-align: top;\n",
       "    }\n",
       "\n",
       "    .dataframe thead th {\n",
       "        text-align: right;\n",
       "    }\n",
       "</style>\n",
       "<table border=\"1\" class=\"dataframe\">\n",
       "  <thead>\n",
       "    <tr style=\"text-align: right;\">\n",
       "      <th></th>\n",
       "      <th>第三问各食物摄入量/100g</th>\n",
       "      <th>Energy/kcal</th>\n",
       "      <th>Calcium/mg</th>\n",
       "      <th>Magnesium/mg</th>\n",
       "      <th>Iron/mg</th>\n",
       "      <th>Vitamin C/mg</th>\n",
       "      <th>Manganese/mg</th>\n",
       "      <th>Vitamin E/mg</th>\n",
       "      <th>Zinc/mg</th>\n",
       "      <th>Vitamin A/μg</th>\n",
       "      <th>Copper/mg</th>\n",
       "      <th>Potassium/mg</th>\n",
       "      <th>Phosphorus/mg</th>\n",
       "      <th>Sodium/mg</th>\n",
       "      <th>Selenium/μg</th>\n",
       "      <th>Yuan/100g</th>\n",
       "    </tr>\n",
       "  </thead>\n",
       "  <tbody>\n",
       "    <tr>\n",
       "      <td>0</td>\n",
       "      <td>0.139634</td>\n",
       "      <td>399.0</td>\n",
       "      <td>46.0</td>\n",
       "      <td>13.0</td>\n",
       "      <td>2.3</td>\n",
       "      <td>0.0</td>\n",
       "      <td>0.71</td>\n",
       "      <td>13.72</td>\n",
       "      <td>0.97</td>\n",
       "      <td>0.0</td>\n",
       "      <td>0.27</td>\n",
       "      <td>106.0</td>\n",
       "      <td>124.0</td>\n",
       "      <td>572.5</td>\n",
       "      <td>10.60</td>\n",
       "      <td>0.778</td>\n",
       "    </tr>\n",
       "    <tr>\n",
       "      <td>1</td>\n",
       "      <td>0.689043</td>\n",
       "      <td>358.0</td>\n",
       "      <td>41.0</td>\n",
       "      <td>107.0</td>\n",
       "      <td>5.1</td>\n",
       "      <td>0.0</td>\n",
       "      <td>0.89</td>\n",
       "      <td>3.63</td>\n",
       "      <td>1.87</td>\n",
       "      <td>17.0</td>\n",
       "      <td>0.54</td>\n",
       "      <td>284.0</td>\n",
       "      <td>229.0</td>\n",
       "      <td>4.3</td>\n",
       "      <td>4.74</td>\n",
       "      <td>1.000</td>\n",
       "    </tr>\n",
       "    <tr>\n",
       "      <td>2</td>\n",
       "      <td>1.372209</td>\n",
       "      <td>334.0</td>\n",
       "      <td>8.0</td>\n",
       "      <td>23.0</td>\n",
       "      <td>0.8</td>\n",
       "      <td>27.0</td>\n",
       "      <td>0.14</td>\n",
       "      <td>0.34</td>\n",
       "      <td>0.37</td>\n",
       "      <td>5.0</td>\n",
       "      <td>0.12</td>\n",
       "      <td>342.0</td>\n",
       "      <td>40.0</td>\n",
       "      <td>2.7</td>\n",
       "      <td>0.78</td>\n",
       "      <td>0.420</td>\n",
       "    </tr>\n",
       "    <tr>\n",
       "      <td>3</td>\n",
       "      <td>0.622689</td>\n",
       "      <td>335.0</td>\n",
       "      <td>31.0</td>\n",
       "      <td>11.0</td>\n",
       "      <td>6.4</td>\n",
       "      <td>0.0</td>\n",
       "      <td>0.15</td>\n",
       "      <td>0.00</td>\n",
       "      <td>0.27</td>\n",
       "      <td>0.0</td>\n",
       "      <td>0.05</td>\n",
       "      <td>18.0</td>\n",
       "      <td>16.0</td>\n",
       "      <td>9.3</td>\n",
       "      <td>3.39</td>\n",
       "      <td>0.700</td>\n",
       "    </tr>\n",
       "    <tr>\n",
       "      <td>4</td>\n",
       "      <td>0.250000</td>\n",
       "      <td>243.0</td>\n",
       "      <td>42.0</td>\n",
       "      <td>2.0</td>\n",
       "      <td>8.0</td>\n",
       "      <td>0.0</td>\n",
       "      <td>0.33</td>\n",
       "      <td>4.37</td>\n",
       "      <td>0.32</td>\n",
       "      <td>0.0</td>\n",
       "      <td>0.13</td>\n",
       "      <td>139.0</td>\n",
       "      <td>68.0</td>\n",
       "      <td>23.5</td>\n",
       "      <td>0.89</td>\n",
       "      <td>0.360</td>\n",
       "    </tr>\n",
       "  </tbody>\n",
       "</table>\n",
       "</div>"
      ],
      "text/plain": [
       "   第三问各食物摄入量/100g  Energy/kcal  Calcium/mg  Magnesium/mg  Iron/mg  \\\n",
       "0        0.139634        399.0        46.0          13.0      2.3   \n",
       "1        0.689043        358.0        41.0         107.0      5.1   \n",
       "2        1.372209        334.0         8.0          23.0      0.8   \n",
       "3        0.622689        335.0        31.0          11.0      6.4   \n",
       "4        0.250000        243.0        42.0           2.0      8.0   \n",
       "\n",
       "   Vitamin C/mg  Manganese/mg  Vitamin E/mg  Zinc/mg  Vitamin A/μg  Copper/mg  \\\n",
       "0           0.0          0.71         13.72     0.97           0.0       0.27   \n",
       "1           0.0          0.89          3.63     1.87          17.0       0.54   \n",
       "2          27.0          0.14          0.34     0.37           5.0       0.12   \n",
       "3           0.0          0.15          0.00     0.27           0.0       0.05   \n",
       "4           0.0          0.33          4.37     0.32           0.0       0.13   \n",
       "\n",
       "   Potassium/mg  Phosphorus/mg  Sodium/mg  Selenium/μg  Yuan/100g  \n",
       "0         106.0          124.0      572.5        10.60      0.778  \n",
       "1         284.0          229.0        4.3         4.74      1.000  \n",
       "2         342.0           40.0        2.7         0.78      0.420  \n",
       "3          18.0           16.0        9.3         3.39      0.700  \n",
       "4         139.0           68.0       23.5         0.89      0.360  "
      ]
     },
     "execution_count": 18,
     "metadata": {},
     "output_type": "execute_result"
    }
   ],
   "source": [
    "# 加载对应数据\n",
    "df = pd.read_csv('第四题数据.csv')\n",
    "df.head()"
   ]
  },
  {
   "cell_type": "code",
   "execution_count": 19,
   "metadata": {},
   "outputs": [],
   "source": [
    "# 以第三问各食物摄入量/100g作为评判标准\n",
    "X = df.iloc[:, :-1].values\n",
    "y = df['第三问各食物摄入量/100g'].values\n",
    "# 划分训练集和测试集合，占比是7：3\n",
    "X_train, X_test, y_train, y_test = train_test_split(X, y,random_state=0, test_size=0.3)"
   ]
  },
  {
   "cell_type": "code",
   "execution_count": 20,
   "metadata": {},
   "outputs": [
    {
     "data": {
      "text/plain": [
       "((12,), (6,))"
      ]
     },
     "execution_count": 20,
     "metadata": {},
     "output_type": "execute_result"
    }
   ],
   "source": [
    "# 开始时用模型预测\n",
    "lr = LinearRegression()\n",
    "lr.fit(X_train, y_train)\n",
    "y_train_pred = lr.predict(X_train)  #训练数据的预测值\n",
    "y_test_pred = lr.predict(X_test)    #测试数据的预测值\n",
    "y_train_pred.shape, y_test_pred.shape"
   ]
  },
  {
   "cell_type": "code",
   "execution_count": 21,
   "metadata": {},
   "outputs": [
    {
     "data": {
      "image/png": "[encoded data removed]",
      "text/plain": [
       "<Figure size 432x288 with 1 Axes>"
      ]
     },
     "metadata": {
      "needs_background": "light"
     },
     "output_type": "display_data"
    }
   ],
   "source": [
    "# 绘制散点图\n",
    "plt.scatter(y_train_pred, y_train_pred - y_train,\n",
    "            c='steelblue', marker='o', edgecolor='white',\n",
    "            label='Training_data')\n",
    "plt.scatter(y_test_pred, y_test_pred-y_test,\n",
    "            c='limegreen', marker='s', edgecolor='white',\n",
    "            label='Test_data')\n",
    "plt.xlabel('Predicted values')\n",
    "plt.ylabel('Residuals')\n",
    "plt.legend(loc='upper left')\n",
    "plt.hlines(y=0, xmin=-10, xmax=50, color='black', lw=2)\n",
    "plt.xlim([-10, 50]) # 设置坐标轴的取值范围\n",
    "plt.tight_layout()\n",
    "plt.show()"
   ]
  },
  {
   "cell_type": "code",
   "execution_count": 22,
   "metadata": {},
   "outputs": [
    {
     "name": "stdout",
     "output_type": "stream",
     "text": [
      "MSE of train: 0.00, test, 12.65\n",
      "R^2 of train: 1.00, test, -35.27\n"
     ]
    },
    {
     "data": {
      "text/plain": [
       "'\\n    但是MSE并不全面，使用决定系数R^2显得尤为重要，可以看作是MSE的标准化版本，用于更好的解释模型的性能\\n'"
      ]
     },
     "execution_count": 22,
     "metadata": {},
     "output_type": "execute_result"
    }
   ],
   "source": [
    "# 计算均方误差MSE、决定系数R2\n",
    "print(\"MSE of train: %.2f, test, %.2f\" % (\n",
    "                    mean_squared_error(y_train, y_train_pred), \n",
    "                    mean_squared_error(y_test, y_test_pred)))\n",
    "\"\"\"\n",
    "    均方误差，是线性回归模型拟合过程中，最小化误差平方和SSE代价函数的平均值\n",
    "\"\"\"\n",
    "print(\"R^2 of train: %.2f, test, %.2f\" % (\n",
    "                    r2_score(y_train, y_train_pred), \n",
    "                    r2_score(y_test, y_test_pred)))\n",
    "\"\"\"\n",
    "    但是MSE并不全面，使用决定系数R^2显得尤为重要，可以看作是MSE的标准化版本，用于更好的解释模型的性能\n",
    "\"\"\""
   ]
  }
 ],
 "metadata": {
  "kernelspec": {
   "display_name": "Python 3",
   "language": "python",
   "name": "python3"
  },
  "language_info": {
   "codemirror_mode": {
    "name": "ipython",
    "version": 3
   },
   "file_extension": ".py",
   "mimetype": "text/x-python",
   "name": "python",
   "nbconvert_exporter": "python",
   "pygments_lexer": "ipython3",
   "version": "3.7.0"
  }
 },
 "nbformat": 4,
 "nbformat_minor": 2
}
