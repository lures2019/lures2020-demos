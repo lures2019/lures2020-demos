{
 "cells": [
  {
   "cell_type": "markdown",
   "metadata": {},
   "source": [
    "# Assignment 1   --- Due 11:59pm, Thursday, October 15, 2020"
   ]
  },
  {
   "cell_type": "markdown",
   "metadata": {},
   "source": [
    "### Note\n",
    "1. ### Pseudo-code part constitutes a significant portion of the marks of the question. Make sure you supply them. ###\n",
    "2. **Do not change the function definition, including the name of the function, the number of parameters and the sequence of the parameters. Violation is subject to a penalty of your marks of that question.**\n",
    "3. **For all questions, you should not import any module. Finish your answer with basic Python expressions only.**"
   ]
  },
  {
   "cell_type": "markdown",
   "metadata": {},
   "source": [
    "笔记：\n",
    "    伪代码部分构成了问题标记的重要部分，确保提供它们\n",
    "    请勿更改功能定义，包括功能名称，参数数量和参数顺序。违法行为将受到您戳该问题标记的惩罚\n",
    "    对于所有问题，都不应导入任何模块，仅使用基本的python表达式完成答案"
   ]
  },
  {
   "cell_type": "markdown",
   "metadata": {},
   "source": [
    "## Question 1  (15 marks)"
   ]
  },
  {
   "cell_type": "markdown",
   "metadata": {},
   "source": [
    "### Problem Statement\n",
    "Define a function ```switch_letter(s)``` that takes in a string s and returns a new string by turning all upper-case letters into lower-case and all lower-case letters into upper-case, and keeping other characters unchanged.\n",
    "\n",
    "#### you should not import any module. Finish your answer with basic Python expressions only."
   ]
  },
  {
   "cell_type": "markdown",
   "metadata": {},
   "source": [
    "问题描述：\n",
    "\n",
    "    定义一个函数switch_letter(s)，该函数接受字符串s并通过将所有大写字母变为小写，并将所有小写字母变为大写，并保持其他字符不变来返回新字符串\n",
    "    不应导入任何模块，仅使用基本的Python表达式完成答案"
   ]
  },
  {
   "cell_type": "raw",
   "metadata": {},
   "source": [
    "Example 1: switch_letter(\"A@$bc2\") should return \"a@$BC2\"\n",
    "\n",
    "Example 2: switch_letter(\"Hello-World\") should return \"hELLO-wORLD\""
   ]
  },
  {
   "cell_type": "raw",
   "metadata": {},
   "source": [
    "Write your pseudo-code here\n",
    "\n"
   ]
  },
  {
   "cell_type": "code",
   "execution_count": 1,
   "metadata": {},
   "outputs": [],
   "source": [
    "# define your function here\n",
    "def switch_letter(s):\n",
    "    string = s\n",
    "    letters = []\n",
    "    # 对于字符串中的每一个字符\n",
    "    for letter in string:\n",
    "        # 使用if-elif-else判断各自对应区间\n",
    "        # 分别使用upper()/lower()将对应的小写字母/大写字母变成大写字母/小写字母\n",
    "        if \"a\" <= letter <= \"z\":\n",
    "            letters.append(letter.upper())\n",
    "        elif \"A\" <= letter <= \"Z\":\n",
    "            letters.append(letter.lower())\n",
    "        else:\n",
    "            letters.append(letter)\n",
    "    # 将列表数据转换为对应的字符串形式的\n",
    "    return (\"\".join(letters))"
   ]
  },
  {
   "cell_type": "code",
   "execution_count": 2,
   "metadata": {
    "scrolled": true
   },
   "outputs": [
    {
     "data": {
      "text/plain": [
       "'tHERE IS AN IpHONE ON THE DESK!'"
      ]
     },
     "execution_count": 2,
     "metadata": {},
     "output_type": "execute_result"
    }
   ],
   "source": [
    "# test your function here\n",
    "# do not remove or change this cell\n",
    "switch_letter(\"There is an iPhone on the desk!\")\n"
   ]
  },
  {
   "cell_type": "code",
   "execution_count": null,
   "metadata": {},
   "outputs": [],
   "source": []
  },
  {
   "cell_type": "code",
   "execution_count": null,
   "metadata": {},
   "outputs": [],
   "source": []
  },
  {
   "cell_type": "markdown",
   "metadata": {},
   "source": [
    "## Question 2 (15 marks)"
   ]
  },
  {
   "cell_type": "markdown",
   "metadata": {},
   "source": [
    "### Problem Statement\n",
    "Suppose in the beginning, a person starts at (0, 0) in a coordinate system. In each step, he can take a command to either go:\n",
    "- U: up certain units of length, e.g., U4 will make him go up 4 units\n",
    "- D: down certain units of length\n",
    "- L: left certain units of length\n",
    "- R: right certain units of length\n",
    "\n",
    "Define a function ```reverse_trajectory(s)``` that takes a list of a person's coordinates after each step and returns a string as a sequence of commands that would make the person end up in such coordinates."
   ]
  },
  {
   "cell_type": "markdown",
   "metadata": {},
   "source": [
    "问题描述：\n",
    "\n",
    "    假设一开始，一个人在坐标系中从(0,0)开始，在每一步中，都可以执行以下任意命令：\n",
    "    U:上升一定长度，例如U4将使他上升4个单位\n",
    "    D:下降一定长度的单位\n",
    "    L:向左移动一定长度的单位\n",
    "    R：向右移动一定长度的单位\n",
    " 定义一个函数reverse_trajectory(s)，该函数在每个步骤之后获取一个人的坐标列表，并返回一个字符串作为命令序列，使该人最终处于这样的坐标中！"
   ]
  },
  {
   "cell_type": "markdown",
   "metadata": {},
   "source": [
    "Example 1: reverse_trajectory([(0,0), (0,2), (-4,2), (-4,8), (-4,0), (8,0), (8,-3) ]) returns the string 'U2L4U6D8R12D3'.\n",
    "\n",
    "Example 2: reverse_trajectory([(0, 0), (0, 1), (0, 0), (-1, 0), (0, 0)]) returns the string 'U1D1L1R1'.\n",
    "\n",
    "Example 3: reverse_trajectory([(0, 0)]) returns the empty string ''.\n",
    "\n"
   ]
  },
  {
   "cell_type": "raw",
   "metadata": {},
   "source": [
    "Write your pseudo-code here\n",
    "\n"
   ]
  },
  {
   "cell_type": "code",
   "execution_count": 2,
   "metadata": {},
   "outputs": [],
   "source": [
    "# define your function here\n",
    "def reverse_trajectory(s):\n",
    "    coordinates = s\n",
    "    if len(coordinates) <= 1:\n",
    "        return ''\n",
    "    else:\n",
    "        lengths = []\n",
    "        # x_axis和y_axis分别存放横坐标和纵坐标\n",
    "        x_axis = []\n",
    "        y_axis = []\n",
    "        for coordinate in coordinates:\n",
    "            x_axis.append(coordinate[0])\n",
    "            y_axis.append(coordinate[1])\n",
    "        for i in range(len(x_axis)-1):\n",
    "            # 如果横坐标不变，只有纵坐标变换，即执行U/D\n",
    "            if(x_axis[i] == x_axis[i+1]):\n",
    "                # 移动长度就是后面的纵坐标减去前面的纵坐标\n",
    "                length = y_axis[i+1] - y_axis[i]\n",
    "                if length < 0:\n",
    "                    lengths.append('D')\n",
    "                    lengths.append(str(-1 * length))\n",
    "                else:\n",
    "                    lengths.append('U')\n",
    "                    lengths.append(str(length))\n",
    "            elif(y_axis[i+1] == y_axis[i]):\n",
    "                # 如果纵坐标不变，只有横坐标变换，即执行L/R\n",
    "                length = x_axis[i+1] - x_axis[i]\n",
    "                if length < 0:\n",
    "                    lengths.append('L')\n",
    "                    lengths.append(str(-1 * length))\n",
    "                else:\n",
    "                    lengths.append('R')\n",
    "                    lengths.append(str(length))\n",
    "            else:\n",
    "                # 如果横纵坐标都变换\n",
    "                return \"输入的列表有错误，不支持横纵坐标同时变换的列表\"\n",
    "        return (\"\".join(lengths))"
   ]
  },
  {
   "cell_type": "code",
   "execution_count": 4,
   "metadata": {},
   "outputs": [
    {
     "data": {
      "text/plain": [
       "'U2L4U6D8R12D3'"
      ]
     },
     "execution_count": 4,
     "metadata": {},
     "output_type": "execute_result"
    }
   ],
   "source": [
    "# test your function here\n",
    "# do not remove or change this cell\n",
    "\n",
    "reverse_trajectory([(0, 0), (0, 2), (-4, 2), (-4, 8), (-4, 0), (8, 0), (8, -3)])"
   ]
  },
  {
   "cell_type": "code",
   "execution_count": null,
   "metadata": {
    "scrolled": true
   },
   "outputs": [],
   "source": []
  },
  {
   "cell_type": "markdown",
   "metadata": {},
   "source": [
    "## Question 3 (15 marks)\n"
   ]
  },
  {
   "cell_type": "markdown",
   "metadata": {},
   "source": [
    "Implement a function histogram(), which takes in two parameters as follows:\n",
    "- a list that contains only positive integers that represent the heights of a histogram;\n",
    "- a symbol in the form of a character, for example: '*', 'x' or '-'\n",
    "and returns a histogram in text form.\n",
    "\n",
    "For example:\n",
    "histogram([1, 2, 3, 4], 'x') returns below string:\n",
    "```\n",
    "      x\n",
    "    x x\n",
    "  x x x\n",
    "x x x x\n",
    "```\n",
    "\n",
    "In the example above, each number in the list [1, 2, 3, 4] represents the height of the corresponding column. Using the given symbol 'x', the function generates the historgram denoted by the list and returns the histogram in string form.\n",
    "\n",
    "**Note 1: the columns are separated by a column of spaces(' ').**\n",
    "\n",
    "**Note 2: please don't import any module for this question. Otherwise, you will be heavily penalized.**"
   ]
  },
  {
   "cell_type": "markdown",
   "metadata": {},
   "source": [
    "实现一个函数histogram(),它接受两个参数，如下所示：\n",
    "    仅包含代表直方图盖度的正整数的列表\n",
    "    字符形式的符号，例如：\"*\",\"X\"或者\"-\"，并以文本形式返回直方图\n",
    " \n",
    "注意：\n",
    "    - 列由空格('')列分割\n",
    "    - 不要导入任何模块"
   ]
  },
  {
   "cell_type": "markdown",
   "metadata": {},
   "source": [
    "Another example:\n",
    "\n",
    "histogram([4, 1, 3, 5], '$') returns:\n",
    "\n",
    "```\n",
    "      $\n",
    "$     $\n",
    "$   $ $\n",
    "$   $ $\n",
    "$ $ $ $\n",
    "```\n",
    "\n",
    "**Note: you don't have to verify the list or the symbol in your code. You can just assume they are legit inputs.**"
   ]
  },
  {
   "cell_type": "markdown",
   "metadata": {},
   "source": [
    "注意：不必验证代码中的列表或符号，可以假设它们是合法输入"
   ]
  },
  {
   "cell_type": "raw",
   "metadata": {},
   "source": [
    "Write your pseudo-code here\n",
    "\n"
   ]
  },
  {
   "cell_type": "markdown",
   "metadata": {},
   "source": [
    "1) Implement your function in the code cell below."
   ]
  },
  {
   "cell_type": "code",
   "execution_count": 5,
   "metadata": {},
   "outputs": [],
   "source": [
    "# implement your code below:\n",
    "\n",
    "def histogram(ints, sym): # don't change the function definition and the parameter list, otherwise no point will be given.\n",
    "    heights = ints\n",
    "    char = sym\n",
    "    # 按列读取不好操作，转换为按行读取\n",
    "    columns = [[] for i in range(len(heights))]\n",
    "    for i in range(len(heights)):\n",
    "        string = heights[i] * char + \" \"*(max(heights) - heights[i])\n",
    "        columns[i].append(string)\n",
    "    last_lists = [[] for i in range(max(heights))]\n",
    "    for i in range(len(columns)):\n",
    "        for j in range(len(columns[i][0])):\n",
    "            last_lists[j].append(columns[i][0][j])\n",
    "    # 观察图形知道要逆序输出\n",
    "    for i in last_lists[::-1]:\n",
    "        print(\" \".join(i))"
   ]
  },
  {
   "cell_type": "code",
   "execution_count": 7,
   "metadata": {},
   "outputs": [
    {
     "name": "stdout",
     "output_type": "stream",
     "text": [
      "          #      \n",
      "          #      \n",
      "          # #    \n",
      "        # # #    \n",
      "        # # #    \n",
      "        # # #   #\n",
      "      # # # #   #\n",
      "    # # # # #   #\n",
      "#   # # # # #   #\n",
      "# # # # # # # # #\n"
     ]
    }
   ],
   "source": [
    "# Use the oupout below as your reference for your output.\n",
    "\n",
    "histogram([2, 1, 3, 4, 7, 10, 8, 1, 5], '#')"
   ]
  },
  {
   "cell_type": "code",
   "execution_count": null,
   "metadata": {
    "scrolled": false
   },
   "outputs": [],
   "source": []
  },
  {
   "cell_type": "markdown",
   "metadata": {},
   "source": [
    "2) Please impletement your function again without any `for` or `while` loop structure."
   ]
  },
  {
   "cell_type": "markdown",
   "metadata": {},
   "source": [
    "Write your pseudo-code here\n",
    "\n",
    "\n"
   ]
  },
  {
   "cell_type": "code",
   "execution_count": 15,
   "metadata": {},
   "outputs": [],
   "source": [
    "# implement your code below:\n",
    "# don't change the function definition and the parameter list, otherwise no point will be given.\n",
    "def hist_noloop(ints, sym):\n",
    "    numbers = ints\n",
    "    char = sym\n",
    "    # 代表列表中的最大值\n",
    "    max_number = max(numbers)\n",
    "    last = map(lambda x:(','*(max_number-x)+x*char),numbers)\n",
    "    string = \" \".join(last)\n",
    "    end_lists = list(string.split(' '))\n",
    "    def digui(i,max_number,end_lists):\n",
    "        if i < max_number:\n",
    "            end = map(lambda x: (x[i]), end_lists)\n",
    "            string1 = \" \".join(end).replace(',',' ')\n",
    "            print(string1)\n",
    "            i += 1\n",
    "            digui(i,max_number,end_lists)\n",
    "    digui(0,max_number,end_lists)"
   ]
  },
  {
   "cell_type": "code",
   "execution_count": 17,
   "metadata": {},
   "outputs": [
    {
     "name": "stdout",
     "output_type": "stream",
     "text": [
      "          $ $        \n",
      "        $ $ $        \n",
      "        $ $ $ $      \n",
      "      $ $ $ $ $      \n",
      "      $ $ $ $ $      \n",
      "    $ $ $ $ $ $ $    \n",
      "  $ $ $ $ $ $ $ $ $  \n",
      "$ $ $ $ $ $ $ $ $ $ $\n"
     ]
    }
   ],
   "source": [
    "# Use below oupout as your reference for your output.\n",
    "\n",
    "hist_noloop([1, 2, 3, 5, 7, 8, 8, 6, 3, 2, 1], '$')"
   ]
  },
  {
   "cell_type": "code",
   "execution_count": null,
   "metadata": {},
   "outputs": [],
   "source": []
  },
  {
   "cell_type": "markdown",
   "metadata": {},
   "source": [
    "## Question 4"
   ]
  },
  {
   "cell_type": "markdown",
   "metadata": {},
   "source": [
    "Suppose you are given two lists `a` and `b` both containing n integers each representing a point. The points in `a` are on the line y = 0; the points in `b` are on another line y = 1.\n",
    "\n",
    "Now connect a[i] and b[i] with a straight line segment for each i, in 0 to n-1, and there are n straight line segments that could intersect with one another.\n",
    "\n",
    "Write a function `pair_intersect()` that takes in the two lists `a` and `b` defined above and determines how many pairs of line segments intersect. \n",
    "\n",
    "**Note 1: two line segments intersecting on y = 0 or y = 1 do not count as an intersecting pair.**\n",
    "\n",
    "**Note 2: there are no two line segments sharing both the same starting point and the same ending point in a and b.**\n",
    "\n",
    "**Note 3: please don't import any module for this question. Otherwise, you will be heavily penalized.**"
   ]
  },
  {
   "cell_type": "markdown",
   "metadata": {},
   "source": [
    "假设给了两个列表a和b，它们都包含n个整数，每个整数代表一个点。a中的点在y=0线上，b中的点在另一行y=1上\n",
    "现在将a[i]和b[i]与每个i的直线段连接，范围为0到n-1，并且由n条直线段可以彼此相交\n",
    "\n",
    "编写一个pair_intersect()函数，该函数接受上面定义的两个列表a和b，并确定相交的线对对数\n",
    "注意：\n",
    "    在y=0和y=1相交的两个线段不算相交对\n",
    "    在a和b中，没有两个线段共享相同的起点和终点\n",
    "    请不要为此问题导入任何模块"
   ]
  },
  {
   "cell_type": "markdown",
   "metadata": {},
   "source": [
    "Example 1:\n",
    "\n",
    "a = [1, 2, 3] and b = [2, 1, 3]\n",
    "\n",
    "pair_intersect(a, b) = 1"
   ]
  },
  {
   "cell_type": "markdown",
   "metadata": {},
   "source": [
    "Example 2:\n",
    "\n",
    "a = [3, 1, -1, 0] and b = [0, 2, 2, 3]\n",
    "\n",
    "pair_intersect(a, b) = 4"
   ]
  },
  {
   "cell_type": "markdown",
   "metadata": {},
   "source": [
    "- 事实上Example2结果应该为5，因为有两条线段最后的交点恰好是坐标点本身"
   ]
  },
  {
   "cell_type": "markdown",
   "metadata": {},
   "source": [
    "Write your pseudo-code here\n",
    "\n"
   ]
  },
  {
   "cell_type": "code",
   "execution_count": 10,
   "metadata": {},
   "outputs": [],
   "source": [
    "# implement your code below:\n",
    "class Point:\n",
    "    def __init__(self, x, y):\n",
    "        self.x = x\n",
    "        self.y = y\n",
    "\n",
    "def onSegment(p, q, r):\n",
    "    if ((q.x <= max(p.x, r.x)) and (q.x >= min(p.x, r.x)) and\n",
    "            (q.y <= max(p.y, r.y)) and (q.y >= min(p.y, r.y))):\n",
    "        return True\n",
    "    return False\n",
    "def orientation(p, q, r):\n",
    "    val = (float(q.y - p.y) * (r.x - q.x)) - (float(q.x - p.x) * (r.y - q.y))\n",
    "    if (val > 0):\n",
    "        return 1\n",
    "    elif (val < 0):\n",
    "        return 2\n",
    "    else:\n",
    "        return 0\n",
    "def doIntersect(p1, q1, p2, q2):\n",
    "    o1 = orientation(p1, q1, p2)\n",
    "    o2 = orientation(p1, q1, q2)\n",
    "    o3 = orientation(p2, q2, p1)\n",
    "    o4 = orientation(p2, q2, q1)\n",
    "    if ((o1 != o2) and (o3 != o4)):\n",
    "        return True\n",
    "    if ((o1 == 0) and onSegment(p1, p2, q1)):\n",
    "        return True\n",
    "    if ((o2 == 0) and onSegment(p1, q2, q1)):\n",
    "        return True\n",
    "    if ((o3 == 0) and onSegment(p2, p1, q2)):\n",
    "        return True\n",
    "    if ((o4 == 0) and onSegment(p2, q1, q2)):\n",
    "        return True\n",
    "    return False\n",
    "\n",
    "\n",
    "def pair_intersect(a, b):\n",
    "    a_points = [(i,0) for i in a]\n",
    "    b_points = [(i,1) for i in b]\n",
    "    numbers = 0\n",
    "    for i in range(len(a_points)-1):\n",
    "        p1 = Point(a_points[i][0],a_points[i][1])\n",
    "        q1 = Point(b_points[i][0],b_points[i][1])\n",
    "        for j in range(i+1,len(a_points)):\n",
    "            p2 = Point(a_points[j][0],a_points[j][1])\n",
    "            q2 = Point(b_points[j][0],b_points[j][1])\n",
    "            if doIntersect(p1, q1, p2, q2):\n",
    "                numbers += 1\n",
    "    return numbers\n"
   ]
  },
  {
   "cell_type": "code",
   "execution_count": 11,
   "metadata": {},
   "outputs": [
    {
     "name": "stdout",
     "output_type": "stream",
     "text": [
      "1\n",
      "2\n",
      "2\n",
      "1\n",
      "1\n",
      "1\n",
      "2\n",
      "2\n",
      "1\n",
      "1\n",
      "2\n",
      "2\n",
      "1\n"
     ]
    }
   ],
   "source": [
    "# Use below oupout as your reference for your output.\n",
    "\n",
    "a = [1, 2, 3]\n",
    "b = [2, 1, 3]\n",
    "\n",
    "print(pair_intersect(a, b))"
   ]
  },
  {
   "cell_type": "code",
   "execution_count": 5,
   "metadata": {},
   "outputs": [
    {
     "name": "stdout",
     "output_type": "stream",
     "text": [
      "5\n"
     ]
    }
   ],
   "source": [
    "a = [3, 1, -1, 0]\n",
    "b = [0, 2, 2, 3]\n",
    "print(pair_intersect(a, b))"
   ]
  },
  {
   "cell_type": "markdown",
   "metadata": {},
   "source": [
    "## Question 5"
   ]
  },
  {
   "cell_type": "markdown",
   "metadata": {},
   "source": [
    "Write a function `matrix_rotate()` that takes below parameters:\n",
    "- an n-by-n matrix in the form of a list containing n lists with length n.\n",
    "- degrees to rotate, which is a multiple of 90, e.g., 0, 90, 180, 270, 360, 540, etc.\n",
    "- clockwise, which takes the value of either True or False. True means to rotate the matrix clockwise, False anticlockwise.\n",
    "\n",
    "and returns the matrix after the rotation in the same length-n list representation.\n",
    "\n",
    "**note: please don't import any module for this question. Otherwise, you will be heavily penalized.**"
   ]
  },
  {
   "cell_type": "markdown",
   "metadata": {},
   "source": [
    "编写一个带有以下参数的函数matrix_rotate()\n",
    "\n",
    "列表形式的NxN矩阵，其中包含长度为n的n个列表\n",
    "旋转度数是90的倍数，例如0/90/180/270/360/540等\n",
    "顺时针方向，取值为True或False，True表示顺时针旋转矩阵，False逆时针旋转\n",
    "并在旋转后以相同的length-n列表表示形式返回矩阵"
   ]
  },
  {
   "cell_type": "markdown",
   "metadata": {},
   "source": [
    "For example:\n",
    "\n",
    "`\n",
    "matrix = [ [0, 1, 2], [3, 4, 5], [6, 7, 8] ]\n",
    "`\n",
    "\n",
    "then `matrix_rotate(matrix, 90, True)` returns\n",
    "\n",
    "`[ [6, 3, 0], [7, 4, 1], [8, 5, 2] ]`"
   ]
  },
  {
   "cell_type": "code",
   "execution_count": 10,
   "metadata": {},
   "outputs": [],
   "source": [
    "# implement your code below:\n",
    "# https://blog.csdn.net/wem603947175/article/details/82532799\n",
    "# don't change the function definition and the parameter list, otherwise no point will be given.\n",
    "def matrix_rotate(matrix, degrees, clockwise = True):\n",
    "    if (degrees % 360 == 90 and clockwise) or (degrees % 360 == 270 and not clockwise):\n",
    "        matrix[:] = map(list, zip(*matrix[::-1]))\n",
    "    elif (degrees % 360 == 180):\n",
    "        matrix[:] = map(list, zip(*matrix[::-1]))\n",
    "        matrix[:] = map(list, zip(*matrix[::-1]))\n",
    "    elif (degrees % 360 == 270 and clockwise) or (degrees % 360 == 90 and not clockwise):\n",
    "        matrix[:] = map(list, zip(*matrix[::-1]))\n",
    "        matrix[:] = map(list, zip(*matrix[::-1]))\n",
    "        matrix[:] = map(list, zip(*matrix[::-1]))\n",
    "    else:\n",
    "        matrix = matrix\n",
    "    return matrix "
   ]
  },
  {
   "cell_type": "code",
   "execution_count": 11,
   "metadata": {},
   "outputs": [
    {
     "name": "stdout",
     "output_type": "stream",
     "text": [
      "orginal matrix: [[0, 1, 2], [3, 4, 5], [6, 7, 8]]\n"
     ]
    },
    {
     "data": {
      "text/plain": [
       "[[2, 5, 8], [1, 4, 7], [0, 3, 6]]"
      ]
     },
     "execution_count": 11,
     "metadata": {},
     "output_type": "execute_result"
    }
   ],
   "source": [
    "# Use below oupout as your reference for your output.\n",
    "\n",
    "n_dim = 3\n",
    "mat = [[n_dim*i+j for j in range(n_dim)] for i in range(n_dim)]\n",
    "\n",
    "print(f'orginal matrix: {mat}')\n",
    "matrix_rotate(mat, 90, False)"
   ]
  },
  {
   "cell_type": "code",
   "execution_count": null,
   "metadata": {},
   "outputs": [],
   "source": []
  },
  {
   "cell_type": "code",
   "execution_count": null,
   "metadata": {},
   "outputs": [],
   "source": []
  },
  {
   "cell_type": "markdown",
   "metadata": {},
   "source": [
    "## Question 6"
   ]
  },
  {
   "cell_type": "markdown",
   "metadata": {},
   "source": [
    "Define a function ```rearrange(l)``` that takes in a list $l$, which could contain any scalar data items(int, float, bool, None, etc.), and container data items(strings, lists or tuples). The container data item could be nested, i.e., they may in turn contain other container data items.  For an input list $l$, we define the scalar data items and container data items immediately contained by $l$ to be level 0; for a container data item $d$ at level $i$, all data items it immediately contains are at level $i+1$. Your function ```rearrange(l)``` should return a rearranged list $l'$ which contains all data items in $l$ in ascending order by their level. Data items of the same level should appear in the order they appear in $l$\n",
    "\n",
    "For example: \n",
    "\n",
    "a list [1, 2.0, [None,[3,True]], 'ab', [100, 200], ('o', 12)] will become: [1, 2.0, None,'a','b', 100, 200, 'o', 12, 3, True]\n",
    "\n",
    "a list [[1, ''], ('w', 'xy'), 'abc', 4.5, 2] will become [4.5, 2, 1, '', 'w', 'a','b', c', 'x', 'y']\n"
   ]
  },
  {
   "cell_type": "markdown",
   "metadata": {},
   "source": [
    "定义一个带有列表𝑙的函数rerange（l），它可以包含任何标量数据项（int，float，bool，None等）和容器数据项（字符串，列表或元组）。 容器数据项可以是嵌套的，即它们可以依次包含其他容器数据项。 对于输入列表𝑙，我们将𝑙紧随其后的标量数据项和容器数据项定义为级别0； 对于级别为𝑖的容器数据项𝑖，它立即包含的所有数据项都为级别+1。 您的函数rearrange（l）应该返回一个重排的列表𝑙，其中包含所有数据项（按𝑙的级别升序排列）。 相同级别的数据项应按它们在𝑙中出现的顺序出现"
   ]
  },
  {
   "cell_type": "code",
   "execution_count": null,
   "metadata": {},
   "outputs": [],
   "source": []
  },
  {
   "cell_type": "raw",
   "metadata": {},
   "source": [
    "Write your pseudo-code here\n",
    "\n"
   ]
  },
  {
   "cell_type": "code",
   "execution_count": 4,
   "metadata": {},
   "outputs": [],
   "source": [
    "# define your function here\n",
    "def flatten(lst):\n",
    "    my_list = lst\n",
    "    # 存放等级数据\n",
    "    level_dict = {}\n",
    "    level = 0\n",
    "    for element in my_list:\n",
    "        # 首先将level=0的存放到新列表\n",
    "        if type(element) == int or type(element) == float:\n",
    "            level_dict[element] = level\n",
    "        elif element == None:\n",
    "            level_dict[element] = level\n",
    "        elif type(element) == bool:\n",
    "            level_dict[str(element)] = level\n",
    "        else:\n",
    "            def digui(element,level):\n",
    "                level += 1\n",
    "                for j in element:\n",
    "                    if type(j) == int or type(j) == float:\n",
    "                        level_dict[j] = level\n",
    "                    elif type(j) == str and len(j) == 1:\n",
    "                        level_dict[j] = level\n",
    "                    elif j == None:\n",
    "                        level_dict[j] = level\n",
    "                    elif type(j) == bool:\n",
    "                        level_dict[str(j)] = level\n",
    "                    else:\n",
    "                        digui(j,level)\n",
    "            digui(element,level)\n",
    "    # 使用lambda根据字典的值进行排序\n",
    "    nums = sorted(level_dict.items(),key=lambda item:item[1],reverse=False)\n",
    "    end_list = []\n",
    "    for num in nums:\n",
    "        if num[0] == 'True' or num[0] == 'False':\n",
    "            end_list.append(bool(num[0]))\n",
    "        else:\n",
    "            end_list.append(num[0])\n",
    "    print(end_list)"
   ]
  },
  {
   "cell_type": "code",
   "execution_count": 5,
   "metadata": {},
   "outputs": [
    {
     "name": "stdout",
     "output_type": "stream",
     "text": [
      "[1, 2.0, None, 'a', 'b', 100, 200, 'o', 12, 3, True]\n"
     ]
    }
   ],
   "source": [
    "# test your function here\n",
    "# do not remove or change this cell\n",
    "flatten([1, 2.0, [None,[3,True]], 'ab', [100, 200], ('o', 12)])"
   ]
  },
  {
   "cell_type": "code",
   "execution_count": 6,
   "metadata": {},
   "outputs": [
    {
     "name": "stdout",
     "output_type": "stream",
     "text": [
      "[4.5, 2, 1, 'w', 'a', 'b', 'c', 'x', 'y']\n"
     ]
    }
   ],
   "source": [
    "flatten([[1, ''], ('w', 'xy'), 'abc', 4.5, 2])"
   ]
  },
  {
   "cell_type": "code",
   "execution_count": null,
   "metadata": {},
   "outputs": [],
   "source": []
  }
 ],
 "metadata": {
  "kernelspec": {
   "display_name": "Python 3",
   "language": "python",
   "name": "python3"
  },
  "language_info": {
   "codemirror_mode": {
    "name": "ipython",
    "version": 3
   },
   "file_extension": ".py",
   "mimetype": "text/x-python",
   "name": "python",
   "nbconvert_exporter": "python",
   "pygments_lexer": "ipython3",
   "version": "3.7.0"
  }
 },
 "nbformat": 4,
 "nbformat_minor": 2
}
