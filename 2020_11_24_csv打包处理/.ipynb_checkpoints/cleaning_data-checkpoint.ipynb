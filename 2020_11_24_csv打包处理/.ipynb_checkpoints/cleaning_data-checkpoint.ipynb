{
 "cells": [
  {
   "cell_type": "code",
   "execution_count": 1,
   "metadata": {},
   "outputs": [],
   "source": [
    "import csv\n",
    "import os"
   ]
  },
  {
   "cell_type": "code",
   "execution_count": 2,
   "metadata": {},
   "outputs": [],
   "source": [
    "# 读取整个目录下的所有文件\n",
    "files = os.listdir('before_data_cleaning')\n",
    "path = 'after_data_cleaning'\n",
    "# 如果不存在整个目录，就会创建这个目录，用于存放处理后的数据\n",
    "if not os.path.exists(path):\n",
    "    os.mkdir(path)"
   ]
  },
  {
   "cell_type": "code",
   "execution_count": 3,
   "metadata": {},
   "outputs": [
    {
     "name": "stdout",
     "output_type": "stream",
     "text": [
      "GB_youtube_trending_data.csv已经清洗完毕\n",
      "US_youtube_trending_data.csv已经清洗完毕\n"
     ]
    }
   ],
   "source": [
    "for file in files:\n",
    "    f = open(\"before_data_cleaning/{}\".format(file),mode='r',encoding=\"utf-8\")\n",
    "    csv_read = csv.reader(f)\n",
    "    fp = open(\"after_data_cleaning/{}\".format(file),mode='w',newline=\"\",encoding='utf-8-sig')\n",
    "    csv_write = csv.writer(fp)\n",
    "    rows = [i for i in csv_read]\n",
    "    csv_write.writerow(rows[0])\n",
    "    # 在csv中第一列显示#NAME?的数据在此时显示的都是-开头的字符串，作为删除依据1\n",
    "    for i in range(1,len(rows)):\n",
    "        if rows[i][0][0] == '-':\n",
    "            # print(rows[i][0],i + 1)\n",
    "            continue\n",
    "        else:\n",
    "            for j in range(len(rows[i])):\n",
    "                if rows[i][j] == ' ':\n",
    "                    pass\n",
    "                else:\n",
    "                    if (j == (len(rows[i]) - 1)):\n",
    "                        csv_write.writerow(rows[i])\n",
    "                        break\n",
    "    fp.close()\n",
    "    print(\"{}已经清洗完毕\".format(file))"
   ]
  },
  {
   "cell_type": "code",
   "execution_count": null,
   "metadata": {},
   "outputs": [],
   "source": []
  }
 ],
 "metadata": {
  "kernelspec": {
   "display_name": "Python 3",
   "language": "python",
   "name": "python3"
  },
  "language_info": {
   "codemirror_mode": {
    "name": "ipython",
    "version": 3
   },
   "file_extension": ".py",
   "mimetype": "text/x-python",
   "name": "python",
   "nbconvert_exporter": "python",
   "pygments_lexer": "ipython3",
   "version": "3.7.0"
  }
 },
 "nbformat": 4,
 "nbformat_minor": 2
}
