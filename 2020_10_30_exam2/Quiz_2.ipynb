{
 "cells": [
  {
   "cell_type": "markdown",
   "metadata": {
    "deletable": false,
    "editable": false,
    "nbgrader": {
     "cell_type": "markdown",
     "checksum": "4152a2a56e75a341e4c11217b5d7fcf4",
     "grade": false,
     "grade_id": "cell-7abccbda296f17ab",
     "locked": true,
     "schema_version": 3,
     "solution": false,
     "task": false
    }
   },
   "source": [
    "<div class=\"image\">\n",
    "\n",
    "  <img style=\"float: right;\" src=\"https://dx5i3n065oxey.cloudfront.net/platform/4186/assets/logo.png?v=2e76f927-9482-4bfb-9092-d9a0b595cd2c\" width=\"45%\" align=\"right\">\n",
    "      <h4>\n",
    "          <p style=\"font-size:20pt\">Programming for Business Analytics</p>\n",
    "          <p style=\"font-size:15pt\">Quiz 2</p>\n",
    "      </h4>\n",
    "</div>\n",
    "\n",
    "- Make sure you have executed the code in the below cell.\n",
    "- Make sure you read the questions carefully and follow the instructions.\n",
    "- Make sure you put the answers in the Answer cells.\n",
    "- Please do not put your answers in comments (after #).\n",
    "- Please do not add any new cells between the Question and Answer cells.\n",
    "- Please do not change the names of the variables in Answer cells."
   ]
  },
  {
   "cell_type": "code",
   "execution_count": 2,
   "metadata": {
    "deletable": false,
    "editable": false,
    "nbgrader": {
     "cell_type": "code",
     "checksum": "79779020bc0fbeccc5b004ff39163770",
     "grade": false,
     "grade_id": "cell-78e83679fc4d0bad",
     "locked": true,
     "schema_version": 3,
     "solution": false,
     "task": false
    }
   },
   "outputs": [
    {
     "data": {
      "application/javascript": [
       "IPython.notebook.set_autosave_interval(120000)"
      ]
     },
     "metadata": {},
     "output_type": "display_data"
    },
    {
     "name": "stdout",
     "output_type": "stream",
     "text": [
      "Autosaving every 120 seconds\n"
     ]
    }
   ],
   "source": [
    "#Please make sure your Jupyter Notebook environment is running a Python 3 kernel \n",
    "import IPython\n",
    "assert IPython.version_info[0] >= 3, \"Your version of IPython is too old, please update it.\"\n",
    "%autosave 120"
   ]
  },
  {
   "cell_type": "markdown",
   "metadata": {
    "deletable": false,
    "editable": false,
    "nbgrader": {
     "cell_type": "markdown",
     "checksum": "095e7cbe6b3aa4efd82ddd1d7f481f07",
     "grade": false,
     "grade_id": "cell-a8e9a2ebb06fc601",
     "locked": true,
     "schema_version": 3,
     "solution": false,
     "task": false
    }
   },
   "source": [
    "<div class=\"alert alert-warning\"> \n",
    "<b>QUESTION 1:</b> \n",
    "    \n",
    "<p>What is the associativity?</p>\n",
    "<p> a) the type of expressions that evaluates if the statement is <tt>True</tt> or <tt>False</tt>. </p>\n",
    "<p> b) the order in which an expression is evaluated that has multiple operator of the same precedence. </p>\n",
    "<p> c) the situation when the code raises an error. </p>\n",
    "<p> d) the feature of the <code>for</code> loop. </p>\n",
    "\n",
    "</div>"
   ]
  },
  {
   "cell_type": "code",
   "execution_count": 3,
   "metadata": {
    "deletable": false,
    "nbgrader": {
     "cell_type": "code",
     "checksum": "ece895c4722019474ac3bc29fa38df15",
     "grade": false,
     "grade_id": "cell-42ec926a9cd11a94",
     "locked": false,
     "schema_version": 3,
     "solution": true,
     "task": false
    }
   },
   "outputs": [],
   "source": [
    "###ANSWER(1). Please assign the letter representing the correct answer to the variable \n",
    "### (write it down between the \"\")\n",
    "\n",
    "question_1 = \"b\" # YOUR CODE SHOULD BE BETWEEN \"\"\n"
   ]
  },
  {
   "cell_type": "code",
   "execution_count": null,
   "metadata": {
    "deletable": false,
    "editable": false,
    "nbgrader": {
     "cell_type": "code",
     "checksum": "07b934d5c320ddc69a530798f951f205",
     "grade": true,
     "grade_id": "cell-93b38415f099815d",
     "locked": true,
     "points": 10,
     "schema_version": 3,
     "solution": false,
     "task": false
    }
   },
   "outputs": [],
   "source": [
    "#Please leave this cell blank."
   ]
  },
  {
   "cell_type": "markdown",
   "metadata": {
    "deletable": false,
    "editable": false,
    "nbgrader": {
     "cell_type": "markdown",
     "checksum": "ec28b736518f3a52b6461db7ed94c5f6",
     "grade": false,
     "grade_id": "cell-d875d283b9841c79",
     "locked": true,
     "schema_version": 3,
     "solution": false,
     "task": false
    }
   },
   "source": [
    "<div class=\"alert alert-warning\">\n",
    "<b>QUESTION 2:</b>\n",
    "    <p>What is the statement used to execute an \"else if\" control loop in Python?\n",
    "</p>\n",
    "    <p> a) <tt>elif</tt> </p>\n",
    "<p> b) <tt>else_if</tt> </p>\n",
    "    <p> c) <tt>elseif</tt> </p>\n",
    "    <p> d) <tt>elsif</tt> </p>\n",
    "</div>"
   ]
  },
  {
   "cell_type": "code",
   "execution_count": 4,
   "metadata": {
    "deletable": false,
    "nbgrader": {
     "cell_type": "code",
     "checksum": "0289db9690e65cf599ee6499a8a01aa0",
     "grade": false,
     "grade_id": "cell-6c38c7767616e06d",
     "locked": false,
     "schema_version": 3,
     "solution": true,
     "task": false
    }
   },
   "outputs": [],
   "source": [
    "###ANSWER(2). Please assign the letter representing the correct answer to the variable \n",
    "### (write it down between the \"\")\n",
    "\n",
    "question_2 = \"a\" # YOUR CODE SHOULD BE BETWEEN \"\"\n"
   ]
  },
  {
   "cell_type": "code",
   "execution_count": null,
   "metadata": {
    "deletable": false,
    "editable": false,
    "nbgrader": {
     "cell_type": "code",
     "checksum": "99a37c2d3ca78b0f85c3b9a3512b7e18",
     "grade": true,
     "grade_id": "cell-941d3720104ce8be",
     "locked": true,
     "points": 10,
     "schema_version": 3,
     "solution": false,
     "task": false
    }
   },
   "outputs": [],
   "source": [
    "#Please leave this cell blank."
   ]
  },
  {
   "cell_type": "markdown",
   "metadata": {
    "deletable": false,
    "editable": false,
    "nbgrader": {
     "cell_type": "markdown",
     "checksum": "2cf1d5572cfd131b9a607d450600fbff",
     "grade": false,
     "grade_id": "cell-9f9a2838ccf324ca",
     "locked": true,
     "schema_version": 3,
     "solution": false,
     "task": false
    }
   },
   "source": [
    "<div class=\"alert alert-warning\">\n",
    "<b>QUESTION 3:</b>\n",
    "    <p>Using a <code>for</code> loop, print all integers in range from 2 to 350 (inclusive), as long as the number is odd and divisible by both 3 and 5.</p>\n",
    "</div>"
   ]
  },
  {
   "cell_type": "code",
   "execution_count": 5,
   "metadata": {
    "deletable": false,
    "nbgrader": {
     "cell_type": "code",
     "checksum": "8c4a5bb35576404ae3217fdde41a0d27",
     "grade": false,
     "grade_id": "cell-07e676045498a2ce",
     "locked": false,
     "schema_version": 3,
     "solution": true,
     "task": false
    }
   },
   "outputs": [
    {
     "name": "stdout",
     "output_type": "stream",
     "text": [
      "15\n",
      "45\n",
      "75\n",
      "105\n",
      "135\n",
      "165\n",
      "195\n",
      "225\n",
      "255\n",
      "285\n",
      "315\n",
      "345\n"
     ]
    }
   ],
   "source": [
    "###ANSWER(3). \n",
    "# Please write your code in this cell.\n",
    "for i in range(2,351):\n",
    "    if i % 2 == 1 and (i % 3 == 0 and i % 5 == 0):\n",
    "        print(i)"
   ]
  },
  {
   "cell_type": "code",
   "execution_count": null,
   "metadata": {
    "deletable": false,
    "editable": false,
    "nbgrader": {
     "cell_type": "code",
     "checksum": "f325575a41aaf25f4eafa29bd5713b8e",
     "grade": true,
     "grade_id": "cell-1fe73414eb44bd63",
     "locked": true,
     "points": 10,
     "schema_version": 3,
     "solution": false,
     "task": false
    }
   },
   "outputs": [],
   "source": [
    "#Please leave this cell blank."
   ]
  },
  {
   "cell_type": "markdown",
   "metadata": {
    "deletable": false,
    "editable": false,
    "nbgrader": {
     "cell_type": "markdown",
     "checksum": "b0ad496bbeec09d2b1f33005d11c6263",
     "grade": false,
     "grade_id": "cell-d3e1eff61c310113",
     "locked": true,
     "schema_version": 3,
     "solution": false,
     "task": false
    }
   },
   "source": [
    "<div class=\"alert alert-warning\">\n",
    "<b>QUESTION 4:</b> \n",
    "<p>A list called <code>fruit_list</code> has been defined in the cell below. Please write code to replace the element \"apple\" with \"kiwi\". The printout of the code should be <code>['kiwi', 'banana', 'cherry']</code>.</p>\n",
    "    \n",
    "<br>\n",
    "<b>DO NOT</b> write: <code>fruit_list = ['kiwi', 'banana', 'cherry']</code>.\n",
    "</div>"
   ]
  },
  {
   "cell_type": "code",
   "execution_count": 7,
   "metadata": {
    "deletable": false,
    "nbgrader": {
     "cell_type": "code",
     "checksum": "f2015b705f730770e9f56f78ffed3b50",
     "grade": false,
     "grade_id": "cell-cb186a42fd8815f4",
     "locked": false,
     "schema_version": 3,
     "solution": true,
     "task": false
    }
   },
   "outputs": [
    {
     "name": "stdout",
     "output_type": "stream",
     "text": [
      "['kiwi', 'banana', 'cherry']\n"
     ]
    }
   ],
   "source": [
    "###ANSWER(4). \n",
    "fruit_list = [\"apple\", \"banana\", \"cherry\"]\n",
    "# Please write your code here.\n",
    "fruit_list.pop(0)\n",
    "fruit_list.insert(0,'kiwi')\n",
    "print(fruit_list)\n"
   ]
  },
  {
   "cell_type": "code",
   "execution_count": null,
   "metadata": {
    "deletable": false,
    "editable": false,
    "nbgrader": {
     "cell_type": "code",
     "checksum": "ff331f5ccec8b0308cd2165f965f9e90",
     "grade": true,
     "grade_id": "cell-6b80b122b12d6451",
     "locked": true,
     "points": 10,
     "schema_version": 3,
     "solution": false,
     "task": false
    }
   },
   "outputs": [],
   "source": [
    "#Please leave this cell blank."
   ]
  },
  {
   "cell_type": "markdown",
   "metadata": {
    "deletable": false,
    "editable": false,
    "nbgrader": {
     "cell_type": "markdown",
     "checksum": "8eaca197157b2f924fc1b1da61c03edd",
     "grade": false,
     "grade_id": "cell-83616604018573cc",
     "locked": true,
     "schema_version": 3,
     "solution": false,
     "task": false
    }
   },
   "source": [
    "<div class=\"alert alert-warning\">\n",
    "<b>QUESTION 5:</b> \n",
    "<p>A list called <code>colour_list</code> has been defined in the cell below. Please write code to add a string \"red\" as the third element (between \"magenta\" and \"yellow\"). The printout of the code should be <code>['cyan', 'magenta', 'red', 'yellow', 'black']</code>.</p>\n",
    "    \n",
    "<br>\n",
    "<b>DO NOT</b> write: <code>colour_list = ['cyan', 'magenta', 'red', 'yellow', 'black']</code>.\n",
    "</div>"
   ]
  },
  {
   "cell_type": "code",
   "execution_count": 8,
   "metadata": {
    "deletable": false,
    "nbgrader": {
     "cell_type": "code",
     "checksum": "f8d63ebefa8ee0f52cfa3f841e254d05",
     "grade": false,
     "grade_id": "cell-1461be49420104f0",
     "locked": false,
     "schema_version": 3,
     "solution": true,
     "task": false
    }
   },
   "outputs": [
    {
     "name": "stdout",
     "output_type": "stream",
     "text": [
      "['cyan', 'magenta', 'red', 'yellow', 'black']\n"
     ]
    }
   ],
   "source": [
    "###ANSWER(5). \n",
    "colour_list = [\"cyan\", \"magenta\", \"yellow\", \"black\"]\n",
    "# Please write your code here.\n",
    "colour_list.insert(2,'red')\n",
    "print(colour_list)\n"
   ]
  },
  {
   "cell_type": "code",
   "execution_count": null,
   "metadata": {
    "deletable": false,
    "editable": false,
    "nbgrader": {
     "cell_type": "code",
     "checksum": "1f5d79416388cb4b5e75048752ff2d14",
     "grade": true,
     "grade_id": "cell-2843659633b8608e",
     "locked": true,
     "points": 10,
     "schema_version": 3,
     "solution": false,
     "task": false
    }
   },
   "outputs": [],
   "source": [
    "#Please leave this cell blank."
   ]
  },
  {
   "cell_type": "markdown",
   "metadata": {
    "deletable": false,
    "editable": false,
    "nbgrader": {
     "cell_type": "markdown",
     "checksum": "91f4fddfcddf823a051d194ed1f76b50",
     "grade": false,
     "grade_id": "cell-6083c47827c5c91d",
     "locked": true,
     "schema_version": 3,
     "solution": false,
     "task": false
    }
   },
   "source": [
    "<div class=\"alert alert-warning\">\n",
    "<b>QUESTION 6:</b> \n",
    "<p>A list called <code>name_list</code> has been defined in the cell below. Please use a list method to remove the element \"Elle\". Print the list, the expected output should be <code>['James', 'Shannon', 'Charlie']</code>.</p>\n",
    "    \n",
    "<br>\n",
    "<b>DO NOT</b> write: <code>name_list = ['James', 'Shannon', 'Charlie']</code>.\n",
    "</div>"
   ]
  },
  {
   "cell_type": "code",
   "execution_count": 9,
   "metadata": {
    "deletable": false,
    "nbgrader": {
     "cell_type": "code",
     "checksum": "0c67bf4f0e96b47519c3a7f4e0c050ab",
     "grade": false,
     "grade_id": "cell-661abee3560f82a6",
     "locked": false,
     "schema_version": 3,
     "solution": true,
     "task": false
    }
   },
   "outputs": [
    {
     "name": "stdout",
     "output_type": "stream",
     "text": [
      "['James', 'Shannon', 'Charlie']\n"
     ]
    }
   ],
   "source": [
    "###ANSWER(6). \n",
    "name_list = ['James', 'Shannon', 'Elle', 'Charlie']\n",
    "# Please write your code here.\n",
    "name_list.pop(2)\n",
    "print(name_list)\n"
   ]
  },
  {
   "cell_type": "code",
   "execution_count": null,
   "metadata": {
    "deletable": false,
    "editable": false,
    "nbgrader": {
     "cell_type": "code",
     "checksum": "5ead0842805acd86b28be019ffd2323a",
     "grade": true,
     "grade_id": "cell-19745102368e6763",
     "locked": true,
     "points": 10,
     "schema_version": 3,
     "solution": false,
     "task": false
    }
   },
   "outputs": [],
   "source": [
    "#Please leave this cell blank."
   ]
  },
  {
   "cell_type": "markdown",
   "metadata": {
    "deletable": false,
    "editable": false,
    "nbgrader": {
     "cell_type": "markdown",
     "checksum": "78b41adc2b9c71f4a9f70dee16b35576",
     "grade": false,
     "grade_id": "cell-22ffaf42539465c3",
     "locked": true,
     "schema_version": 3,
     "solution": false,
     "task": false
    }
   },
   "source": [
    "<div class=\"alert alert-warning\">\n",
    "<b>QUESTION 7:</b>\n",
    "    <p>Reverse the order of the elements in the below list.</p>\n",
    "    <code>question_7 = [1, \"02\", 3, \"04\", 5, \"06\", 7, \"08\", 9, \"10\"]</code>\n",
    "    <p>When the list is printed, the order of the elements should be as below:</p>\n",
    "    <code>['10', 9, '08', 7, '06', 5, '04', 3, '02', 1]</code>\n",
    "<p></p>\n",
    "    <b>DO NOT</b> write: <code>question_7 = ['10', 9, '08', 7, '06', 5, '04', 3, '02', 1]</code>.\n",
    "</div>"
   ]
  },
  {
   "cell_type": "code",
   "execution_count": 13,
   "metadata": {
    "deletable": false,
    "nbgrader": {
     "cell_type": "code",
     "checksum": "54e1294d77a41e0b64de7d273a657879",
     "grade": false,
     "grade_id": "cell-2e732628c419df08",
     "locked": false,
     "schema_version": 3,
     "solution": true,
     "task": false
    }
   },
   "outputs": [
    {
     "name": "stdout",
     "output_type": "stream",
     "text": [
      "['10', 9, '08', 7, '06', 5, '04', 3, '02', 1]\n"
     ]
    }
   ],
   "source": [
    "###ANSWER(7). \n",
    "question_7 = [1, \"02\", 3, \"04\", 5, \"06\", 7, \"08\", 9, \"10\"]\n",
    "# Please write your code here.\n",
    "question_7_now = []\n",
    "for i in question_7[::-1]:\n",
    "    question_7_now.append(i)\n",
    "print(question_7_now)\n"
   ]
  },
  {
   "cell_type": "code",
   "execution_count": null,
   "metadata": {
    "deletable": false,
    "editable": false,
    "nbgrader": {
     "cell_type": "code",
     "checksum": "9325868fe0e28e58a8c1f641bcbc592d",
     "grade": true,
     "grade_id": "cell-871db471c19af591",
     "locked": true,
     "points": 10,
     "schema_version": 3,
     "solution": false,
     "task": false
    }
   },
   "outputs": [],
   "source": [
    "#Please leave this cell blank."
   ]
  },
  {
   "cell_type": "markdown",
   "metadata": {
    "deletable": false,
    "editable": false,
    "nbgrader": {
     "cell_type": "markdown",
     "checksum": "8e0ebec1d66470369d95d33ca60eaffe",
     "grade": false,
     "grade_id": "cell-b0e3a8ef6c046ada",
     "locked": true,
     "schema_version": 3,
     "solution": false,
     "task": false
    }
   },
   "source": [
    "<div class=\"alert alert-warning\">\n",
    "<b>QUESTION 8:</b> \n",
    "<p>A list called <code>quote_steve</code> has been defined in the cell below. Please use list comprehension to construct a new list called <code>word_length_list</code> which contains the length of each string in <code>quote_steve</code>. Print <code>word_length_list</code>, the expected output should be <code>[3, 6, 3, 3, 5, 6, 2, 5, 4, 3, 6, 3, 5, 3, 3, 4, 3, 2]</code>.</p>\n",
    "    \n",
    "<br>\n",
    "<b>DO NOT</b> write: <code>word_length_list = [3, 6, 3, 3, 5, 6, 2, 5, 4, 3, 6, 3, 5, 3, 3, 4, 3, 2]</code>.\n",
    "</div>"
   ]
  },
  {
   "cell_type": "code",
   "execution_count": 14,
   "metadata": {
    "deletable": false,
    "nbgrader": {
     "cell_type": "code",
     "checksum": "ce8e2f95c865be278eb5b04319e79401",
     "grade": false,
     "grade_id": "cell-74fa601ef0efb7b2",
     "locked": false,
     "schema_version": 3,
     "solution": true,
     "task": false
    }
   },
   "outputs": [
    {
     "name": "stdout",
     "output_type": "stream",
     "text": [
      "[3, 6, 3, 3, 5, 6, 2, 5, 4, 3, 6, 3, 5, 3, 3, 4, 3, 2]\n"
     ]
    }
   ],
   "source": [
    "###ANSWER(8). \n",
    "quote_steve = ['The','people','who','are','crazy','enough','to','think','they','can','change',\n",
    "               'the','world','are','the','ones','who','do']\n",
    "word_length_list =  [len(i) for i in quote_steve]# Please write your code here.\n",
    "print(word_length_list)\n"
   ]
  },
  {
   "cell_type": "code",
   "execution_count": null,
   "metadata": {
    "deletable": false,
    "editable": false,
    "nbgrader": {
     "cell_type": "code",
     "checksum": "4c76d0e19a4fad309ecc89dd73398897",
     "grade": true,
     "grade_id": "cell-69f0e69901b5a7a8",
     "locked": true,
     "points": 10,
     "schema_version": 3,
     "solution": false,
     "task": false
    }
   },
   "outputs": [],
   "source": [
    "#Please leave this cell blank."
   ]
  },
  {
   "cell_type": "markdown",
   "metadata": {
    "deletable": false,
    "editable": false,
    "nbgrader": {
     "cell_type": "markdown",
     "checksum": "9af5e17fd1148fe0b11c05fc68d587cd",
     "grade": false,
     "grade_id": "cell-b493b5023cb77da2",
     "locked": true,
     "schema_version": 3,
     "solution": false,
     "task": false
    }
   },
   "source": [
    "<div class=\"alert alert-warning\">\n",
    "<b>QUESTION 9:</b> \n",
    "<p>A list called <code>tech_gaints_list</code> has been defined in the cell below. Please write code to reverse each string in the list. Print the list, the expected output is <code>['Apple', 'Microsoft', 'Google', 'Tencent', 'Facebook']</code>.</p>\n",
    "    \n",
    "<br>\n",
    "<b>DO NOT</b> write: <code>tech_gaints_list = ['Apple', 'Microsoft', 'Google', 'Tencent', 'Facebook']</code>.\n",
    "</div>"
   ]
  },
  {
   "cell_type": "code",
   "execution_count": 18,
   "metadata": {
    "deletable": false,
    "nbgrader": {
     "cell_type": "code",
     "checksum": "babf980bc8c5753b70b70d43768374dd",
     "grade": false,
     "grade_id": "cell-71f0ae5f1a107be0",
     "locked": false,
     "schema_version": 3,
     "solution": true,
     "task": false
    }
   },
   "outputs": [
    {
     "name": "stdout",
     "output_type": "stream",
     "text": [
      "['Apple', 'Microsoft', 'Google', 'Tencent', 'Facebook']\n"
     ]
    }
   ],
   "source": [
    "###ANSWER(9). \n",
    "tech_gaints_list = ['elppA', 'tfosorciM', 'elgooG', 'tnecneT', 'koobecaF']\n",
    "# Please write your code here.\n",
    "tech = []\n",
    "for i in tech_gaints_list:\n",
    "    x = i[::-1]\n",
    "    tech.append(x)\n",
    "del tech_gaints_list\n",
    "tech_gaints_list = tech\n",
    "print(tech_gaints_list)\n"
   ]
  },
  {
   "cell_type": "code",
   "execution_count": null,
   "metadata": {
    "deletable": false,
    "editable": false,
    "nbgrader": {
     "cell_type": "code",
     "checksum": "8d3f5d136cc8a3b80842e01b54cca7f1",
     "grade": true,
     "grade_id": "cell-694dc2ad984e2b6e",
     "locked": true,
     "points": 10,
     "schema_version": 3,
     "solution": false,
     "task": false
    }
   },
   "outputs": [],
   "source": [
    "#Please leave this cell blank."
   ]
  },
  {
   "cell_type": "markdown",
   "metadata": {
    "deletable": false,
    "editable": false,
    "nbgrader": {
     "cell_type": "markdown",
     "checksum": "2fea3d96df6ac2b38a6c1a47e9bca903",
     "grade": false,
     "grade_id": "cell-3e15861dc7f5d54d",
     "locked": true,
     "schema_version": 3,
     "solution": false,
     "task": false
    }
   },
   "source": [
    "<div class=\"alert alert-warning\">\n",
    "<b>QUESTION 10: </b>\n",
    "\n",
    "<p>Using a <code>while</code> loop, print all the integers range from $1$ to $30$(inclusive), replace the ones where the last digit is $5$ with the string <code>\"This is 5, 15, or 25.\"</code>. When the loop reaches $30$, print \"End of the loop\".\n",
    "\n",
    "The expected printout is shown below.\n",
    "\n",
    "```\n",
    "1\n",
    "2\n",
    "3\n",
    "4\n",
    "This is 5, 15, or 25.\n",
    "6\n",
    "7\n",
    "8\n",
    "9\n",
    "10\n",
    "11\n",
    "12\n",
    "13\n",
    "14\n",
    "This is 5, 15, or 25.\n",
    "16\n",
    "17\n",
    "18\n",
    "19\n",
    "20\n",
    "21\n",
    "22\n",
    "23\n",
    "24\n",
    "This is 5, 15, or 25.\n",
    "26\n",
    "27\n",
    "28\n",
    "29\n",
    "30\n",
    "End of the loop.```\n",
    "</div>"
   ]
  },
  {
   "cell_type": "code",
   "execution_count": 19,
   "metadata": {
    "deletable": false,
    "nbgrader": {
     "cell_type": "code",
     "checksum": "42ff4561996e3ddbfafbdbdd5a9b227e",
     "grade": false,
     "grade_id": "cell-3beaa5547d77784e",
     "locked": false,
     "schema_version": 3,
     "solution": true,
     "task": false
    }
   },
   "outputs": [
    {
     "name": "stdout",
     "output_type": "stream",
     "text": [
      "1\n",
      "2\n",
      "3\n",
      "4\n",
      "This is 5,15, or 25.\n",
      "6\n",
      "7\n",
      "8\n",
      "9\n",
      "10\n",
      "11\n",
      "12\n",
      "13\n",
      "14\n",
      "This is 5,15, or 25.\n",
      "16\n",
      "17\n",
      "18\n",
      "19\n",
      "20\n",
      "21\n",
      "22\n",
      "23\n",
      "24\n",
      "This is 5,15, or 25.\n",
      "26\n",
      "27\n",
      "28\n",
      "29\n",
      "30\n",
      "End of the loop.\n"
     ]
    }
   ],
   "source": [
    "###ANSWER(10). \n",
    "# Please write your code in this cell.\n",
    "i = 1\n",
    "while i <= 30:\n",
    "    if (i == 5 or i == 15 or i == 25):\n",
    "        print('This is 5,15, or 25.')\n",
    "    else:\n",
    "        print(i)\n",
    "    i += 1\n",
    "print(\"End of the loop.\")"
   ]
  },
  {
   "cell_type": "code",
   "execution_count": null,
   "metadata": {
    "deletable": false,
    "editable": false,
    "nbgrader": {
     "cell_type": "code",
     "checksum": "82acf710b775af6d26fea469f794c7fa",
     "grade": true,
     "grade_id": "cell-587b6418e4e53342",
     "locked": true,
     "points": 10,
     "schema_version": 3,
     "solution": false,
     "task": false
    }
   },
   "outputs": [],
   "source": [
    "#Please leave this cell blank."
   ]
  }
 ],
 "metadata": {
  "kernelspec": {
   "display_name": "Python 3",
   "language": "python",
   "name": "python3"
  },
  "language_info": {
   "codemirror_mode": {
    "name": "ipython",
    "version": 3
   },
   "file_extension": ".py",
   "mimetype": "text/x-python",
   "name": "python",
   "nbconvert_exporter": "python",
   "pygments_lexer": "ipython3",
   "version": "3.7.0"
  }
 },
 "nbformat": 4,
 "nbformat_minor": 4
}
