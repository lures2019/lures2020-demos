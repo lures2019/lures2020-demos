{
 "cells": [
  {
   "cell_type": "markdown",
   "metadata": {
    "deletable": false,
    "editable": false,
    "nbgrader": {
     "cell_type": "markdown",
     "checksum": "15ebe2c4998a1e1f6170be12a246afeb",
     "grade": false,
     "grade_id": "cell-4990d97ccac9d455",
     "locked": true,
     "schema_version": 3,
     "solution": false,
     "task": false
    }
   },
   "source": [
    "# Quiz 1\n",
    "\n",
    "\n",
    "- Make sure you have executed the code in the below cell.\n",
    "- Make sure you read the questions carefully and follow the instructions.\n",
    "- Please do not add any new cells between the Question and Answer cells.\n",
    "- Please do not change the names of the variables in Answer cells.\n",
    "- If you need to test your code please add the cells in the very <u>end</u> of the notebook.\n"
   ]
  },
  {
   "cell_type": "code",
   "execution_count": null,
   "metadata": {
    "deletable": false,
    "editable": false,
    "nbgrader": {
     "cell_type": "code",
     "checksum": "c6cc1f6aa96eab6a75beff6d070a3297",
     "grade": false,
     "grade_id": "cell-5ebf201ee10a72e6",
     "locked": true,
     "schema_version": 3,
     "solution": false,
     "task": false
    }
   },
   "outputs": [],
   "source": [
    "#Please make sure your Jupyter Notebook environment is running a Python 3 kernel \n",
    "import IPython\n",
    "assert IPython.version_info[0] >= 3, \"Your version of IPython is too old, please update it.\"\n",
    "%autosave 120"
   ]
  },
  {
   "cell_type": "markdown",
   "metadata": {
    "deletable": false,
    "editable": false,
    "nbgrader": {
     "cell_type": "markdown",
     "checksum": "4af0f308605031618b7bb39fb78216bf",
     "grade": false,
     "grade_id": "cell-98b55da8665fbd60",
     "locked": true,
     "schema_version": 3,
     "solution": false,
     "task": false
    }
   },
   "source": [
    "<div class=\"alert alert-warning\"> \n",
    "<b>QUESTION 1:</b> \n",
    "<p>What is the output of the following code?</p>\n",
    "\n",
    "```\n",
    "(17 + 94) / (-5 + 5)\n",
    "```\n",
    "<p> a) 0 </p>\n",
    "<p> b) ValueError </p>\n",
    "<p> c) ZeroDivisionError </p>\n",
    "<p> d) 11.1 </p>\n",
    "\n",
    "</div>"
   ]
  },
  {
   "cell_type": "code",
   "execution_count": null,
   "metadata": {
    "deletable": false,
    "nbgrader": {
     "cell_type": "code",
     "checksum": "82c8eb25abe50ed348dc8f736af7018a",
     "grade": false,
     "grade_id": "cell-e0d81beb6a3c7af4",
     "locked": false,
     "schema_version": 3,
     "solution": true,
     "task": false
    }
   },
   "outputs": [],
   "source": [
    "###ANSWER(1). Please assign the letter representing the correct answer to the variable \n",
    "### (write it down between the \"\")\n",
    "\n",
    "question_1 = \"c\" # YOUR CODE SHOULD BE BETWEEN \"\"\n"
   ]
  },
  {
   "cell_type": "code",
   "execution_count": null,
   "metadata": {
    "deletable": false,
    "editable": false,
    "nbgrader": {
     "cell_type": "code",
     "checksum": "cf45eb9595abe0ce48b2f889965683db",
     "grade": true,
     "grade_id": "cell-cba3c540cf900349",
     "locked": true,
     "points": 10,
     "schema_version": 3,
     "solution": false,
     "task": false
    }
   },
   "outputs": [],
   "source": [
    "#Please leave this cell blank."
   ]
  },
  {
   "cell_type": "markdown",
   "metadata": {
    "deletable": false,
    "editable": false,
    "nbgrader": {
     "cell_type": "markdown",
     "checksum": "d7a424ad6a5066b39fe9e43007cc2afe",
     "grade": false,
     "grade_id": "cell-3bcff1250997bc5f",
     "locked": true,
     "schema_version": 3,
     "solution": false,
     "task": false
    }
   },
   "source": [
    "\n",
    "<div class=\"alert alert-warning\"> \n",
    "<b>QUESTION 2:</b> \n",
    "<p>Which line of the code produces an error?</p>\n",
    "\n",
    "<p> a) </p> \n",
    "\n",
    "``` \n",
    "3 + 4 \n",
    "```\n",
    "\n",
    "<p> b) </p>\n",
    "\n",
    "``` \n",
    "\"one\" + \"2\"\n",
    "```\n",
    "\n",
    "<p> c) </p>\n",
    "\n",
    "``` \n",
    "\"7\" + 'eight'\n",
    "```\n",
    "\n",
    "<p> d) </p>\n",
    "\n",
    "``` \n",
    "\"5\" + 6\n",
    "```\n",
    "</div>"
   ]
  },
  {
   "cell_type": "code",
   "execution_count": null,
   "metadata": {
    "deletable": false,
    "nbgrader": {
     "cell_type": "code",
     "checksum": "7e171faeb253a593e36dce849d3422da",
     "grade": false,
     "grade_id": "cell-6cb6e7cf39a78992",
     "locked": false,
     "schema_version": 3,
     "solution": true,
     "task": false
    }
   },
   "outputs": [],
   "source": [
    "###ANSWER(2). Please assign the letter representing the correct answer to the variable \n",
    "### (write it down between the \"\")\n",
    "\n",
    "question_2 = \"d\"  # YOUR CODE SHOULD BE BETWEEN \"\"\n"
   ]
  },
  {
   "cell_type": "code",
   "execution_count": null,
   "metadata": {
    "deletable": false,
    "editable": false,
    "nbgrader": {
     "cell_type": "code",
     "checksum": "2ce238e0ef27c81ceb6e1fee4e3fb0b1",
     "grade": true,
     "grade_id": "cell-921d56abb23e824f",
     "locked": true,
     "points": 10,
     "schema_version": 3,
     "solution": false,
     "task": false
    }
   },
   "outputs": [],
   "source": [
    "#Please leave this cell blank."
   ]
  },
  {
   "cell_type": "markdown",
   "metadata": {
    "deletable": false,
    "editable": false,
    "nbgrader": {
     "cell_type": "markdown",
     "checksum": "8a963012d736bc537e7d5d71783f538a",
     "grade": false,
     "grade_id": "cell-4669f25fe4591672",
     "locked": true,
     "schema_version": 3,
     "solution": false,
     "task": false
    }
   },
   "source": [
    "\n",
    "<div class=\"alert alert-warning\"> \n",
    "<b>QUESTION 3:</b> \n",
    "<p>What is the output of the following code?</p>\n",
    "\n",
    "```\n",
    "int(\"3\"+\"4\")  \n",
    "```\n",
    "<p> a) \"7\" </p>\n",
    "<p> b) \"34\" </p>\n",
    "<p> c) 34 </p>\n",
    "<p> d) 7 </p>\n",
    "\n",
    "\n",
    "</div>"
   ]
  },
  {
   "cell_type": "code",
   "execution_count": null,
   "metadata": {
    "deletable": false,
    "nbgrader": {
     "cell_type": "code",
     "checksum": "9ae88da44d161bbf545cb3bcf08fa45f",
     "grade": false,
     "grade_id": "cell-fb096ce7347824ff",
     "locked": false,
     "schema_version": 3,
     "solution": true,
     "task": false
    }
   },
   "outputs": [],
   "source": [
    "###ANSWER(3). Please assign the letter representing the correct answer to the variable \n",
    "### (write it down between the \"\")\n",
    "\n",
    "question_3 = \"c\"  # YOUR CODE SHOULD BE BETWEEN \"\"\n"
   ]
  },
  {
   "cell_type": "code",
   "execution_count": null,
   "metadata": {
    "deletable": false,
    "editable": false,
    "nbgrader": {
     "cell_type": "code",
     "checksum": "bbc784eb1a81f8776850440349e77546",
     "grade": true,
     "grade_id": "cell-2670bc0d1519973a",
     "locked": true,
     "points": 10,
     "schema_version": 3,
     "solution": false,
     "task": false
    }
   },
   "outputs": [],
   "source": [
    "#Please leave this cell blank."
   ]
  },
  {
   "cell_type": "markdown",
   "metadata": {
    "deletable": false,
    "editable": false,
    "nbgrader": {
     "cell_type": "markdown",
     "checksum": "3d140a3ab305a42f901ad2e69ebbeaff",
     "grade": false,
     "grade_id": "cell-ee1d8caf2494868e",
     "locked": true,
     "schema_version": 3,
     "solution": false,
     "task": false
    }
   },
   "source": [
    "<div class=\"alert alert-warning\"> \n",
    "<b>QUESTION 4:</b>\n",
    "<p>Complete the code in the answer block so that it prints the following string. Make sure the print out is <u>identical</u>.</p>\n",
    "\n",
    "```\n",
    "In Python, the backslash \"\\\" is a special character.\n",
    "'\\' can be used to represent whitespace characters, for example:\n",
    "\"\\t\" is a tab.\n",
    "```\n",
    "\n",
    "</div>"
   ]
  },
  {
   "cell_type": "code",
   "execution_count": null,
   "metadata": {
    "deletable": false,
    "nbgrader": {
     "cell_type": "code",
     "checksum": "7922164988520e5199e039f33f0d643f",
     "grade": false,
     "grade_id": "cell-dce8c2afc41f3459",
     "locked": false,
     "schema_version": 3,
     "solution": true,
     "task": false
    }
   },
   "outputs": [],
   "source": [
    "###ANSWER(4). Please assign the letter representing the correct answer to the variable \n",
    "### (write it down between the \"\")\n",
    "\n",
    "question_4 = \"\"  # complete the code here\n",
    "print(question_4)\n"
   ]
  },
  {
   "cell_type": "code",
   "execution_count": null,
   "metadata": {
    "deletable": false,
    "editable": false,
    "nbgrader": {
     "cell_type": "code",
     "checksum": "cf22f2eaf6a261228fede677c2a86711",
     "grade": true,
     "grade_id": "cell-9972e45ce533e36a",
     "locked": true,
     "points": 10,
     "schema_version": 3,
     "solution": false,
     "task": false
    }
   },
   "outputs": [],
   "source": [
    "#Please leave this cell blank."
   ]
  },
  {
   "cell_type": "markdown",
   "metadata": {
    "deletable": false,
    "editable": false,
    "nbgrader": {
     "cell_type": "markdown",
     "checksum": "40ad346bfb7ea5359f2e7ef19d93ace4",
     "grade": false,
     "grade_id": "cell-30037c7e37bfd56f",
     "locked": true,
     "schema_version": 3,
     "solution": false,
     "task": false
    }
   },
   "source": [
    "<div class=\"alert alert-warning\"> \n",
    "<b>QUESTION 5:</b>\n",
    "\n",
    "A float number `1.921101` has been assgined to variable `question_5`. Please Use one numerical operation (**do not use subtraction！**) to extract the decimal part of it and assgin the result (which should be `0.921101`) to the same variable.\n",
    "\n",
    "</div>"
   ]
  },
  {
   "cell_type": "code",
   "execution_count": null,
   "metadata": {
    "deletable": false,
    "nbgrader": {
     "cell_type": "code",
     "checksum": "c5efe6b087e16b74c1b61e924ac215f6",
     "grade": false,
     "grade_id": "cell-f89f69faa0faae56",
     "locked": false,
     "schema_version": 3,
     "solution": true,
     "task": false
    }
   },
   "outputs": [],
   "source": [
    "###ANSWER(5). \n",
    "\n",
    "question_5 = 1.921101\n",
    "question_5 =  # Please write your code here\n",
    "print(question_5)\n",
    "\n"
   ]
  },
  {
   "cell_type": "code",
   "execution_count": null,
   "metadata": {
    "deletable": false,
    "editable": false,
    "nbgrader": {
     "cell_type": "code",
     "checksum": "c7f00b850cd6ce2ecb5c8499425ff6d5",
     "grade": true,
     "grade_id": "cell-0786efbbaa00637d",
     "locked": true,
     "points": 10,
     "schema_version": 3,
     "solution": false,
     "task": false
    }
   },
   "outputs": [],
   "source": [
    "#Please leave this cell blank.\n"
   ]
  },
  {
   "cell_type": "markdown",
   "metadata": {
    "deletable": false,
    "editable": false,
    "nbgrader": {
     "cell_type": "markdown",
     "checksum": "b6336c0313a39baf29fc9943a610d0ab",
     "grade": false,
     "grade_id": "cell-f7629f6c29ff8e62",
     "locked": true,
     "schema_version": 3,
     "solution": false,
     "task": false
    }
   },
   "source": [
    "<div class=\"alert alert-warning\"> \n",
    "<b>QUESTION 6:</b>\n",
    "<p>Convert the following number into an integer.</p>\n",
    "\n",
    "```\n",
    "6.87775\n",
    "```\n",
    "\n",
    "</div>\n"
   ]
  },
  {
   "cell_type": "code",
   "execution_count": null,
   "metadata": {
    "deletable": false,
    "nbgrader": {
     "cell_type": "code",
     "checksum": "8944c0db43fae4a7ce66c5e4890f75ee",
     "grade": false,
     "grade_id": "cell-ee7caebdc68636ed",
     "locked": false,
     "schema_version": 3,
     "solution": true,
     "task": false
    }
   },
   "outputs": [],
   "source": [
    "###ANSWER(6). Please assign the code to solve the above question to the below variable.\n",
    "\n",
    "question_6 =  ### Write the code here \n"
   ]
  },
  {
   "cell_type": "code",
   "execution_count": null,
   "metadata": {
    "deletable": false,
    "editable": false,
    "nbgrader": {
     "cell_type": "code",
     "checksum": "960d7b4ad62a4054a36e0b524e468672",
     "grade": true,
     "grade_id": "cell-72b7f5152c62f4e9",
     "locked": true,
     "points": 10,
     "schema_version": 3,
     "solution": false,
     "task": false
    }
   },
   "outputs": [],
   "source": [
    "#Please leave this cell blank."
   ]
  },
  {
   "cell_type": "markdown",
   "metadata": {
    "deletable": false,
    "editable": false,
    "nbgrader": {
     "cell_type": "markdown",
     "checksum": "2249df6e53179b1190f69b72d5b0942f",
     "grade": false,
     "grade_id": "cell-0acb971ad8d42493",
     "locked": true,
     "schema_version": 3,
     "solution": false,
     "task": false
    }
   },
   "source": [
    "<div class=\"alert alert-warning\"> \n",
    "\n",
    "<b>QUESTION 7:</b> Write the code representing the below equation as an <u>integer</u> and assign it as a variable (write the code calculating the equation after the = sign in the cell below).\n",
    "\n",
    "$\\ \\sqrt[3]{(6^7+4^6)}$\n",
    "\n",
    "\n",
    "</div>"
   ]
  },
  {
   "cell_type": "code",
   "execution_count": null,
   "metadata": {
    "deletable": false,
    "nbgrader": {
     "cell_type": "code",
     "checksum": "001da7f8b42fed1c66ed9f693e9e7658",
     "grade": false,
     "grade_id": "cell-341367a5ed5ff48a",
     "locked": false,
     "schema_version": 3,
     "solution": true,
     "task": false
    }
   },
   "outputs": [],
   "source": [
    "###ANSWER(7). Define variable question_7 as the code that calculates the above equation, \n",
    "### make sure it returns an integer.\n",
    "\n",
    "question_7 = ### Write the code here\n"
   ]
  },
  {
   "cell_type": "code",
   "execution_count": null,
   "metadata": {
    "deletable": false,
    "editable": false,
    "nbgrader": {
     "cell_type": "code",
     "checksum": "174800ecc1fc9140ee92f36bf73d2d67",
     "grade": true,
     "grade_id": "cell-0ee8aebc7e465bf3",
     "locked": true,
     "points": 10,
     "schema_version": 3,
     "solution": false,
     "task": false
    }
   },
   "outputs": [],
   "source": [
    "#Please leave this cell blank."
   ]
  },
  {
   "cell_type": "markdown",
   "metadata": {
    "deletable": false,
    "editable": false,
    "nbgrader": {
     "cell_type": "markdown",
     "checksum": "12ec2719c40def049ac43eb55158b3cc",
     "grade": false,
     "grade_id": "cell-b42365e6bb623be7",
     "locked": true,
     "schema_version": 3,
     "solution": false,
     "task": false
    }
   },
   "source": [
    "<div class=\"alert alert-warning\"> \n",
    "\n",
    "<b>QUESTION 8:</b> Please write a code that returns the below string by using an operation on the variable <code>language</code>:\n",
    "\n",
    "```\n",
    "PythonPythonPython\n",
    "```\n",
    "\n",
    "</div>"
   ]
  },
  {
   "cell_type": "code",
   "execution_count": null,
   "metadata": {
    "deletable": false,
    "nbgrader": {
     "cell_type": "code",
     "checksum": "469c93209bdcc41d2aa3cbcf1c91d9c1",
     "grade": false,
     "grade_id": "cell-cede877bf1ea4a42",
     "locked": false,
     "schema_version": 3,
     "solution": true,
     "task": false
    }
   },
   "outputs": [],
   "source": [
    "###ANSWER(8). Please assign the code to solve the above question to the below variable.\n",
    "language = \"Python\"\n",
    "question_8 =  ### Write the code here \n",
    "print(question_8)\n"
   ]
  },
  {
   "cell_type": "code",
   "execution_count": null,
   "metadata": {
    "deletable": false,
    "editable": false,
    "nbgrader": {
     "cell_type": "code",
     "checksum": "ed277b35c865b95885f0bdaef145d824",
     "grade": true,
     "grade_id": "cell-2a7f5ed206b4e922",
     "locked": true,
     "points": 10,
     "schema_version": 3,
     "solution": false,
     "task": false
    }
   },
   "outputs": [],
   "source": [
    "#Please leave this cell blank."
   ]
  },
  {
   "cell_type": "markdown",
   "metadata": {
    "deletable": false,
    "editable": false,
    "nbgrader": {
     "cell_type": "markdown",
     "checksum": "de6c8b8d29017b2f486d03d48f74dd8f",
     "grade": false,
     "grade_id": "cell-29f8f084736ffa1d",
     "locked": true,
     "schema_version": 3,
     "solution": false,
     "task": false
    }
   },
   "source": [
    "<div class=\"alert alert-warning\"> \n",
    "\n",
    "<b>QUESTION 9:</b> Assign a variable ```question_9``` to the string, which returns the below string when printed:\n",
    "```\n",
    "U\n",
    "C\n",
    "L\n",
    "```\n",
    "Make sure the string when printed returns each letter in a new line.\n",
    "\n",
    "\n",
    "</div>\n"
   ]
  },
  {
   "cell_type": "code",
   "execution_count": null,
   "metadata": {
    "deletable": false,
    "nbgrader": {
     "cell_type": "code",
     "checksum": "f6636803c0d58437fff0e4c456e95144",
     "grade": false,
     "grade_id": "cell-8a693c573229c56b",
     "locked": false,
     "schema_version": 3,
     "solution": true,
     "task": false
    }
   },
   "outputs": [],
   "source": [
    "###ANSWER(9). Define variable question_9 as the string in from Question 9.\n",
    "\n",
    "\n",
    "question_9 =  ### Write the code here\n",
    "print(question_9)\n"
   ]
  },
  {
   "cell_type": "code",
   "execution_count": null,
   "metadata": {
    "deletable": false,
    "editable": false,
    "nbgrader": {
     "cell_type": "code",
     "checksum": "bb5536e393d577dbb5f25740a125f42d",
     "grade": true,
     "grade_id": "cell-3aae5fa017d9becc",
     "locked": true,
     "points": 10,
     "schema_version": 3,
     "solution": false,
     "task": false
    }
   },
   "outputs": [],
   "source": [
    "#Please leave this cell blank."
   ]
  },
  {
   "cell_type": "markdown",
   "metadata": {
    "deletable": false,
    "editable": false,
    "nbgrader": {
     "cell_type": "markdown",
     "checksum": "402f157ff934c118439957b03d31e2ab",
     "grade": false,
     "grade_id": "cell-b021fb467e30ede7",
     "locked": true,
     "schema_version": 3,
     "solution": false,
     "task": false
    }
   },
   "source": [
    "\n",
    "<div class=\"alert alert-warning\"> \n",
    "\n",
    "<b>QUESTION 10:</b> What is the values of <code>y</code> in the below example?\n",
    "```\n",
    "x = 7\n",
    "y = x + 3\n",
    "y = int(str(y) + \"8\")\n",
    "```\n",
    "Assign the value of <code>y</code> to the variable <code>question_10</code> in the below cell.\n",
    "\n",
    "</div>"
   ]
  },
  {
   "cell_type": "code",
   "execution_count": null,
   "metadata": {
    "deletable": false,
    "nbgrader": {
     "cell_type": "code",
     "checksum": "9a4b51559919a040758dd2866986c5af",
     "grade": false,
     "grade_id": "cell-0130c554358c68da",
     "locked": false,
     "schema_version": 3,
     "solution": true,
     "task": false
    }
   },
   "outputs": [],
   "source": [
    "###ANSWER(10). Please assign the value from the above question to the below variable.\n",
    "\n",
    "question_10 = 108 ### Write the code here \n"
   ]
  },
  {
   "cell_type": "code",
   "execution_count": null,
   "metadata": {
    "deletable": false,
    "editable": false,
    "nbgrader": {
     "cell_type": "code",
     "checksum": "99a9f1e26f50cebd9b7377677fb6f8f3",
     "grade": true,
     "grade_id": "cell-757a83ff06838fd3",
     "locked": true,
     "points": 10,
     "schema_version": 3,
     "solution": false,
     "task": false
    }
   },
   "outputs": [],
   "source": [
    "#Please leave this cell blank."
   ]
  }
 ],
 "metadata": {
  "kernelspec": {
   "display_name": "Python 3",
   "language": "python",
   "name": "python3"
  },
  "language_info": {
   "codemirror_mode": {
    "name": "ipython",
    "version": 3
   },
   "file_extension": ".py",
   "mimetype": "text/x-python",
   "name": "python",
   "nbconvert_exporter": "python",
   "pygments_lexer": "ipython3",
   "version": "3.7.2"
  }
 },
 "nbformat": 4,
 "nbformat_minor": 4
}
